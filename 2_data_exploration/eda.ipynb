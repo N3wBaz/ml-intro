{
  "cells": [
    {
      "cell_type": "markdown",
      "metadata": {
        "id": "view-in-github",
        "colab_type": "text"
      },
      "source": [
        "<a href=\"https://colab.research.google.com/github/N3wBaz/ml-intro/blob/2022/2_data_exploration/eda.ipynb\" target=\"_parent\"><img src=\"https://colab.research.google.com/assets/colab-badge.svg\" alt=\"Open In Colab\"/></a>"
      ]
    },
    {
      "cell_type": "code",
      "execution_count": null,
      "metadata": {
        "colab": {
          "base_uri": "https://localhost:8080/"
        },
        "id": "uN20a1la7P6d",
        "outputId": "3096f1b0-0494-49a2-8d34-80e2bc6ead50"
      },
      "outputs": [
        {
          "output_type": "stream",
          "name": "stdout",
          "text": [
            "Drive already mounted at /content/gdrive/; to attempt to forcibly remount, call drive.mount(\"/content/gdrive/\", force_remount=True).\n"
          ]
        }
      ],
      "source": [
        "# from google.colab import drive\n",
        "# drive.mount('/content/gdrive/')"
      ],
      "id": "uN20a1la7P6d"
    },
    {
      "cell_type": "markdown",
      "metadata": {
        "id": "d07912a0"
      },
      "source": [
        "# Context"
      ],
      "id": "d07912a0"
    },
    {
      "cell_type": "code",
      "execution_count": null,
      "metadata": {
        "id": "ADbutD_1G7rD"
      },
      "outputs": [],
      "source": [
        "# Import libruaries\n",
        "\n",
        "import pandas as pd\n",
        "import numpy as np\n",
        "import matplotlib.pyplot as plt\n",
        "import seaborn as sns"
      ],
      "id": "ADbutD_1G7rD"
    },
    {
      "cell_type": "code",
      "execution_count": null,
      "metadata": {
        "id": "d9M4_vVyH7rB"
      },
      "outputs": [],
      "source": [
        "# Читаем датасет из файла\n",
        "\n",
        "# data_filepath = \"/content/gdrive/MyDrive/RS_school_course/2_eda/train.csv.zip\"\n",
        "# Если не пойдет пропишите пожалуйста путь к датасету у вас, просто я делал в google Colaboratory.\n",
        "data_filepath = \"RS_school_course/2_eda/train.csv.zip\"\n",
        "original_data = pd.read_csv(data_filepath)"
      ],
      "id": "d9M4_vVyH7rB"
    },
    {
      "cell_type": "code",
      "execution_count": null,
      "metadata": {
        "colab": {
          "base_uri": "https://localhost:8080/",
          "height": 143
        },
        "id": "6b981d68",
        "outputId": "322249b1-2fbe-4e0b-d3de-94ca82d4bebc"
      },
      "outputs": [
        {
          "output_type": "execute_result",
          "data": {
            "text/html": [
              "\n",
              "  <div id=\"df-6e392eb2-3cfd-4964-8df0-aa7e359fc557\">\n",
              "    <div class=\"colab-df-container\">\n",
              "      <div>\n",
              "<style scoped>\n",
              "    .dataframe tbody tr th:only-of-type {\n",
              "        vertical-align: middle;\n",
              "    }\n",
              "\n",
              "    .dataframe tbody tr th {\n",
              "        vertical-align: top;\n",
              "    }\n",
              "\n",
              "    .dataframe thead th {\n",
              "        text-align: right;\n",
              "    }\n",
              "</style>\n",
              "<table border=\"1\" class=\"dataframe\">\n",
              "  <thead>\n",
              "    <tr style=\"text-align: right;\">\n",
              "      <th></th>\n",
              "      <th>PassengerId</th>\n",
              "      <th>Survived</th>\n",
              "      <th>Pclass</th>\n",
              "      <th>Name</th>\n",
              "      <th>Sex</th>\n",
              "      <th>Age</th>\n",
              "      <th>SibSp</th>\n",
              "      <th>Parch</th>\n",
              "      <th>Ticket</th>\n",
              "      <th>Fare</th>\n",
              "      <th>Cabin</th>\n",
              "      <th>Embarked</th>\n",
              "    </tr>\n",
              "  </thead>\n",
              "  <tbody>\n",
              "    <tr>\n",
              "      <th>0</th>\n",
              "      <td>0</td>\n",
              "      <td>1</td>\n",
              "      <td>1</td>\n",
              "      <td>Oconnor, Frankie</td>\n",
              "      <td>male</td>\n",
              "      <td>NaN</td>\n",
              "      <td>2</td>\n",
              "      <td>0</td>\n",
              "      <td>209245</td>\n",
              "      <td>27.14</td>\n",
              "      <td>C12239</td>\n",
              "      <td>S</td>\n",
              "    </tr>\n",
              "    <tr>\n",
              "      <th>1</th>\n",
              "      <td>1</td>\n",
              "      <td>0</td>\n",
              "      <td>3</td>\n",
              "      <td>Bryan, Drew</td>\n",
              "      <td>male</td>\n",
              "      <td>NaN</td>\n",
              "      <td>0</td>\n",
              "      <td>0</td>\n",
              "      <td>27323</td>\n",
              "      <td>13.35</td>\n",
              "      <td>NaN</td>\n",
              "      <td>S</td>\n",
              "    </tr>\n",
              "    <tr>\n",
              "      <th>2</th>\n",
              "      <td>2</td>\n",
              "      <td>0</td>\n",
              "      <td>3</td>\n",
              "      <td>Owens, Kenneth</td>\n",
              "      <td>male</td>\n",
              "      <td>0.33</td>\n",
              "      <td>1</td>\n",
              "      <td>2</td>\n",
              "      <td>CA 457703</td>\n",
              "      <td>71.29</td>\n",
              "      <td>NaN</td>\n",
              "      <td>S</td>\n",
              "    </tr>\n",
              "  </tbody>\n",
              "</table>\n",
              "</div>\n",
              "      <button class=\"colab-df-convert\" onclick=\"convertToInteractive('df-6e392eb2-3cfd-4964-8df0-aa7e359fc557')\"\n",
              "              title=\"Convert this dataframe to an interactive table.\"\n",
              "              style=\"display:none;\">\n",
              "        \n",
              "  <svg xmlns=\"http://www.w3.org/2000/svg\" height=\"24px\"viewBox=\"0 0 24 24\"\n",
              "       width=\"24px\">\n",
              "    <path d=\"M0 0h24v24H0V0z\" fill=\"none\"/>\n",
              "    <path d=\"M18.56 5.44l.94 2.06.94-2.06 2.06-.94-2.06-.94-.94-2.06-.94 2.06-2.06.94zm-11 1L8.5 8.5l.94-2.06 2.06-.94-2.06-.94L8.5 2.5l-.94 2.06-2.06.94zm10 10l.94 2.06.94-2.06 2.06-.94-2.06-.94-.94-2.06-.94 2.06-2.06.94z\"/><path d=\"M17.41 7.96l-1.37-1.37c-.4-.4-.92-.59-1.43-.59-.52 0-1.04.2-1.43.59L10.3 9.45l-7.72 7.72c-.78.78-.78 2.05 0 2.83L4 21.41c.39.39.9.59 1.41.59.51 0 1.02-.2 1.41-.59l7.78-7.78 2.81-2.81c.8-.78.8-2.07 0-2.86zM5.41 20L4 18.59l7.72-7.72 1.47 1.35L5.41 20z\"/>\n",
              "  </svg>\n",
              "      </button>\n",
              "      \n",
              "  <style>\n",
              "    .colab-df-container {\n",
              "      display:flex;\n",
              "      flex-wrap:wrap;\n",
              "      gap: 12px;\n",
              "    }\n",
              "\n",
              "    .colab-df-convert {\n",
              "      background-color: #E8F0FE;\n",
              "      border: none;\n",
              "      border-radius: 50%;\n",
              "      cursor: pointer;\n",
              "      display: none;\n",
              "      fill: #1967D2;\n",
              "      height: 32px;\n",
              "      padding: 0 0 0 0;\n",
              "      width: 32px;\n",
              "    }\n",
              "\n",
              "    .colab-df-convert:hover {\n",
              "      background-color: #E2EBFA;\n",
              "      box-shadow: 0px 1px 2px rgba(60, 64, 67, 0.3), 0px 1px 3px 1px rgba(60, 64, 67, 0.15);\n",
              "      fill: #174EA6;\n",
              "    }\n",
              "\n",
              "    [theme=dark] .colab-df-convert {\n",
              "      background-color: #3B4455;\n",
              "      fill: #D2E3FC;\n",
              "    }\n",
              "\n",
              "    [theme=dark] .colab-df-convert:hover {\n",
              "      background-color: #434B5C;\n",
              "      box-shadow: 0px 1px 3px 1px rgba(0, 0, 0, 0.15);\n",
              "      filter: drop-shadow(0px 1px 2px rgba(0, 0, 0, 0.3));\n",
              "      fill: #FFFFFF;\n",
              "    }\n",
              "  </style>\n",
              "\n",
              "      <script>\n",
              "        const buttonEl =\n",
              "          document.querySelector('#df-6e392eb2-3cfd-4964-8df0-aa7e359fc557 button.colab-df-convert');\n",
              "        buttonEl.style.display =\n",
              "          google.colab.kernel.accessAllowed ? 'block' : 'none';\n",
              "\n",
              "        async function convertToInteractive(key) {\n",
              "          const element = document.querySelector('#df-6e392eb2-3cfd-4964-8df0-aa7e359fc557');\n",
              "          const dataTable =\n",
              "            await google.colab.kernel.invokeFunction('convertToInteractive',\n",
              "                                                     [key], {});\n",
              "          if (!dataTable) return;\n",
              "\n",
              "          const docLinkHtml = 'Like what you see? Visit the ' +\n",
              "            '<a target=\"_blank\" href=https://colab.research.google.com/notebooks/data_table.ipynb>data table notebook</a>'\n",
              "            + ' to learn more about interactive tables.';\n",
              "          element.innerHTML = '';\n",
              "          dataTable['output_type'] = 'display_data';\n",
              "          await google.colab.output.renderOutput(dataTable, element);\n",
              "          const docLink = document.createElement('div');\n",
              "          docLink.innerHTML = docLinkHtml;\n",
              "          element.appendChild(docLink);\n",
              "        }\n",
              "      </script>\n",
              "    </div>\n",
              "  </div>\n",
              "  "
            ],
            "text/plain": [
              "   PassengerId  Survived  Pclass              Name   Sex   Age  SibSp  Parch  \\\n",
              "0            0         1       1  Oconnor, Frankie  male   NaN      2      0   \n",
              "1            1         0       3       Bryan, Drew  male   NaN      0      0   \n",
              "2            2         0       3    Owens, Kenneth  male  0.33      1      2   \n",
              "\n",
              "      Ticket   Fare   Cabin Embarked  \n",
              "0     209245  27.14  C12239        S  \n",
              "1      27323  13.35     NaN        S  \n",
              "2  CA 457703  71.29     NaN        S  "
            ]
          },
          "metadata": {},
          "execution_count": 400
        }
      ],
      "source": [
        "original_data.head(3)"
      ],
      "id": "6b981d68"
    },
    {
      "cell_type": "markdown",
      "metadata": {
        "id": "9b4320c6"
      },
      "source": [
        "# Data quality assessment"
      ],
      "id": "9b4320c6"
    },
    {
      "cell_type": "markdown",
      "source": [
        "Оценка качества данных является необходимым шагов задачи анализа данных. Так как работая с некачественными данными можно получить некорректный результат. В данном случае выделим следующие этапы:\n",
        "\n",
        "*   поиск пропущеных значений\n",
        "*   поиск дубликатов\n",
        "*   проверка на выбросы\n",
        "\n",
        "\n",
        "\n"
      ],
      "metadata": {
        "id": "UwhiBJ3M_66T"
      },
      "id": "UwhiBJ3M_66T"
    },
    {
      "cell_type": "code",
      "source": [
        "# Посмотрим на данные\n",
        "\n",
        "original_data.info()"
      ],
      "metadata": {
        "colab": {
          "base_uri": "https://localhost:8080/"
        },
        "id": "ZgVBE4hUWppn",
        "outputId": "537953bc-dd71-4ce6-9cd5-26cc6559a8a2"
      },
      "id": "ZgVBE4hUWppn",
      "execution_count": null,
      "outputs": [
        {
          "output_type": "stream",
          "name": "stdout",
          "text": [
            "<class 'pandas.core.frame.DataFrame'>\n",
            "RangeIndex: 100000 entries, 0 to 99999\n",
            "Data columns (total 12 columns):\n",
            " #   Column       Non-Null Count   Dtype  \n",
            "---  ------       --------------   -----  \n",
            " 0   PassengerId  100000 non-null  int64  \n",
            " 1   Survived     100000 non-null  int64  \n",
            " 2   Pclass       100000 non-null  int64  \n",
            " 3   Name         100000 non-null  object \n",
            " 4   Sex          100000 non-null  object \n",
            " 5   Age          96708 non-null   float64\n",
            " 6   SibSp        100000 non-null  int64  \n",
            " 7   Parch        100000 non-null  int64  \n",
            " 8   Ticket       95377 non-null   object \n",
            " 9   Fare         99866 non-null   float64\n",
            " 10  Cabin        32134 non-null   object \n",
            " 11  Embarked     99750 non-null   object \n",
            "dtypes: float64(2), int64(5), object(5)\n",
            "memory usage: 9.2+ MB\n"
          ]
        }
      ]
    },
    {
      "cell_type": "code",
      "source": [
        "# Поменяем тип данных с int64 и object на category для Survived, Pclass, Sex, SibSp, Parch, Embarked\n",
        "\n",
        "original_data['Survived'] = original_data['Survived'].astype('category')\n",
        "original_data['Pclass'] = original_data['Pclass'].astype('category')\n",
        "original_data['Sex'] = original_data['Sex'].astype('category')\n",
        "original_data['SibSp'] = original_data['SibSp'].astype('category')\n",
        "original_data['Parch'] = original_data['Parch'].astype('category')\n",
        "original_data['Embarked'] = original_data['Embarked'].astype('category')"
      ],
      "metadata": {
        "id": "P0IRuXiIEzyp"
      },
      "id": "P0IRuXiIEzyp",
      "execution_count": null,
      "outputs": []
    },
    {
      "cell_type": "code",
      "source": [
        "# После смены типа данных уменьшился объем используемой памяти с 9.2 до 5.2\n",
        "\n",
        "original_data.info()"
      ],
      "metadata": {
        "colab": {
          "base_uri": "https://localhost:8080/"
        },
        "id": "F7biSVm5GQKB",
        "outputId": "ebeebb24-cf6c-4d79-a17d-f4fbfdb2e099"
      },
      "id": "F7biSVm5GQKB",
      "execution_count": null,
      "outputs": [
        {
          "output_type": "stream",
          "name": "stdout",
          "text": [
            "<class 'pandas.core.frame.DataFrame'>\n",
            "RangeIndex: 100000 entries, 0 to 99999\n",
            "Data columns (total 12 columns):\n",
            " #   Column       Non-Null Count   Dtype   \n",
            "---  ------       --------------   -----   \n",
            " 0   PassengerId  100000 non-null  int64   \n",
            " 1   Survived     100000 non-null  category\n",
            " 2   Pclass       100000 non-null  category\n",
            " 3   Name         100000 non-null  object  \n",
            " 4   Sex          100000 non-null  category\n",
            " 5   Age          96708 non-null   float64 \n",
            " 6   SibSp        100000 non-null  category\n",
            " 7   Parch        100000 non-null  category\n",
            " 8   Ticket       95377 non-null   object  \n",
            " 9   Fare         99866 non-null   float64 \n",
            " 10  Cabin        32134 non-null   object  \n",
            " 11  Embarked     99750 non-null   category\n",
            "dtypes: category(6), float64(2), int64(1), object(3)\n",
            "memory usage: 5.2+ MB\n"
          ]
        }
      ]
    },
    {
      "cell_type": "markdown",
      "source": [
        "Проверка на пропущенные значение"
      ],
      "metadata": {
        "id": "76ZSgYdGHjMn"
      },
      "id": "76ZSgYdGHjMn"
    },
    {
      "cell_type": "code",
      "execution_count": null,
      "metadata": {
        "colab": {
          "base_uri": "https://localhost:8080/"
        },
        "id": "poR7pP_oInEX",
        "outputId": "2b054dd8-fe28-4078-d0ab-e288e37065f7"
      },
      "outputs": [
        {
          "output_type": "stream",
          "name": "stdout",
          "text": [
            "PassengerId        0\n",
            "Survived           0\n",
            "Pclass             0\n",
            "Name               0\n",
            "Sex                0\n",
            "Age             3292\n",
            "SibSp              0\n",
            "Parch              0\n",
            "Ticket          4623\n",
            "Fare             134\n",
            "Cabin          67866\n",
            "Embarked         250\n",
            "dtype: int64\n",
            "\n",
            "Количество пропущенных значений по категориям в %\n",
            "Age :   3.292 %\n",
            "Ticket :   4.623 %\n",
            "Fare :   0.134 %\n",
            "Cabin :   67.866 %\n",
            "Embarked :   0.25 %\n"
          ]
        }
      ],
      "source": [
        "# Проверим наш датасет на пропуски и нулевые значения\n",
        "\n",
        "mis_data = original_data.isnull().sum()\n",
        "print(mis_data)\n",
        "print('\\nКоличество пропущенных значений по категориям в %')\n",
        "for i, v in enumerate(mis_data.values):\n",
        "    if v:\n",
        "        print(f\"{mis_data.index[i]} :   {(v / original_data.shape[0]) * 100} %\")"
      ],
      "id": "poR7pP_oInEX"
    },
    {
      "cell_type": "code",
      "source": [
        "# В категории Cabin отсутствует почти 70% всех значений, такое количество не восполнить средним, медианой или еще каким нибудь способом.\n",
        "# Не будем учитывать номер каюты"
      ],
      "metadata": {
        "id": "b9rdRE1FpsRi"
      },
      "id": "b9rdRE1FpsRi",
      "execution_count": null,
      "outputs": []
    },
    {
      "cell_type": "markdown",
      "source": [
        "Проверка данных на дубликаты"
      ],
      "metadata": {
        "id": "SiFjjVHgUhqW"
      },
      "id": "SiFjjVHgUhqW"
    },
    {
      "cell_type": "code",
      "source": [
        "# Проверим весь датасет на полное повторения записей\n",
        "original_data.duplicated(keep=False).value_counts()"
      ],
      "metadata": {
        "colab": {
          "base_uri": "https://localhost:8080/"
        },
        "id": "iSPkXr1u2gL1",
        "outputId": "31bb1f25-20b7-49f3-8300-898732634588"
      },
      "id": "iSPkXr1u2gL1",
      "execution_count": null,
      "outputs": [
        {
          "output_type": "execute_result",
          "data": {
            "text/plain": [
              "False    100000\n",
              "dtype: int64"
            ]
          },
          "metadata": {},
          "execution_count": 405
        }
      ]
    },
    {
      "cell_type": "markdown",
      "source": [
        "Повторений записей целиком нет. Проверим дубликаты по категориям Name, Ticket, Cabin, Fare."
      ],
      "metadata": {
        "id": "_0HBxANb27D6"
      },
      "id": "_0HBxANb27D6"
    },
    {
      "cell_type": "code",
      "source": [
        "dub_name = original_data.duplicated(subset=['Name'], keep='first')\n",
        "dub_ticket = original_data.duplicated(subset=['Ticket'], keep='first')\n",
        "dub_cabin = original_data.duplicated(subset=['Cabin'], keep='first')\n",
        "dub_pass = original_data.duplicated(subset=['Fare'], keep='first')\n",
        "\n",
        "print(f\"Количество повторов в категории 'Name' : {dub_name.value_counts().values[1]}\")\n",
        "print(f\"Количество повторов в категории 'Ticket' : {dub_ticket.value_counts().values[1]}\")\n",
        "print(f\"Количество повторов в категории 'Cabin' : {dub_cabin.value_counts().values[1]}\")\n",
        "print(f\"Количество повторов в категории 'Fare' : {dub_pass.value_counts().values[1]}\")"
      ],
      "metadata": {
        "colab": {
          "base_uri": "https://localhost:8080/"
        },
        "id": "hTIwJd5iLsdo",
        "outputId": "fdd281f6-e1d1-4178-c546-81ea58e5de5b"
      },
      "id": "hTIwJd5iLsdo",
      "execution_count": null,
      "outputs": [
        {
          "output_type": "stream",
          "name": "stdout",
          "text": [
            "Количество повторов в категории 'Name' : 7856\n",
            "Количество повторов в категории 'Ticket' : 24668\n",
            "Количество повторов в категории 'Cabin' : 26993\n",
            "Количество повторов в категории 'Fare' : 15936\n"
          ]
        }
      ]
    },
    {
      "cell_type": "markdown",
      "source": [
        "Видно, что по отдельным категориям есть повторения. Посмотрим, например, на категорию Name упорядоченную по значениям"
      ],
      "metadata": {
        "id": "05gZcv_v2ZFk"
      },
      "id": "05gZcv_v2ZFk"
    },
    {
      "cell_type": "code",
      "source": [
        "dub_name_all = original_data.duplicated(subset=['Name'], keep=False)\n",
        "original_data[dub_name_all].sort_values(by=[\"Name\"]).head(5)"
      ],
      "metadata": {
        "colab": {
          "base_uri": "https://localhost:8080/",
          "height": 206
        },
        "id": "5jEDbxps3diy",
        "outputId": "d3647534-d882-475f-f7c1-2cb6c36cfd68"
      },
      "id": "5jEDbxps3diy",
      "execution_count": null,
      "outputs": [
        {
          "output_type": "execute_result",
          "data": {
            "text/html": [
              "\n",
              "  <div id=\"df-be0f1bba-607c-4fb8-88a7-abba15f9681f\">\n",
              "    <div class=\"colab-df-container\">\n",
              "      <div>\n",
              "<style scoped>\n",
              "    .dataframe tbody tr th:only-of-type {\n",
              "        vertical-align: middle;\n",
              "    }\n",
              "\n",
              "    .dataframe tbody tr th {\n",
              "        vertical-align: top;\n",
              "    }\n",
              "\n",
              "    .dataframe thead th {\n",
              "        text-align: right;\n",
              "    }\n",
              "</style>\n",
              "<table border=\"1\" class=\"dataframe\">\n",
              "  <thead>\n",
              "    <tr style=\"text-align: right;\">\n",
              "      <th></th>\n",
              "      <th>PassengerId</th>\n",
              "      <th>Survived</th>\n",
              "      <th>Pclass</th>\n",
              "      <th>Name</th>\n",
              "      <th>Sex</th>\n",
              "      <th>Age</th>\n",
              "      <th>SibSp</th>\n",
              "      <th>Parch</th>\n",
              "      <th>Ticket</th>\n",
              "      <th>Fare</th>\n",
              "      <th>Cabin</th>\n",
              "      <th>Embarked</th>\n",
              "    </tr>\n",
              "  </thead>\n",
              "  <tbody>\n",
              "    <tr>\n",
              "      <th>83433</th>\n",
              "      <td>83433</td>\n",
              "      <td>0</td>\n",
              "      <td>1</td>\n",
              "      <td>Abbott, Steven</td>\n",
              "      <td>male</td>\n",
              "      <td>62.0</td>\n",
              "      <td>1</td>\n",
              "      <td>1</td>\n",
              "      <td>C.A. 415184</td>\n",
              "      <td>81.79</td>\n",
              "      <td>A15776</td>\n",
              "      <td>S</td>\n",
              "    </tr>\n",
              "    <tr>\n",
              "      <th>43514</th>\n",
              "      <td>43514</td>\n",
              "      <td>0</td>\n",
              "      <td>3</td>\n",
              "      <td>Abbott, Steven</td>\n",
              "      <td>male</td>\n",
              "      <td>39.0</td>\n",
              "      <td>0</td>\n",
              "      <td>0</td>\n",
              "      <td>44125</td>\n",
              "      <td>23.38</td>\n",
              "      <td>NaN</td>\n",
              "      <td>S</td>\n",
              "    </tr>\n",
              "    <tr>\n",
              "      <th>11074</th>\n",
              "      <td>11074</td>\n",
              "      <td>0</td>\n",
              "      <td>3</td>\n",
              "      <td>Acevedo, James</td>\n",
              "      <td>male</td>\n",
              "      <td>51.0</td>\n",
              "      <td>0</td>\n",
              "      <td>0</td>\n",
              "      <td>NaN</td>\n",
              "      <td>29.08</td>\n",
              "      <td>NaN</td>\n",
              "      <td>S</td>\n",
              "    </tr>\n",
              "    <tr>\n",
              "      <th>40840</th>\n",
              "      <td>40840</td>\n",
              "      <td>0</td>\n",
              "      <td>1</td>\n",
              "      <td>Acevedo, James</td>\n",
              "      <td>male</td>\n",
              "      <td>NaN</td>\n",
              "      <td>0</td>\n",
              "      <td>0</td>\n",
              "      <td>420535</td>\n",
              "      <td>102.87</td>\n",
              "      <td>A10333</td>\n",
              "      <td>S</td>\n",
              "    </tr>\n",
              "    <tr>\n",
              "      <th>39910</th>\n",
              "      <td>39910</td>\n",
              "      <td>0</td>\n",
              "      <td>3</td>\n",
              "      <td>Acosta, David</td>\n",
              "      <td>male</td>\n",
              "      <td>23.0</td>\n",
              "      <td>0</td>\n",
              "      <td>0</td>\n",
              "      <td>30739</td>\n",
              "      <td>12.56</td>\n",
              "      <td>NaN</td>\n",
              "      <td>S</td>\n",
              "    </tr>\n",
              "  </tbody>\n",
              "</table>\n",
              "</div>\n",
              "      <button class=\"colab-df-convert\" onclick=\"convertToInteractive('df-be0f1bba-607c-4fb8-88a7-abba15f9681f')\"\n",
              "              title=\"Convert this dataframe to an interactive table.\"\n",
              "              style=\"display:none;\">\n",
              "        \n",
              "  <svg xmlns=\"http://www.w3.org/2000/svg\" height=\"24px\"viewBox=\"0 0 24 24\"\n",
              "       width=\"24px\">\n",
              "    <path d=\"M0 0h24v24H0V0z\" fill=\"none\"/>\n",
              "    <path d=\"M18.56 5.44l.94 2.06.94-2.06 2.06-.94-2.06-.94-.94-2.06-.94 2.06-2.06.94zm-11 1L8.5 8.5l.94-2.06 2.06-.94-2.06-.94L8.5 2.5l-.94 2.06-2.06.94zm10 10l.94 2.06.94-2.06 2.06-.94-2.06-.94-.94-2.06-.94 2.06-2.06.94z\"/><path d=\"M17.41 7.96l-1.37-1.37c-.4-.4-.92-.59-1.43-.59-.52 0-1.04.2-1.43.59L10.3 9.45l-7.72 7.72c-.78.78-.78 2.05 0 2.83L4 21.41c.39.39.9.59 1.41.59.51 0 1.02-.2 1.41-.59l7.78-7.78 2.81-2.81c.8-.78.8-2.07 0-2.86zM5.41 20L4 18.59l7.72-7.72 1.47 1.35L5.41 20z\"/>\n",
              "  </svg>\n",
              "      </button>\n",
              "      \n",
              "  <style>\n",
              "    .colab-df-container {\n",
              "      display:flex;\n",
              "      flex-wrap:wrap;\n",
              "      gap: 12px;\n",
              "    }\n",
              "\n",
              "    .colab-df-convert {\n",
              "      background-color: #E8F0FE;\n",
              "      border: none;\n",
              "      border-radius: 50%;\n",
              "      cursor: pointer;\n",
              "      display: none;\n",
              "      fill: #1967D2;\n",
              "      height: 32px;\n",
              "      padding: 0 0 0 0;\n",
              "      width: 32px;\n",
              "    }\n",
              "\n",
              "    .colab-df-convert:hover {\n",
              "      background-color: #E2EBFA;\n",
              "      box-shadow: 0px 1px 2px rgba(60, 64, 67, 0.3), 0px 1px 3px 1px rgba(60, 64, 67, 0.15);\n",
              "      fill: #174EA6;\n",
              "    }\n",
              "\n",
              "    [theme=dark] .colab-df-convert {\n",
              "      background-color: #3B4455;\n",
              "      fill: #D2E3FC;\n",
              "    }\n",
              "\n",
              "    [theme=dark] .colab-df-convert:hover {\n",
              "      background-color: #434B5C;\n",
              "      box-shadow: 0px 1px 3px 1px rgba(0, 0, 0, 0.15);\n",
              "      filter: drop-shadow(0px 1px 2px rgba(0, 0, 0, 0.3));\n",
              "      fill: #FFFFFF;\n",
              "    }\n",
              "  </style>\n",
              "\n",
              "      <script>\n",
              "        const buttonEl =\n",
              "          document.querySelector('#df-be0f1bba-607c-4fb8-88a7-abba15f9681f button.colab-df-convert');\n",
              "        buttonEl.style.display =\n",
              "          google.colab.kernel.accessAllowed ? 'block' : 'none';\n",
              "\n",
              "        async function convertToInteractive(key) {\n",
              "          const element = document.querySelector('#df-be0f1bba-607c-4fb8-88a7-abba15f9681f');\n",
              "          const dataTable =\n",
              "            await google.colab.kernel.invokeFunction('convertToInteractive',\n",
              "                                                     [key], {});\n",
              "          if (!dataTable) return;\n",
              "\n",
              "          const docLinkHtml = 'Like what you see? Visit the ' +\n",
              "            '<a target=\"_blank\" href=https://colab.research.google.com/notebooks/data_table.ipynb>data table notebook</a>'\n",
              "            + ' to learn more about interactive tables.';\n",
              "          element.innerHTML = '';\n",
              "          dataTable['output_type'] = 'display_data';\n",
              "          await google.colab.output.renderOutput(dataTable, element);\n",
              "          const docLink = document.createElement('div');\n",
              "          docLink.innerHTML = docLinkHtml;\n",
              "          element.appendChild(docLink);\n",
              "        }\n",
              "      </script>\n",
              "    </div>\n",
              "  </div>\n",
              "  "
            ],
            "text/plain": [
              "       PassengerId Survived Pclass            Name   Sex   Age SibSp Parch  \\\n",
              "83433        83433        0      1  Abbott, Steven  male  62.0     1     1   \n",
              "43514        43514        0      3  Abbott, Steven  male  39.0     0     0   \n",
              "11074        11074        0      3  Acevedo, James  male  51.0     0     0   \n",
              "40840        40840        0      1  Acevedo, James  male   NaN     0     0   \n",
              "39910        39910        0      3   Acosta, David  male  23.0     0     0   \n",
              "\n",
              "            Ticket    Fare   Cabin Embarked  \n",
              "83433  C.A. 415184   81.79  A15776        S  \n",
              "43514        44125   23.38     NaN        S  \n",
              "11074          NaN   29.08     NaN        S  \n",
              "40840       420535  102.87  A10333        S  \n",
              "39910        30739   12.56     NaN        S  "
            ]
          },
          "metadata": {},
          "execution_count": 407
        }
      ]
    },
    {
      "cell_type": "markdown",
      "source": [
        "Но, очевидно, что в большой группе людей могут быть совпадения по имени, поэтому проверим наличие дубликатов по нескольким категориям одновременно. Возьмем Name, Age, Pclass, SibSp, Parch, Embarked."
      ],
      "metadata": {
        "id": "n-6hIsQJ3hQr"
      },
      "id": "n-6hIsQJ3hQr"
    },
    {
      "cell_type": "code",
      "source": [
        "dub_name_age = original_data.duplicated(subset=['Name', 'Age'], keep='first')\n",
        "dub_name_age_sib = original_data.duplicated(subset=['Name', 'Age', 'SibSp'], keep='first')\n",
        "dub_name_age_sib_par = original_data.duplicated(subset=['Name', 'Age', 'SibSp', 'Parch'], keep='first')\n",
        "dub_name_age_sib_par_pcl = original_data.duplicated(subset=['Name', 'Age', 'SibSp', 'Pclass', 'Parch'], keep='first')\n",
        "dub_name_age_sib_par_pcl_emb = original_data.duplicated(subset=['Name', 'Age', 'SibSp', 'Pclass', 'Parch','Embarked'], keep='first')\n",
        "\n",
        "print(f\"Количество повторов в категориях Name, Age : {dub_name_age.value_counts().values[1]}\")\n",
        "print(f\"Количество повторов в категориях Name, Age, SibSp : {dub_name_age_sib.value_counts().values[1]}\")\n",
        "print(f\"Количество повторов в категориях Name, Age, SibSp, Parch : {dub_name_age_sib_par.value_counts().values[1]}\")\n",
        "print(f\"Количество повторов в категориях Name, Age, SibSp, Parch, Pclass : {dub_name_age_sib_par_pcl.value_counts().values[1]}\")\n",
        "print(f\"Количество повторов в категориях Name, Age, SibSp, Parch, Pclass, Embarked : {dub_name_age_sib_par_pcl_emb.value_counts().values[1]}\")"
      ],
      "metadata": {
        "colab": {
          "base_uri": "https://localhost:8080/"
        },
        "id": "4rTQkOkSw-53",
        "outputId": "d0323951-c64a-4086-c9e9-893c7c1286fb"
      },
      "id": "4rTQkOkSw-53",
      "execution_count": null,
      "outputs": [
        {
          "output_type": "stream",
          "name": "stdout",
          "text": [
            "Количество повторов в категориях Name, Age : 293\n",
            "Количество повторов в категориях Name, Age, SibSp : 186\n",
            "Количество повторов в категориях Name, Age, SibSp, Parch : 150\n",
            "Количество повторов в категориях Name, Age, SibSp, Parch, Pclass : 75\n",
            "Количество повторов в категориях Name, Age, SibSp, Parch, Pclass, Embarked : 62\n"
          ]
        }
      ]
    },
    {
      "cell_type": "markdown",
      "source": [
        "Посмотрим на дубликаты по категориям Name, Age, SibSp, Parch, Pclass, Ebarked одновременно"
      ],
      "metadata": {
        "id": "MK2_WNsE683U"
      },
      "id": "MK2_WNsE683U"
    },
    {
      "cell_type": "code",
      "source": [
        "dub_name_age_sib_par_pcl_emb = original_data.duplicated(subset=['Name', 'Age', 'SibSp', 'Pclass', 'Parch', 'Embarked'], keep=False)\n",
        "original_data[dub_name_age_sib_par_pcl_emb].sort_values(by=['Name', 'Age', 'SibSp', 'Pclass', 'Parch']).head(15)\n"
      ],
      "metadata": {
        "colab": {
          "base_uri": "https://localhost:8080/",
          "height": 520
        },
        "id": "ePra9H458ZOf",
        "outputId": "4dfc9947-7af0-45d6-a001-6a9367866e48"
      },
      "id": "ePra9H458ZOf",
      "execution_count": null,
      "outputs": [
        {
          "output_type": "execute_result",
          "data": {
            "text/html": [
              "\n",
              "  <div id=\"df-d689707a-f34e-4ec1-b747-8a33bd31c487\">\n",
              "    <div class=\"colab-df-container\">\n",
              "      <div>\n",
              "<style scoped>\n",
              "    .dataframe tbody tr th:only-of-type {\n",
              "        vertical-align: middle;\n",
              "    }\n",
              "\n",
              "    .dataframe tbody tr th {\n",
              "        vertical-align: top;\n",
              "    }\n",
              "\n",
              "    .dataframe thead th {\n",
              "        text-align: right;\n",
              "    }\n",
              "</style>\n",
              "<table border=\"1\" class=\"dataframe\">\n",
              "  <thead>\n",
              "    <tr style=\"text-align: right;\">\n",
              "      <th></th>\n",
              "      <th>PassengerId</th>\n",
              "      <th>Survived</th>\n",
              "      <th>Pclass</th>\n",
              "      <th>Name</th>\n",
              "      <th>Sex</th>\n",
              "      <th>Age</th>\n",
              "      <th>SibSp</th>\n",
              "      <th>Parch</th>\n",
              "      <th>Ticket</th>\n",
              "      <th>Fare</th>\n",
              "      <th>Cabin</th>\n",
              "      <th>Embarked</th>\n",
              "    </tr>\n",
              "  </thead>\n",
              "  <tbody>\n",
              "    <tr>\n",
              "      <th>26577</th>\n",
              "      <td>26577</td>\n",
              "      <td>0</td>\n",
              "      <td>3</td>\n",
              "      <td>Allen, Jesse</td>\n",
              "      <td>male</td>\n",
              "      <td>26.0</td>\n",
              "      <td>0</td>\n",
              "      <td>0</td>\n",
              "      <td>NaN</td>\n",
              "      <td>8.43</td>\n",
              "      <td>NaN</td>\n",
              "      <td>S</td>\n",
              "    </tr>\n",
              "    <tr>\n",
              "      <th>64229</th>\n",
              "      <td>64229</td>\n",
              "      <td>0</td>\n",
              "      <td>3</td>\n",
              "      <td>Allen, Jesse</td>\n",
              "      <td>male</td>\n",
              "      <td>26.0</td>\n",
              "      <td>0</td>\n",
              "      <td>0</td>\n",
              "      <td>11945</td>\n",
              "      <td>9.59</td>\n",
              "      <td>NaN</td>\n",
              "      <td>S</td>\n",
              "    </tr>\n",
              "    <tr>\n",
              "      <th>8199</th>\n",
              "      <td>8199</td>\n",
              "      <td>0</td>\n",
              "      <td>2</td>\n",
              "      <td>Baker, William</td>\n",
              "      <td>male</td>\n",
              "      <td>52.0</td>\n",
              "      <td>0</td>\n",
              "      <td>0</td>\n",
              "      <td>15757</td>\n",
              "      <td>20.78</td>\n",
              "      <td>NaN</td>\n",
              "      <td>S</td>\n",
              "    </tr>\n",
              "    <tr>\n",
              "      <th>63579</th>\n",
              "      <td>63579</td>\n",
              "      <td>1</td>\n",
              "      <td>2</td>\n",
              "      <td>Baker, William</td>\n",
              "      <td>male</td>\n",
              "      <td>52.0</td>\n",
              "      <td>0</td>\n",
              "      <td>0</td>\n",
              "      <td>C.A. 13263</td>\n",
              "      <td>76.59</td>\n",
              "      <td>NaN</td>\n",
              "      <td>S</td>\n",
              "    </tr>\n",
              "    <tr>\n",
              "      <th>15894</th>\n",
              "      <td>15894</td>\n",
              "      <td>0</td>\n",
              "      <td>3</td>\n",
              "      <td>Brown, Michael</td>\n",
              "      <td>male</td>\n",
              "      <td>57.0</td>\n",
              "      <td>1</td>\n",
              "      <td>0</td>\n",
              "      <td>444422</td>\n",
              "      <td>63.78</td>\n",
              "      <td>NaN</td>\n",
              "      <td>S</td>\n",
              "    </tr>\n",
              "    <tr>\n",
              "      <th>48590</th>\n",
              "      <td>48590</td>\n",
              "      <td>0</td>\n",
              "      <td>3</td>\n",
              "      <td>Brown, Michael</td>\n",
              "      <td>male</td>\n",
              "      <td>57.0</td>\n",
              "      <td>1</td>\n",
              "      <td>0</td>\n",
              "      <td>8479</td>\n",
              "      <td>31.66</td>\n",
              "      <td>NaN</td>\n",
              "      <td>S</td>\n",
              "    </tr>\n",
              "    <tr>\n",
              "      <th>1532</th>\n",
              "      <td>1532</td>\n",
              "      <td>0</td>\n",
              "      <td>3</td>\n",
              "      <td>Brown, Patrick</td>\n",
              "      <td>male</td>\n",
              "      <td>NaN</td>\n",
              "      <td>0</td>\n",
              "      <td>0</td>\n",
              "      <td>12572</td>\n",
              "      <td>24.54</td>\n",
              "      <td>NaN</td>\n",
              "      <td>S</td>\n",
              "    </tr>\n",
              "    <tr>\n",
              "      <th>27444</th>\n",
              "      <td>27444</td>\n",
              "      <td>0</td>\n",
              "      <td>3</td>\n",
              "      <td>Brown, Patrick</td>\n",
              "      <td>male</td>\n",
              "      <td>NaN</td>\n",
              "      <td>0</td>\n",
              "      <td>0</td>\n",
              "      <td>STON/O 3996612</td>\n",
              "      <td>11.19</td>\n",
              "      <td>NaN</td>\n",
              "      <td>S</td>\n",
              "    </tr>\n",
              "    <tr>\n",
              "      <th>45153</th>\n",
              "      <td>45153</td>\n",
              "      <td>0</td>\n",
              "      <td>3</td>\n",
              "      <td>Brown, Richard</td>\n",
              "      <td>male</td>\n",
              "      <td>22.0</td>\n",
              "      <td>0</td>\n",
              "      <td>0</td>\n",
              "      <td>298962</td>\n",
              "      <td>26.78</td>\n",
              "      <td>NaN</td>\n",
              "      <td>S</td>\n",
              "    </tr>\n",
              "    <tr>\n",
              "      <th>59299</th>\n",
              "      <td>59299</td>\n",
              "      <td>0</td>\n",
              "      <td>3</td>\n",
              "      <td>Brown, Richard</td>\n",
              "      <td>male</td>\n",
              "      <td>22.0</td>\n",
              "      <td>0</td>\n",
              "      <td>0</td>\n",
              "      <td>408243</td>\n",
              "      <td>10.98</td>\n",
              "      <td>NaN</td>\n",
              "      <td>S</td>\n",
              "    </tr>\n",
              "    <tr>\n",
              "      <th>45243</th>\n",
              "      <td>45243</td>\n",
              "      <td>1</td>\n",
              "      <td>3</td>\n",
              "      <td>Burns, William</td>\n",
              "      <td>male</td>\n",
              "      <td>25.0</td>\n",
              "      <td>0</td>\n",
              "      <td>0</td>\n",
              "      <td>358531</td>\n",
              "      <td>9.17</td>\n",
              "      <td>NaN</td>\n",
              "      <td>C</td>\n",
              "    </tr>\n",
              "    <tr>\n",
              "      <th>81706</th>\n",
              "      <td>81706</td>\n",
              "      <td>0</td>\n",
              "      <td>3</td>\n",
              "      <td>Burns, William</td>\n",
              "      <td>male</td>\n",
              "      <td>25.0</td>\n",
              "      <td>0</td>\n",
              "      <td>0</td>\n",
              "      <td>360654</td>\n",
              "      <td>10.07</td>\n",
              "      <td>B8387</td>\n",
              "      <td>C</td>\n",
              "    </tr>\n",
              "    <tr>\n",
              "      <th>10521</th>\n",
              "      <td>10521</td>\n",
              "      <td>0</td>\n",
              "      <td>3</td>\n",
              "      <td>Davis, Paul</td>\n",
              "      <td>male</td>\n",
              "      <td>37.0</td>\n",
              "      <td>0</td>\n",
              "      <td>0</td>\n",
              "      <td>18706</td>\n",
              "      <td>10.55</td>\n",
              "      <td>NaN</td>\n",
              "      <td>S</td>\n",
              "    </tr>\n",
              "    <tr>\n",
              "      <th>95795</th>\n",
              "      <td>95795</td>\n",
              "      <td>0</td>\n",
              "      <td>3</td>\n",
              "      <td>Davis, Paul</td>\n",
              "      <td>male</td>\n",
              "      <td>37.0</td>\n",
              "      <td>0</td>\n",
              "      <td>0</td>\n",
              "      <td>A.5. 27007</td>\n",
              "      <td>7.85</td>\n",
              "      <td>NaN</td>\n",
              "      <td>S</td>\n",
              "    </tr>\n",
              "    <tr>\n",
              "      <th>88927</th>\n",
              "      <td>88927</td>\n",
              "      <td>0</td>\n",
              "      <td>3</td>\n",
              "      <td>Estrada, John</td>\n",
              "      <td>male</td>\n",
              "      <td>56.0</td>\n",
              "      <td>0</td>\n",
              "      <td>0</td>\n",
              "      <td>38426</td>\n",
              "      <td>5.91</td>\n",
              "      <td>NaN</td>\n",
              "      <td>S</td>\n",
              "    </tr>\n",
              "  </tbody>\n",
              "</table>\n",
              "</div>\n",
              "      <button class=\"colab-df-convert\" onclick=\"convertToInteractive('df-d689707a-f34e-4ec1-b747-8a33bd31c487')\"\n",
              "              title=\"Convert this dataframe to an interactive table.\"\n",
              "              style=\"display:none;\">\n",
              "        \n",
              "  <svg xmlns=\"http://www.w3.org/2000/svg\" height=\"24px\"viewBox=\"0 0 24 24\"\n",
              "       width=\"24px\">\n",
              "    <path d=\"M0 0h24v24H0V0z\" fill=\"none\"/>\n",
              "    <path d=\"M18.56 5.44l.94 2.06.94-2.06 2.06-.94-2.06-.94-.94-2.06-.94 2.06-2.06.94zm-11 1L8.5 8.5l.94-2.06 2.06-.94-2.06-.94L8.5 2.5l-.94 2.06-2.06.94zm10 10l.94 2.06.94-2.06 2.06-.94-2.06-.94-.94-2.06-.94 2.06-2.06.94z\"/><path d=\"M17.41 7.96l-1.37-1.37c-.4-.4-.92-.59-1.43-.59-.52 0-1.04.2-1.43.59L10.3 9.45l-7.72 7.72c-.78.78-.78 2.05 0 2.83L4 21.41c.39.39.9.59 1.41.59.51 0 1.02-.2 1.41-.59l7.78-7.78 2.81-2.81c.8-.78.8-2.07 0-2.86zM5.41 20L4 18.59l7.72-7.72 1.47 1.35L5.41 20z\"/>\n",
              "  </svg>\n",
              "      </button>\n",
              "      \n",
              "  <style>\n",
              "    .colab-df-container {\n",
              "      display:flex;\n",
              "      flex-wrap:wrap;\n",
              "      gap: 12px;\n",
              "    }\n",
              "\n",
              "    .colab-df-convert {\n",
              "      background-color: #E8F0FE;\n",
              "      border: none;\n",
              "      border-radius: 50%;\n",
              "      cursor: pointer;\n",
              "      display: none;\n",
              "      fill: #1967D2;\n",
              "      height: 32px;\n",
              "      padding: 0 0 0 0;\n",
              "      width: 32px;\n",
              "    }\n",
              "\n",
              "    .colab-df-convert:hover {\n",
              "      background-color: #E2EBFA;\n",
              "      box-shadow: 0px 1px 2px rgba(60, 64, 67, 0.3), 0px 1px 3px 1px rgba(60, 64, 67, 0.15);\n",
              "      fill: #174EA6;\n",
              "    }\n",
              "\n",
              "    [theme=dark] .colab-df-convert {\n",
              "      background-color: #3B4455;\n",
              "      fill: #D2E3FC;\n",
              "    }\n",
              "\n",
              "    [theme=dark] .colab-df-convert:hover {\n",
              "      background-color: #434B5C;\n",
              "      box-shadow: 0px 1px 3px 1px rgba(0, 0, 0, 0.15);\n",
              "      filter: drop-shadow(0px 1px 2px rgba(0, 0, 0, 0.3));\n",
              "      fill: #FFFFFF;\n",
              "    }\n",
              "  </style>\n",
              "\n",
              "      <script>\n",
              "        const buttonEl =\n",
              "          document.querySelector('#df-d689707a-f34e-4ec1-b747-8a33bd31c487 button.colab-df-convert');\n",
              "        buttonEl.style.display =\n",
              "          google.colab.kernel.accessAllowed ? 'block' : 'none';\n",
              "\n",
              "        async function convertToInteractive(key) {\n",
              "          const element = document.querySelector('#df-d689707a-f34e-4ec1-b747-8a33bd31c487');\n",
              "          const dataTable =\n",
              "            await google.colab.kernel.invokeFunction('convertToInteractive',\n",
              "                                                     [key], {});\n",
              "          if (!dataTable) return;\n",
              "\n",
              "          const docLinkHtml = 'Like what you see? Visit the ' +\n",
              "            '<a target=\"_blank\" href=https://colab.research.google.com/notebooks/data_table.ipynb>data table notebook</a>'\n",
              "            + ' to learn more about interactive tables.';\n",
              "          element.innerHTML = '';\n",
              "          dataTable['output_type'] = 'display_data';\n",
              "          await google.colab.output.renderOutput(dataTable, element);\n",
              "          const docLink = document.createElement('div');\n",
              "          docLink.innerHTML = docLinkHtml;\n",
              "          element.appendChild(docLink);\n",
              "        }\n",
              "      </script>\n",
              "    </div>\n",
              "  </div>\n",
              "  "
            ],
            "text/plain": [
              "       PassengerId Survived Pclass            Name   Sex   Age SibSp Parch  \\\n",
              "26577        26577        0      3    Allen, Jesse  male  26.0     0     0   \n",
              "64229        64229        0      3    Allen, Jesse  male  26.0     0     0   \n",
              "8199          8199        0      2  Baker, William  male  52.0     0     0   \n",
              "63579        63579        1      2  Baker, William  male  52.0     0     0   \n",
              "15894        15894        0      3  Brown, Michael  male  57.0     1     0   \n",
              "48590        48590        0      3  Brown, Michael  male  57.0     1     0   \n",
              "1532          1532        0      3  Brown, Patrick  male   NaN     0     0   \n",
              "27444        27444        0      3  Brown, Patrick  male   NaN     0     0   \n",
              "45153        45153        0      3  Brown, Richard  male  22.0     0     0   \n",
              "59299        59299        0      3  Brown, Richard  male  22.0     0     0   \n",
              "45243        45243        1      3  Burns, William  male  25.0     0     0   \n",
              "81706        81706        0      3  Burns, William  male  25.0     0     0   \n",
              "10521        10521        0      3     Davis, Paul  male  37.0     0     0   \n",
              "95795        95795        0      3     Davis, Paul  male  37.0     0     0   \n",
              "88927        88927        0      3   Estrada, John  male  56.0     0     0   \n",
              "\n",
              "               Ticket   Fare  Cabin Embarked  \n",
              "26577             NaN   8.43    NaN        S  \n",
              "64229           11945   9.59    NaN        S  \n",
              "8199            15757  20.78    NaN        S  \n",
              "63579      C.A. 13263  76.59    NaN        S  \n",
              "15894          444422  63.78    NaN        S  \n",
              "48590            8479  31.66    NaN        S  \n",
              "1532            12572  24.54    NaN        S  \n",
              "27444  STON/O 3996612  11.19    NaN        S  \n",
              "45153          298962  26.78    NaN        S  \n",
              "59299          408243  10.98    NaN        S  \n",
              "45243          358531   9.17    NaN        C  \n",
              "81706          360654  10.07  B8387        C  \n",
              "10521           18706  10.55    NaN        S  \n",
              "95795      A.5. 27007   7.85    NaN        S  \n",
              "88927           38426   5.91    NaN        S  "
            ]
          },
          "metadata": {},
          "execution_count": 409
        }
      ]
    },
    {
      "cell_type": "markdown",
      "source": [
        "Создадим новый датасет с удаленными дубликатами по категориям Name, Age, SibSp, Parch, Pclass, Embarked (62 штуки)"
      ],
      "metadata": {
        "id": "e06Au8pG-4nl"
      },
      "id": "e06Au8pG-4nl"
    },
    {
      "cell_type": "code",
      "source": [
        "df = original_data.drop_duplicates(subset=['Name', 'Age', 'SibSp', 'Pclass', 'Parch','Embarked'], keep='first')"
      ],
      "metadata": {
        "id": "18UfDSYW_Lan"
      },
      "id": "18UfDSYW_Lan",
      "execution_count": null,
      "outputs": []
    },
    {
      "cell_type": "markdown",
      "source": [
        "Перед заполнением пропущеных значений проверим наши данные на выбросы"
      ],
      "metadata": {
        "id": "7hIpzKqLAgzz"
      },
      "id": "7hIpzKqLAgzz"
    },
    {
      "cell_type": "code",
      "source": [
        "# Диаграмма размаха (boxplot) для категории Age\n",
        "\n",
        "sns.boxplot(y='Age', data=df)\n",
        "plt.show()"
      ],
      "metadata": {
        "colab": {
          "base_uri": "https://localhost:8080/",
          "height": 248
        },
        "id": "SpSFXOGVDDFx",
        "outputId": "e9d2fb7a-cf33-44e9-a7ba-247b9980eb3f"
      },
      "id": "SpSFXOGVDDFx",
      "execution_count": null,
      "outputs": [
        {
          "output_type": "display_data",
          "data": {
            "image/png": "[encoded data removed]",
            "text/plain": [
              "<Figure size 432x288 with 1 Axes>"
            ]
          },
          "metadata": {}
        }
      ]
    },
    {
      "cell_type": "markdown",
      "source": [
        "По графику Boxplot(диаграмме размаха) видно, что в категории Age нет значений лежащих за пределами следующих интервалов: Q1–1.5 x IQR и Q3 + 1.5 x IQR"
      ],
      "metadata": {
        "id": "6TyjCFIYCDZV"
      },
      "id": "6TyjCFIYCDZV"
    },
    {
      "cell_type": "code",
      "source": [
        "# Ящик с усами для категории Fare\n",
        "\n",
        "plt.figure(figsize=(16,7))\n",
        "plt.title('Диаграмма размаха стоимости билета')\n",
        "sns.boxplot(x='Fare', y='Pclass', width=0.6, data=df)\n",
        "plt.show()\n"
      ],
      "metadata": {
        "colab": {
          "base_uri": "https://localhost:8080/",
          "height": 459
        },
        "id": "u3erwWnkJCY5",
        "outputId": "42e4d65b-d5d3-4f3a-eebc-eba49504224d"
      },
      "id": "u3erwWnkJCY5",
      "execution_count": null,
      "outputs": [
        {
          "output_type": "display_data",
          "data": {
            "image/png": "[encoded data removed]",
            "text/plain": [
              "<Figure size 1152x504 with 1 Axes>"
            ]
          },
          "metadata": {}
        }
      ]
    },
    {
      "cell_type": "markdown",
      "source": [
        "На мой взгляд коректнее искать выбросы в цене внутри класса. Выбросов получается больше, чем если воспринимать категорию Fare как единое целое."
      ],
      "metadata": {
        "id": "rE1jrBorEvuH"
      },
      "id": "rE1jrBorEvuH"
    },
    {
      "cell_type": "code",
      "source": [
        "def irq(number, pclass=0):\n",
        "    if pclass == 0:\n",
        "        quantile = number.Fare.describe()\n",
        "    else:\n",
        "        quantile = number.query(f\"Pclass == {pclass}\").Fare.describe()\n",
        "    q25 = quantile['25%']\n",
        "    q50 = quantile['50%']\n",
        "    q75 = quantile['75%']\n",
        "    IRQ = q75 - q25\n",
        "    limit = q75 + 1.5*IRQ\n",
        "    return (q25, q50, q75, limit)\n",
        "print(\"Количество выбросов для первого класса: \" ,len(df.query(f'Pclass == 1 and Fare > {irq(df, 1)[3]}')))\n",
        "print(\"Количество выбросов для второго класса: \" ,len(df.query(f'Pclass == 2 and Fare > {irq(df, 2)[3]}')))\n",
        "print(\"Количество выбросов для третьего класса: \" ,len(df.query(f'Pclass == 3 and Fare > {irq(df, 3)[3]}')))\n",
        "print(\"Количество выбросов для FareClean без разделения: \" ,len(df.query(f'Pclass == 3 and Fare > {irq(df)[3]}')))"
      ],
      "metadata": {
        "colab": {
          "base_uri": "https://localhost:8080/"
        },
        "id": "7MMKanUvrYq5",
        "outputId": "7b78e7e3-0083-4afc-a836-ab495928eea0"
      },
      "id": "7MMKanUvrYq5",
      "execution_count": null,
      "outputs": [
        {
          "output_type": "stream",
          "name": "stdout",
          "text": [
            "Количество выбросов для первого класса:  2069\n",
            "Количество выбросов для второго класса:  1808\n",
            "Количество выбросов для третьего класса:  2761\n",
            "Количество выбросов для FareClean без разделения:  1877\n"
          ]
        }
      ]
    },
    {
      "cell_type": "markdown",
      "source": [
        "Заменим пропущеные значения в Fare средним по классу исключая выбросы"
      ],
      "metadata": {
        "id": "YYqcP0y_H_GD"
      },
      "id": "YYqcP0y_H_GD"
    },
    {
      "cell_type": "code",
      "source": [
        "# среднее по классу\n",
        "mean_1 = df.query(f'Pclass == 1 and Fare < {irq(df, 1)[3]}').Fare.mean()\n",
        "mean_2 = df.query(f'Pclass == 2 and Fare < {irq(df, 2)[3]}').Fare.mean()\n",
        "mean_3 = df.query(f'Pclass == 3 and Fare < {irq(df, 3)[3]}').Fare.mean()\n",
        "\n",
        "# Заменяем средним по классу\n",
        "df.loc[(df[\"Fare\"].isna()) & (df['Pclass'] == 1), 'Fare'] = mean_1\n",
        "df.loc[(df[\"Fare\"].isna()) & (df['Pclass'] == 2), 'Fare'] = mean_2\n",
        "df.loc[(df[\"Fare\"].isna()) & (df['Pclass'] == 3), 'Fare'] = mean_3\n"
      ],
      "metadata": {
        "colab": {
          "base_uri": "https://localhost:8080/"
        },
        "id": "s4PZMb5qFsx3",
        "outputId": "38d1ac8f-e5f7-409e-9d5d-11cb1310b418"
      },
      "id": "s4PZMb5qFsx3",
      "execution_count": null,
      "outputs": [
        {
          "output_type": "stream",
          "name": "stderr",
          "text": [
            "/usr/local/lib/python3.7/dist-packages/pandas/core/indexing.py:1817: SettingWithCopyWarning: \n",
            "A value is trying to be set on a copy of a slice from a DataFrame.\n",
            "Try using .loc[row_indexer,col_indexer] = value instead\n",
            "\n",
            "See the caveats in the documentation: https://pandas.pydata.org/pandas-docs/stable/user_guide/indexing.html#returning-a-view-versus-a-copy\n",
            "  self._setitem_single_column(loc, value, pi)\n"
          ]
        }
      ]
    },
    {
      "cell_type": "markdown",
      "source": [
        "Заменяем пропущенные значения в Age средним возрастом по классу и полу, а Embarked самым частым значением."
      ],
      "metadata": {
        "id": "ENqO1i1oWZgD"
      },
      "id": "ENqO1i1oWZgD"
    },
    {
      "cell_type": "code",
      "source": [
        "# Заполняем пропуски в категории Age средним значением по классу и полу\n",
        "\n",
        "mean_age_f1 = df.loc[(df['Sex'] == 'female' ) & (df['Pclass'] == 1)].Age.mean()\n",
        "mean_age_f2 = df.loc[(df['Sex'] == 'female' ) & (df['Pclass'] == 2)].Age.mean()\n",
        "mean_age_f3 = df.loc[(df['Sex'] == 'female' ) & (df['Pclass'] == 3)].Age.mean()\n",
        "mean_age_m1 = df.loc[(df['Sex'] == 'male' ) & (df['Pclass'] == 1)].Age.mean()\n",
        "mean_age_m2 = df.loc[(df['Sex'] == 'male' ) & (df['Pclass'] == 2)].Age.mean()\n",
        "mean_age_m3 = df.loc[(df['Sex'] == 'male' ) & (df['Pclass'] == 3)].Age.mean()\n",
        "\n",
        "df.loc[(df['Sex'] == 'female' ) & (df['Pclass'] == 1) & (df[\"Age\"].isna()), 'Age'] = mean_age_f1\n",
        "df.loc[(df['Sex'] == 'female' ) & (df['Pclass'] == 2) & (df[\"Age\"].isna()), 'Age'] = mean_age_f2\n",
        "df.loc[(df['Sex'] == 'female' ) & (df['Pclass'] == 3) & (df[\"Age\"].isna()), 'Age'] = mean_age_f3\n",
        "df.loc[(df['Sex'] == 'male' ) & (df['Pclass'] == 1) & (df[\"Age\"].isna()), 'Age'] = mean_age_m1\n",
        "df.loc[(df['Sex'] == 'male' ) & (df['Pclass'] == 2) & (df[\"Age\"].isna()), 'Age'] = mean_age_m2\n",
        "df.loc[(df['Sex'] == 'male' ) & (df['Pclass'] == 3) & (df[\"Age\"].isna()), 'Age'] = mean_age_m3\n"
      ],
      "metadata": {
        "colab": {
          "base_uri": "https://localhost:8080/"
        },
        "id": "5hrA-ONZaOzk",
        "outputId": "bfffd5ed-3148-4984-87b2-2d81e00973d2"
      },
      "id": "5hrA-ONZaOzk",
      "execution_count": null,
      "outputs": [
        {
          "output_type": "stream",
          "name": "stderr",
          "text": [
            "/usr/local/lib/python3.7/dist-packages/pandas/core/indexing.py:1817: SettingWithCopyWarning: \n",
            "A value is trying to be set on a copy of a slice from a DataFrame.\n",
            "Try using .loc[row_indexer,col_indexer] = value instead\n",
            "\n",
            "See the caveats in the documentation: https://pandas.pydata.org/pandas-docs/stable/user_guide/indexing.html#returning-a-view-versus-a-copy\n",
            "  self._setitem_single_column(loc, value, pi)\n"
          ]
        }
      ]
    },
    {
      "cell_type": "code",
      "source": [
        "# Заполняем пропуски в категории Embarked самым частым значением\n",
        "emb_fill = df['Embarked'].value_counts().index[0]\n",
        "df['Embarked'] = df['Embarked'].fillna(emb_fill)\n"
      ],
      "metadata": {
        "id": "cnAgm_hfYCv_",
        "colab": {
          "base_uri": "https://localhost:8080/"
        },
        "outputId": "9ef3f052-9818-4f21-c1a2-a504af01b513"
      },
      "id": "cnAgm_hfYCv_",
      "execution_count": null,
      "outputs": [
        {
          "output_type": "stream",
          "name": "stderr",
          "text": [
            "/usr/local/lib/python3.7/dist-packages/ipykernel_launcher.py:3: SettingWithCopyWarning: \n",
            "A value is trying to be set on a copy of a slice from a DataFrame.\n",
            "Try using .loc[row_indexer,col_indexer] = value instead\n",
            "\n",
            "See the caveats in the documentation: https://pandas.pydata.org/pandas-docs/stable/user_guide/indexing.html#returning-a-view-versus-a-copy\n",
            "  This is separate from the ipykernel package so we can avoid doing imports until\n"
          ]
        }
      ]
    },
    {
      "cell_type": "markdown",
      "source": [
        "Повторно проверяем датасет на наличие пропущенных значений"
      ],
      "metadata": {
        "id": "xlELl1FiXwkH"
      },
      "id": "xlELl1FiXwkH"
    },
    {
      "cell_type": "code",
      "source": [
        "mis_data = df.isnull().sum()\n",
        "print(mis_data)\n",
        "print('\\nКоличество пропущенных значений по категориям в %')\n",
        "for i, v in enumerate(mis_data.values):\n",
        "    if v:\n",
        "        print(f\"{mis_data.index[i]} :   {(v / df.shape[0]) * 100} %\")"
      ],
      "metadata": {
        "colab": {
          "base_uri": "https://localhost:8080/"
        },
        "id": "3eprMLDdUixq",
        "outputId": "98ff107e-5317-4ddd-a533-4d1ab4c95ea9"
      },
      "id": "3eprMLDdUixq",
      "execution_count": null,
      "outputs": [
        {
          "output_type": "stream",
          "name": "stdout",
          "text": [
            "PassengerId        0\n",
            "Survived           0\n",
            "Pclass             0\n",
            "Name               0\n",
            "Sex                0\n",
            "Age                0\n",
            "SibSp              0\n",
            "Parch              0\n",
            "Ticket          4619\n",
            "Fare               0\n",
            "Cabin          67812\n",
            "Embarked           0\n",
            "dtype: int64\n",
            "\n",
            "Количество пропущенных значений по категориям в %\n",
            "Ticket :   4.62186555664512 %\n",
            "Cabin :   67.85406952310431 %\n"
          ]
        }
      ]
    },
    {
      "cell_type": "markdown",
      "metadata": {
        "id": "5408eca5"
      },
      "source": [
        "# Data exploration"
      ],
      "id": "5408eca5"
    },
    {
      "cell_type": "markdown",
      "source": [
        "Категория ***Survived***"
      ],
      "metadata": {
        "id": "ae22ftx0UwxI"
      },
      "id": "ae22ftx0UwxI"
    },
    {
      "cell_type": "code",
      "source": [
        "g = sns.catplot(x=\"Survived\", kind='count', data=df).set(title='Number of survivors / dead').set_xticklabels([\"dead\", \"survivor\"])\n",
        "plt.show()\n",
        "died = round((df['Survived'].value_counts().values[0]/len(df)) * 100, 1)\n",
        "print(f\"В этой симуляции Титаника погибло примерно {died}% человек из {len(df)} пассажиров\")"
      ],
      "metadata": {
        "colab": {
          "base_uri": "https://localhost:8080/",
          "height": 398
        },
        "id": "v7PKGwF61QGE",
        "outputId": "8f377498-6e65-40f6-d70e-037be872a305"
      },
      "id": "v7PKGwF61QGE",
      "execution_count": null,
      "outputs": [
        {
          "output_type": "display_data",
          "data": {
            "image/png": "[encoded data removed]",
            "text/plain": [
              "<Figure size 360x360 with 1 Axes>"
            ]
          },
          "metadata": {}
        },
        {
          "output_type": "stream",
          "name": "stdout",
          "text": [
            "В этой симуляции Титаника погибло примерно 57.2% человек из 99938 пассажиров\n"
          ]
        }
      ]
    },
    {
      "cell_type": "markdown",
      "source": [
        "Категория ***Pclass***"
      ],
      "metadata": {
        "id": "qhQAlnEtVWLY"
      },
      "id": "qhQAlnEtVWLY"
    },
    {
      "cell_type": "code",
      "source": [
        "g = sns.catplot(x=\"Pclass\", kind='count', data=df).set(title='Classes').set_xticklabels([\"1st class\", \"2nd class\", \"3rd class\"])\n",
        "plt.show()\n",
        "\n",
        "classes = (df['Pclass'].value_counts().sort_index() / len(df)) * 100\n",
        "print(f\"В первом классе находится {round(classes.values[0], 1)}%, во втором {round(classes.values[1], 1)}%,\\\n",
        " в третьем {round(classes.values[2], 1)}% от общего количества пассажиров\")\n"
      ],
      "metadata": {
        "colab": {
          "base_uri": "https://localhost:8080/",
          "height": 402
        },
        "id": "FPefaLPI-0EY",
        "outputId": "f894e896-1b35-4366-accf-f73ae7de2baf"
      },
      "id": "FPefaLPI-0EY",
      "execution_count": null,
      "outputs": [
        {
          "output_type": "display_data",
          "data": {
            "image/png": "[encoded data removed]",
            "text/plain": [
              "<Figure size 360x360 with 1 Axes>"
            ]
          },
          "metadata": {}
        },
        {
          "output_type": "stream",
          "name": "stdout",
          "text": [
            "В первом классе находится 30.3%, во втором 28.7%, в третьем 41.0% от общего количества пассажиров\n"
          ]
        }
      ]
    },
    {
      "cell_type": "markdown",
      "source": [
        "**Категория Sex**"
      ],
      "metadata": {
        "id": "2jgF4cwKVw3T"
      },
      "id": "2jgF4cwKVw3T"
    },
    {
      "cell_type": "code",
      "source": [
        "g = sns.catplot(x=\"Sex\", kind='count', data=df).set(title='Sex')\n",
        "plt.show()\n",
        "\n",
        "sex = (df['Sex'].value_counts() / len(df)) * 100\n",
        "print(f\"Количесво мужчин составляло {round(sex.values[0], 1)}%, а женщин {round(sex.values[1], 1)}%,\\\n",
        " от общего количества пассажиров\")"
      ],
      "metadata": {
        "colab": {
          "base_uri": "https://localhost:8080/",
          "height": 402
        },
        "id": "v8JDFwYm-0OP",
        "outputId": "8a4b360f-2c01-40b3-d0b0-e738bccd186b"
      },
      "id": "v8JDFwYm-0OP",
      "execution_count": null,
      "outputs": [
        {
          "output_type": "display_data",
          "data": {
            "image/png": "[encoded data removed]",
            "text/plain": [
              "<Figure size 360x360 with 1 Axes>"
            ]
          },
          "metadata": {}
        },
        {
          "output_type": "stream",
          "name": "stdout",
          "text": [
            "Количесво мужчин составляло 56.1%, а женщин 43.9%, от общего количества пассажиров\n"
          ]
        }
      ]
    },
    {
      "cell_type": "markdown",
      "source": [
        "**Категория Sibsp**"
      ],
      "metadata": {
        "id": "6L7ax0HvWk_E"
      },
      "id": "6L7ax0HvWk_E"
    },
    {
      "cell_type": "code",
      "source": [
        "g = sns.catplot(x=\"SibSp\", kind='count', data=df, log=True, height=6, aspect=1.5).set(title='Siblings / Spouses')\n",
        "plt.show()\n",
        "\n",
        "sibsp = (df['SibSp'].value_counts().sort_index() / len(df)) * 100\n",
        "print(\"Количество братьев и сестер/супругов, в процентах от общего количества пассажиров:\")\n",
        "for i, v in enumerate(sibsp):\n",
        "    print(f\"{i } : {round(v, 3)} %\")\n"
      ],
      "metadata": {
        "colab": {
          "base_uri": "https://localhost:8080/",
          "height": 591
        },
        "id": "aksW4ldt9YdO",
        "outputId": "96a46c50-a3f9-4703-c591-5a143c7e0385"
      },
      "id": "aksW4ldt9YdO",
      "execution_count": null,
      "outputs": [
        {
          "output_type": "display_data",
          "data": {
            "image/png": "[encoded data removed]",
            "text/plain": [
              "<Figure size 648x432 with 1 Axes>"
            ]
          },
          "metadata": {}
        },
        {
          "output_type": "stream",
          "name": "stdout",
          "text": [
            "Количество братьев и сестер/супругов, в процентах от общего количества пассажиров:\n",
            "0 : 73.293 %\n",
            "1 : 19.768 %\n",
            "2 : 3.705 %\n",
            "3 : 1.636 %\n",
            "4 : 1.169 %\n",
            "5 : 0.132 %\n",
            "6 : 0.296 %\n"
          ]
        }
      ]
    },
    {
      "cell_type": "markdown",
      "source": [
        "**Категория Parch**"
      ],
      "metadata": {
        "id": "3rT1Yhm_XQw2"
      },
      "id": "3rT1Yhm_XQw2"
    },
    {
      "cell_type": "code",
      "source": [
        "g = sns.catplot(x=\"Parch\", kind='count', data=df, log=True, height=6, aspect=1.5).set(title='Parch')\n",
        "plt.show()\n",
        "\n",
        "parch = (df['Parch'].value_counts().sort_index() / len(df)) * 100\n",
        "print(\"Количество родителей/детей, в процентах от общего количества пассажиров:\")\n",
        "for i, v in enumerate(parch):\n",
        "    print(f\"{i } : {round(v, 3)}%\")"
      ],
      "metadata": {
        "colab": {
          "base_uri": "https://localhost:8080/",
          "height": 613
        },
        "id": "BIJ3AjSG-wyy",
        "outputId": "d231c147-9afe-465e-be96-34796b8fb597"
      },
      "id": "BIJ3AjSG-wyy",
      "execution_count": null,
      "outputs": [
        {
          "output_type": "display_data",
          "data": {
            "image/png": "[encoded data removed]",
            "text/plain": [
              "<Figure size 648x432 with 1 Axes>"
            ]
          },
          "metadata": {}
        },
        {
          "output_type": "stream",
          "name": "stdout",
          "text": [
            "Количество родителей/детей, в процентах от общего количества пассажиров:\n",
            "0 : 73.524%\n",
            "1 : 13.004%\n",
            "2 : 11.243%\n",
            "3 : 0.984%\n",
            "4 : 0.446%\n",
            "5 : 0.331%\n",
            "6 : 0.204%\n",
            "7 : 0.264%\n"
          ]
        }
      ]
    },
    {
      "cell_type": "markdown",
      "source": [
        "**Категория Embarked**"
      ],
      "metadata": {
        "id": "FBFJPEEtXt4m"
      },
      "id": "FBFJPEEtXt4m"
    },
    {
      "cell_type": "code",
      "source": [
        "g = sns.catplot(x=\"Embarked\", kind='count', data=df, log=True, height=6, aspect=1.5).set(title='Embarked')\n",
        "plt.show()\n",
        "\n",
        "embarked = (df['Embarked'].value_counts().sort_index() / len(df)) * 100\n",
        "print(f\"Количесво пассажиров которое погрузилось на корабль в порте {embarked.index[0]} : {round(embarked.values[0], 1)}%, в порте {embarked.index[1]} : {round(embarked.values[1], 1)}%,\\\n",
        " а в порте {embarked.index[2]} : {round(embarked.values[2], 1)}% от общего количества пассажиров\")\n"
      ],
      "metadata": {
        "colab": {
          "base_uri": "https://localhost:8080/",
          "height": 474
        },
        "id": "cDl0sQvA8j76",
        "outputId": "ba775b5e-6c8e-40a4-f054-c35c4c73628b"
      },
      "id": "cDl0sQvA8j76",
      "execution_count": null,
      "outputs": [
        {
          "output_type": "display_data",
          "data": {
            "image/png": "[encoded data removed]",
            "text/plain": [
              "<Figure size 648x432 with 1 Axes>"
            ]
          },
          "metadata": {}
        },
        {
          "output_type": "stream",
          "name": "stdout",
          "text": [
            "Количесво пассажиров которое погрузилось на корабль в порте C : 22.2%, в порте Q : 5.4%, а в порте S : 72.4% от общего количества пассажиров\n"
          ]
        }
      ]
    },
    {
      "cell_type": "markdown",
      "source": [
        "**Категория Age**"
      ],
      "metadata": {
        "id": "ISjwi2oNX2R3"
      },
      "id": "ISjwi2oNX2R3"
    },
    {
      "cell_type": "code",
      "source": [
        "# Гистограмма Ages\n",
        "\n",
        "plt.figure(figsize=(14,7))\n",
        "# sns.set_style(\"darkgrid\")\n",
        "sns.histplot(data=df, x='Age', edgecolor=\"white\", linewidth=0.5, binwidth=1)\n",
        "plt.show()\n"
      ],
      "metadata": {
        "colab": {
          "base_uri": "https://localhost:8080/",
          "height": 442
        },
        "id": "gDoGFeYBg5zY",
        "outputId": "fe9153c1-fa69-4431-9c30-5d6e9c14f2d2"
      },
      "id": "gDoGFeYBg5zY",
      "execution_count": null,
      "outputs": [
        {
          "output_type": "display_data",
          "data": {
            "image/png": "[encoded data removed]",
            "text/plain": [
              "<Figure size 1008x504 with 1 Axes>"
            ]
          },
          "metadata": {}
        }
      ]
    },
    {
      "cell_type": "code",
      "source": [
        "# Гистограмма Age в зависимости от пола\n",
        "# Распределения возраста мужчин и женщин\n",
        "\n",
        "plt.figure(figsize=(14,7))\n",
        "sns.set_style(\"whitegrid\")\n",
        "sns.histplot(data=df, x='Age', hue=\"Sex\", edgecolor=\"white\", linewidth=1, binwidth=1)\n",
        "plt.show()"
      ],
      "metadata": {
        "colab": {
          "base_uri": "https://localhost:8080/",
          "height": 442
        },
        "id": "v7Lz3OnKtLoY",
        "outputId": "1c9fa966-e94f-4fe9-a519-416be44b0707"
      },
      "id": "v7Lz3OnKtLoY",
      "execution_count": null,
      "outputs": [
        {
          "output_type": "display_data",
          "data": {
            "image/png": "[encoded data removed]",
            "text/plain": [
              "<Figure size 1008x504 with 1 Axes>"
            ]
          },
          "metadata": {}
        }
      ]
    },
    {
      "cell_type": "markdown",
      "source": [
        "Из графика видно, что в диапазоне возрастов примерно от 2 лет до 15, девочек больше, чем мальчиков. Также в возрасте примерно 38-40, 52-54 года и 60 лет и старше женщин больше, чем мужчин, на всех остальных промежутках мужчин больше, чем женщин."
      ],
      "metadata": {
        "id": "edYZfiFIEHAi"
      },
      "id": "edYZfiFIEHAi"
    },
    {
      "cell_type": "markdown",
      "source": [
        "**Категория Age в зависимости от Sex и Survived**"
      ],
      "metadata": {
        "id": "T00G9_oyL7qe"
      },
      "id": "T00G9_oyL7qe"
    },
    {
      "cell_type": "code",
      "source": [
        "# Погибшие\n",
        "plt.figure(figsize=(14,7))\n",
        "sns.set_style(\"whitegrid\")\n",
        "sns.histplot(data=df.loc[df['Survived'] == 0], x='Age', hue=\"Sex\", edgecolor=\"white\", linewidth=1, binwidth=1)\n",
        "plt.show()\n"
      ],
      "metadata": {
        "colab": {
          "base_uri": "https://localhost:8080/",
          "height": 442
        },
        "id": "esST6Im5K9qD",
        "outputId": "87d53177-d8e4-4c7e-c5b5-3b91add2c666"
      },
      "id": "esST6Im5K9qD",
      "execution_count": null,
      "outputs": [
        {
          "output_type": "display_data",
          "data": {
            "image/png": "[encoded data removed]",
            "text/plain": [
              "<Figure size 1008x504 with 1 Axes>"
            ]
          },
          "metadata": {}
        }
      ]
    },
    {
      "cell_type": "markdown",
      "source": [
        "Почти во всех возрастах количество погибших мужчин больше чем женщин. "
      ],
      "metadata": {
        "id": "PNYXTd4LOjjm"
      },
      "id": "PNYXTd4LOjjm"
    },
    {
      "cell_type": "code",
      "source": [
        "# Выжившие\n",
        "plt.figure(figsize=(14,7))\n",
        "sns.set_style(\"whitegrid\")\n",
        "sns.histplot(data=df.loc[df['Survived'] == 1], x='Age', hue=\"Sex\", edgecolor=\"white\", linewidth=1, binwidth=1)\n",
        "plt.show()"
      ],
      "metadata": {
        "colab": {
          "base_uri": "https://localhost:8080/",
          "height": 442
        },
        "id": "bnSYdRDuOMQc",
        "outputId": "00f0f1d9-da8a-4e00-fa5a-0f7e79201676"
      },
      "id": "bnSYdRDuOMQc",
      "execution_count": null,
      "outputs": [
        {
          "output_type": "display_data",
          "data": {
            "image/png": "[encoded data removed]",
            "text/plain": [
              "<Figure size 1008x504 with 1 Axes>"
            ]
          },
          "metadata": {}
        }
      ]
    },
    {
      "cell_type": "markdown",
      "source": [
        "На всем диапазоне возрастов количество выживших женщин больше мужчин."
      ],
      "metadata": {
        "id": "UjZxuQXtO5Ma"
      },
      "id": "UjZxuQXtO5Ma"
    },
    {
      "cell_type": "markdown",
      "source": [
        "**Категория Fare**"
      ],
      "metadata": {
        "id": "ZIvy5yXKaiSR"
      },
      "id": "ZIvy5yXKaiSR"
    },
    {
      "cell_type": "code",
      "source": [
        "# Стоимость билета (по Х логарифмический масштаб)\n",
        "plt.figure(figsize=(14,7))\n",
        "sns.set_style(\"whitegrid\")\n",
        "sns.histplot(data=df, x='Fare',edgecolor=\"white\", linewidth=0.25, element=\"step\", log_scale=(False, False), binwidth=5)\n",
        "plt.show()\n"
      ],
      "metadata": {
        "colab": {
          "base_uri": "https://localhost:8080/",
          "height": 442
        },
        "id": "4Y4ZJKlwvpk3",
        "outputId": "28f08d97-b956-4e47-bd90-02cf0430c664"
      },
      "id": "4Y4ZJKlwvpk3",
      "execution_count": null,
      "outputs": [
        {
          "output_type": "display_data",
          "data": {
            "image/png": "[encoded data removed]",
            "text/plain": [
              "<Figure size 1008x504 with 1 Axes>"
            ]
          },
          "metadata": {}
        }
      ]
    },
    {
      "cell_type": "markdown",
      "source": [
        "Видно, что основная масса билетов куплена за сумму меньше 100"
      ],
      "metadata": {
        "id": "H9xhb08bmQNa"
      },
      "id": "H9xhb08bmQNa"
    },
    {
      "cell_type": "code",
      "source": [
        "plt.figure(figsize=(14,7))\n",
        "sns.set_style(\"whitegrid\")\n",
        "sns.histplot(data=df, x='Fare', hue='Survived', edgecolor=\"white\", linewidth=0.25, element=\"step\", log_scale=(False, True), binwidth=5)\n",
        "plt.show()"
      ],
      "metadata": {
        "colab": {
          "base_uri": "https://localhost:8080/",
          "height": 442
        },
        "id": "YWBubI7NPMTJ",
        "outputId": "334f5cb7-bcb6-42d5-f9b2-4bafb34cbfaf"
      },
      "id": "YWBubI7NPMTJ",
      "execution_count": null,
      "outputs": [
        {
          "output_type": "display_data",
          "data": {
            "image/png": "[encoded data removed]",
            "text/plain": [
              "<Figure size 1008x504 with 1 Axes>"
            ]
          },
          "metadata": {}
        }
      ]
    },
    {
      "cell_type": "markdown",
      "source": [
        "Видно, что соотношение погибших к выжившим выше в начале диапазона и уменьшается к концу, за исключением отрезка от 310 до 500 долларов."
      ],
      "metadata": {
        "id": "h_VOvV8vQMJN"
      },
      "id": "h_VOvV8vQMJN"
    },
    {
      "cell_type": "markdown",
      "source": [
        "**Погибшие/выжившие в зависимости от пола**"
      ],
      "metadata": {
        "id": "g9HOZBgIpjU0"
      },
      "id": "g9HOZBgIpjU0"
    },
    {
      "cell_type": "code",
      "source": [
        "g = sns.catplot(x=\"Sex\", hue=\"Survived\", \n",
        "                data=df, kind=\"count\",\n",
        "                height=6, aspect=.9, legend=False).set(title='Количество выживших в зависимости от пола')\n",
        "plt.legend(labels=[\"dead\",\"survivor\"])\n",
        "plt.show()\n",
        "\n",
        "                "
      ],
      "metadata": {
        "colab": {
          "base_uri": "https://localhost:8080/",
          "height": 457
        },
        "id": "1TEKuEggLWBg",
        "outputId": "42652f1a-4af9-4145-fdba-3db040eda137"
      },
      "id": "1TEKuEggLWBg",
      "execution_count": null,
      "outputs": [
        {
          "output_type": "display_data",
          "data": {
            "image/png": "[encoded data removed]",
            "text/plain": [
              "<Figure size 388.8x432 with 1 Axes>"
            ]
          },
          "metadata": {}
        }
      ]
    },
    {
      "cell_type": "markdown",
      "source": [
        "Как видно количество погибших мужчин почти в 4 раза превышает количество погибших женщин, а количество выживших мужчин приблизительно в 3 раза меньше количества выживших женщин."
      ],
      "metadata": {
        "id": "rizw18myPgCv"
      },
      "id": "rizw18myPgCv"
    },
    {
      "cell_type": "code",
      "source": [
        "d = df.groupby(['Sex', 'Survived']).Sex.count()\n",
        "female = d[0] + d[1]\n",
        "male = d[2] + d[3]\n",
        "print(f\"Количество выживших жещин {round(d[1]/female * 100, 1)}% от всех женщин, мужчин {round(d[3]/male * 100, 1)}% от всех мужчин\")\n",
        "print(f\"Количество выживших жещин {round(d[1]/(female+male)* 100, 1)}%, мужчин {round(d[3]/(female+male) * 100, 1)}% от всех людей\")\n",
        "print(f\"Количество погибших жещин {round(d[0]/female * 100, 1)}% от всех женщин, мужчин {round(d[2]/male * 100, 1)}% от всех мужчин\")\n",
        "print(f\"Количество погибших жещин {round(d[0]/(female+male) * 100, 1)}%, мужчин {round(d[2]/(female+male) * 100, 1)}% от всех людей\")\n"
      ],
      "metadata": {
        "colab": {
          "base_uri": "https://localhost:8080/"
        },
        "id": "haeEeEAUUOan",
        "outputId": "a4c3b31f-10d6-4e93-98da-672b456a850f"
      },
      "id": "haeEeEAUUOan",
      "execution_count": null,
      "outputs": [
        {
          "output_type": "stream",
          "name": "stdout",
          "text": [
            "Количество выживших жещин 71.2% от всех женщин, мужчин 20.6% от всех мужчин\n",
            "Количество выживших жещин 31.2%, мужчин 11.6% от всех людей\n",
            "Количество погибших жещин 28.8% от всех женщин, мужчин 79.4% от всех мужчин\n",
            "Количество погибших жещин 12.7%, мужчин 44.5% от всех людей\n"
          ]
        }
      ]
    },
    {
      "cell_type": "markdown",
      "source": [
        "**Погибшие/выжившие в зависимости от пола и класса каюты**"
      ],
      "metadata": {
        "id": "vXvOLLYRAI_j"
      },
      "id": "vXvOLLYRAI_j"
    },
    {
      "cell_type": "code",
      "source": [
        "g = sns.catplot(x=\"Pclass\", hue=\"Sex\", col=\"Survived\",\n",
        "                data=df, kind=\"count\", height=6, aspect=.9)\n"
      ],
      "metadata": {
        "colab": {
          "base_uri": "https://localhost:8080/",
          "height": 441
        },
        "id": "sb2QOJrH13Hy",
        "outputId": "e22e4db9-9210-440e-f585-cf81a7c0467f"
      },
      "id": "sb2QOJrH13Hy",
      "execution_count": null,
      "outputs": [
        {
          "output_type": "display_data",
          "data": {
            "image/png": "[encoded data removed]",
            "text/plain": [
              "<Figure size 848.1x432 with 2 Axes>"
            ]
          },
          "metadata": {}
        }
      ]
    },
    {
      "cell_type": "markdown",
      "source": [
        "Видно, что самая большая часть погибших это мужчины третьего класса, доля погибших мужчин первого и второго класса меньше примерно в 2,5 раза и  примерно одинакова. Доля погибших женщин первого и второго класса примерно одинаковы, а третьего класса преобладает на первыми двумя классами. В категории выжившие самые большие значения у женщин первого и второго класса, количество выживших женщин третьего класса меньше примерно в 1,5 раза. Самой большое количество выживших мужчин у первого класса, доля второго и третьего класса примерно равна и меньше первого приблизительно в 1,5 раза."
      ],
      "metadata": {
        "id": "ATYiHFRDp47d"
      },
      "id": "ATYiHFRDp47d"
    },
    {
      "cell_type": "markdown",
      "source": [
        "**Погибшие/выжившие в зависимости от количество братьев и сестер/супругов на борту и пола**"
      ],
      "metadata": {
        "id": "2v9yHgZYAq6_"
      },
      "id": "2v9yHgZYAq6_"
    },
    {
      "cell_type": "code",
      "source": [
        "g = sns.catplot(x=\"SibSp\", hue=\"Sex\", col=\"Survived\", log=True,\n",
        "                data=df, kind=\"count\", height=6, aspect=.9)"
      ],
      "metadata": {
        "id": "my-UkWONLWEi",
        "colab": {
          "base_uri": "https://localhost:8080/",
          "height": 441
        },
        "outputId": "527fc77b-719f-45f8-e320-66bdbe627438"
      },
      "id": "my-UkWONLWEi",
      "execution_count": null,
      "outputs": [
        {
          "output_type": "display_data",
          "data": {
            "image/png": "[encoded data removed]",
            "text/plain": [
              "<Figure size 848.1x432 with 2 Axes>"
            ]
          },
          "metadata": {}
        }
      ]
    },
    {
      "cell_type": "markdown",
      "source": [
        "Количество погибших мужчин и женщин уменьшается с увеличением количества братьев/сестер/супругов. Погибших женщин в каждой категории меньше, чем мужчин. Количество выживыших тоже уменьшается с увеличением количества братьев/сестер/супругов, выживших женщин больше, чем мужчин в каждой категории. Самое большое количество мужчин и женщин погибших и выживших с количеством братьев/сестер/супругов = 0, потому как эти пассажиры составляют 73.293 % от общего количества. "
      ],
      "metadata": {
        "id": "MPDXR3ICvAzk"
      },
      "id": "MPDXR3ICvAzk"
    },
    {
      "cell_type": "markdown",
      "source": [
        "**Погибшие/выжившие в зависимости от количества родителей/детей на борту и пола**"
      ],
      "metadata": {
        "id": "RdOan8GXBdTL"
      },
      "id": "RdOan8GXBdTL"
    },
    {
      "cell_type": "code",
      "source": [
        "g = sns.catplot(x=\"Parch\", hue=\"Sex\", col=\"Survived\", log=True,\n",
        "                data=df, kind=\"count\", height=6, aspect=.9)"
      ],
      "metadata": {
        "id": "XKxjqCyLLWHj",
        "colab": {
          "base_uri": "https://localhost:8080/",
          "height": 441
        },
        "outputId": "25349c09-3711-42f6-87fd-515f70d242fe"
      },
      "id": "XKxjqCyLLWHj",
      "execution_count": null,
      "outputs": [
        {
          "output_type": "display_data",
          "data": {
            "image/png": "[encoded data removed]",
            "text/plain": [
              "<Figure size 848.1x432 with 2 Axes>"
            ]
          },
          "metadata": {}
        }
      ]
    },
    {
      "cell_type": "markdown",
      "source": [
        "Количество погибших мужчин и женщин уменьшается с увеличением количества  родителей/детей. Погибших женщин в каждой категории меньше, чем мужчин. Количество выживыших тоже уменьшается с увеличением количества братьев/сестер/супругов, выживших женщин больше, чем мужчин в каждой категории. Самое большое количество мужчин и женщин погибших и выживших с количеством родителей/детей = 0, потому как эти пассажиры составляют 73.524% % от общего количества. "
      ],
      "metadata": {
        "id": "wD-LbZD6CY2S"
      },
      "id": "wD-LbZD6CY2S"
    },
    {
      "cell_type": "markdown",
      "source": [
        "**Погибшие/выжившие в зависимости от места посадки на борт и пола**"
      ],
      "metadata": {
        "id": "67nB-oaa2o4f"
      },
      "id": "67nB-oaa2o4f"
    },
    {
      "cell_type": "code",
      "source": [
        "g = sns.catplot(x=\"Embarked\", hue=\"Sex\", col=\"Survived\", log=True,\n",
        "                data=df, kind=\"count\", height=6, aspect=.9)\n"
      ],
      "metadata": {
        "id": "wOuCWiA4LWKs",
        "colab": {
          "base_uri": "https://localhost:8080/",
          "height": 441
        },
        "outputId": "ea984179-837b-4cad-9f10-4f86dc0e6789"
      },
      "id": "wOuCWiA4LWKs",
      "execution_count": null,
      "outputs": [
        {
          "output_type": "display_data",
          "data": {
            "image/png": "[encoded data removed]",
            "text/plain": [
              "<Figure size 848.1x432 with 2 Axes>"
            ]
          },
          "metadata": {}
        }
      ]
    },
    {
      "cell_type": "markdown",
      "source": [
        "Количество погибших мужчин и женщин самое высокое в месте посадки Southampton, следующее по количеству погибших идет Cherbourg, Queenstown самое маленькое количество погибших. Кроме Queenstown, количество погибших женщин меньше, чем мужчин. Количесво выживших женщин примерно одинаково в  Cherbourg и Southampton, мужчин в каждой категории меньше женщин, в категории Queenstown выживших мужчин вообще не показано на графике. Большое количесвто погиших/ выживших в Southampton обусловлено тем, что 72.4% пассажиров погрузились на борт именно там."
      ],
      "metadata": {
        "id": "xF7qsYGL23WM"
      },
      "id": "xF7qsYGL23WM"
    },
    {
      "cell_type": "code",
      "source": [
        "gender = {\"male\": 1, \"female\": 0}\n",
        "df['Sex'] = df['Sex'].map(gender)\n",
        "port = {'S': 0, 'C': 1, 'Q': 2}\n",
        "df['Embarked'] = df['Embarked'].map(port)\n",
        "df.head(5)"
      ],
      "metadata": {
        "id": "p0kYdGj8LWN5",
        "colab": {
          "base_uri": "https://localhost:8080/",
          "height": 414
        },
        "outputId": "98b5d440-088b-4592-eaa4-8141beeb18e2"
      },
      "id": "p0kYdGj8LWN5",
      "execution_count": null,
      "outputs": [
        {
          "output_type": "stream",
          "name": "stderr",
          "text": [
            "/usr/local/lib/python3.7/dist-packages/ipykernel_launcher.py:3: SettingWithCopyWarning: \n",
            "A value is trying to be set on a copy of a slice from a DataFrame.\n",
            "Try using .loc[row_indexer,col_indexer] = value instead\n",
            "\n",
            "See the caveats in the documentation: https://pandas.pydata.org/pandas-docs/stable/user_guide/indexing.html#returning-a-view-versus-a-copy\n",
            "  This is separate from the ipykernel package so we can avoid doing imports until\n",
            "/usr/local/lib/python3.7/dist-packages/ipykernel_launcher.py:5: SettingWithCopyWarning: \n",
            "A value is trying to be set on a copy of a slice from a DataFrame.\n",
            "Try using .loc[row_indexer,col_indexer] = value instead\n",
            "\n",
            "See the caveats in the documentation: https://pandas.pydata.org/pandas-docs/stable/user_guide/indexing.html#returning-a-view-versus-a-copy\n",
            "  \"\"\"\n"
          ]
        },
        {
          "output_type": "execute_result",
          "data": {
            "text/html": [
              "\n",
              "  <div id=\"df-cfb8ed9a-7835-48d0-8bf1-6969e24b071d\">\n",
              "    <div class=\"colab-df-container\">\n",
              "      <div>\n",
              "<style scoped>\n",
              "    .dataframe tbody tr th:only-of-type {\n",
              "        vertical-align: middle;\n",
              "    }\n",
              "\n",
              "    .dataframe tbody tr th {\n",
              "        vertical-align: top;\n",
              "    }\n",
              "\n",
              "    .dataframe thead th {\n",
              "        text-align: right;\n",
              "    }\n",
              "</style>\n",
              "<table border=\"1\" class=\"dataframe\">\n",
              "  <thead>\n",
              "    <tr style=\"text-align: right;\">\n",
              "      <th></th>\n",
              "      <th>PassengerId</th>\n",
              "      <th>Survived</th>\n",
              "      <th>Pclass</th>\n",
              "      <th>Name</th>\n",
              "      <th>Sex</th>\n",
              "      <th>Age</th>\n",
              "      <th>SibSp</th>\n",
              "      <th>Parch</th>\n",
              "      <th>Ticket</th>\n",
              "      <th>Fare</th>\n",
              "      <th>Cabin</th>\n",
              "      <th>Embarked</th>\n",
              "    </tr>\n",
              "  </thead>\n",
              "  <tbody>\n",
              "    <tr>\n",
              "      <th>0</th>\n",
              "      <td>0</td>\n",
              "      <td>1</td>\n",
              "      <td>1</td>\n",
              "      <td>Oconnor, Frankie</td>\n",
              "      <td>1</td>\n",
              "      <td>42.253032</td>\n",
              "      <td>2</td>\n",
              "      <td>0</td>\n",
              "      <td>209245</td>\n",
              "      <td>27.14</td>\n",
              "      <td>C12239</td>\n",
              "      <td>0</td>\n",
              "    </tr>\n",
              "    <tr>\n",
              "      <th>1</th>\n",
              "      <td>1</td>\n",
              "      <td>0</td>\n",
              "      <td>3</td>\n",
              "      <td>Bryan, Drew</td>\n",
              "      <td>1</td>\n",
              "      <td>34.043334</td>\n",
              "      <td>0</td>\n",
              "      <td>0</td>\n",
              "      <td>27323</td>\n",
              "      <td>13.35</td>\n",
              "      <td>NaN</td>\n",
              "      <td>0</td>\n",
              "    </tr>\n",
              "    <tr>\n",
              "      <th>2</th>\n",
              "      <td>2</td>\n",
              "      <td>0</td>\n",
              "      <td>3</td>\n",
              "      <td>Owens, Kenneth</td>\n",
              "      <td>1</td>\n",
              "      <td>0.330000</td>\n",
              "      <td>1</td>\n",
              "      <td>2</td>\n",
              "      <td>CA 457703</td>\n",
              "      <td>71.29</td>\n",
              "      <td>NaN</td>\n",
              "      <td>0</td>\n",
              "    </tr>\n",
              "    <tr>\n",
              "      <th>3</th>\n",
              "      <td>3</td>\n",
              "      <td>0</td>\n",
              "      <td>3</td>\n",
              "      <td>Kramer, James</td>\n",
              "      <td>1</td>\n",
              "      <td>19.000000</td>\n",
              "      <td>0</td>\n",
              "      <td>0</td>\n",
              "      <td>A. 10866</td>\n",
              "      <td>13.04</td>\n",
              "      <td>NaN</td>\n",
              "      <td>0</td>\n",
              "    </tr>\n",
              "    <tr>\n",
              "      <th>4</th>\n",
              "      <td>4</td>\n",
              "      <td>1</td>\n",
              "      <td>3</td>\n",
              "      <td>Bond, Michael</td>\n",
              "      <td>1</td>\n",
              "      <td>25.000000</td>\n",
              "      <td>0</td>\n",
              "      <td>0</td>\n",
              "      <td>427635</td>\n",
              "      <td>7.76</td>\n",
              "      <td>NaN</td>\n",
              "      <td>0</td>\n",
              "    </tr>\n",
              "  </tbody>\n",
              "</table>\n",
              "</div>\n",
              "      <button class=\"colab-df-convert\" onclick=\"convertToInteractive('df-cfb8ed9a-7835-48d0-8bf1-6969e24b071d')\"\n",
              "              title=\"Convert this dataframe to an interactive table.\"\n",
              "              style=\"display:none;\">\n",
              "        \n",
              "  <svg xmlns=\"http://www.w3.org/2000/svg\" height=\"24px\"viewBox=\"0 0 24 24\"\n",
              "       width=\"24px\">\n",
              "    <path d=\"M0 0h24v24H0V0z\" fill=\"none\"/>\n",
              "    <path d=\"M18.56 5.44l.94 2.06.94-2.06 2.06-.94-2.06-.94-.94-2.06-.94 2.06-2.06.94zm-11 1L8.5 8.5l.94-2.06 2.06-.94-2.06-.94L8.5 2.5l-.94 2.06-2.06.94zm10 10l.94 2.06.94-2.06 2.06-.94-2.06-.94-.94-2.06-.94 2.06-2.06.94z\"/><path d=\"M17.41 7.96l-1.37-1.37c-.4-.4-.92-.59-1.43-.59-.52 0-1.04.2-1.43.59L10.3 9.45l-7.72 7.72c-.78.78-.78 2.05 0 2.83L4 21.41c.39.39.9.59 1.41.59.51 0 1.02-.2 1.41-.59l7.78-7.78 2.81-2.81c.8-.78.8-2.07 0-2.86zM5.41 20L4 18.59l7.72-7.72 1.47 1.35L5.41 20z\"/>\n",
              "  </svg>\n",
              "      </button>\n",
              "      \n",
              "  <style>\n",
              "    .colab-df-container {\n",
              "      display:flex;\n",
              "      flex-wrap:wrap;\n",
              "      gap: 12px;\n",
              "    }\n",
              "\n",
              "    .colab-df-convert {\n",
              "      background-color: #E8F0FE;\n",
              "      border: none;\n",
              "      border-radius: 50%;\n",
              "      cursor: pointer;\n",
              "      display: none;\n",
              "      fill: #1967D2;\n",
              "      height: 32px;\n",
              "      padding: 0 0 0 0;\n",
              "      width: 32px;\n",
              "    }\n",
              "\n",
              "    .colab-df-convert:hover {\n",
              "      background-color: #E2EBFA;\n",
              "      box-shadow: 0px 1px 2px rgba(60, 64, 67, 0.3), 0px 1px 3px 1px rgba(60, 64, 67, 0.15);\n",
              "      fill: #174EA6;\n",
              "    }\n",
              "\n",
              "    [theme=dark] .colab-df-convert {\n",
              "      background-color: #3B4455;\n",
              "      fill: #D2E3FC;\n",
              "    }\n",
              "\n",
              "    [theme=dark] .colab-df-convert:hover {\n",
              "      background-color: #434B5C;\n",
              "      box-shadow: 0px 1px 3px 1px rgba(0, 0, 0, 0.15);\n",
              "      filter: drop-shadow(0px 1px 2px rgba(0, 0, 0, 0.3));\n",
              "      fill: #FFFFFF;\n",
              "    }\n",
              "  </style>\n",
              "\n",
              "      <script>\n",
              "        const buttonEl =\n",
              "          document.querySelector('#df-cfb8ed9a-7835-48d0-8bf1-6969e24b071d button.colab-df-convert');\n",
              "        buttonEl.style.display =\n",
              "          google.colab.kernel.accessAllowed ? 'block' : 'none';\n",
              "\n",
              "        async function convertToInteractive(key) {\n",
              "          const element = document.querySelector('#df-cfb8ed9a-7835-48d0-8bf1-6969e24b071d');\n",
              "          const dataTable =\n",
              "            await google.colab.kernel.invokeFunction('convertToInteractive',\n",
              "                                                     [key], {});\n",
              "          if (!dataTable) return;\n",
              "\n",
              "          const docLinkHtml = 'Like what you see? Visit the ' +\n",
              "            '<a target=\"_blank\" href=https://colab.research.google.com/notebooks/data_table.ipynb>data table notebook</a>'\n",
              "            + ' to learn more about interactive tables.';\n",
              "          element.innerHTML = '';\n",
              "          dataTable['output_type'] = 'display_data';\n",
              "          await google.colab.output.renderOutput(dataTable, element);\n",
              "          const docLink = document.createElement('div');\n",
              "          docLink.innerHTML = docLinkHtml;\n",
              "          element.appendChild(docLink);\n",
              "        }\n",
              "      </script>\n",
              "    </div>\n",
              "  </div>\n",
              "  "
            ],
            "text/plain": [
              "   PassengerId Survived Pclass              Name Sex        Age SibSp Parch  \\\n",
              "0            0        1      1  Oconnor, Frankie   1  42.253032     2     0   \n",
              "1            1        0      3       Bryan, Drew   1  34.043334     0     0   \n",
              "2            2        0      3    Owens, Kenneth   1   0.330000     1     2   \n",
              "3            3        0      3     Kramer, James   1  19.000000     0     0   \n",
              "4            4        1      3     Bond, Michael   1  25.000000     0     0   \n",
              "\n",
              "      Ticket   Fare   Cabin Embarked  \n",
              "0     209245  27.14  C12239        0  \n",
              "1      27323  13.35     NaN        0  \n",
              "2  CA 457703  71.29     NaN        0  \n",
              "3   A. 10866  13.04     NaN        0  \n",
              "4     427635   7.76     NaN        0  "
            ]
          },
          "metadata": {},
          "execution_count": 385
        }
      ]
    },
    {
      "cell_type": "code",
      "execution_count": null,
      "metadata": {
        "id": "e443ca82"
      },
      "outputs": [],
      "source": [
        "df['Survived'] = df['Survived'].astype('int64')\n",
        "df['Pclass'] = df['Pclass'].astype('int64')\n",
        "df['Sex'] = df['Sex'].astype('int64')\n",
        "df['SibSp'] = df['SibSp'].astype('int64')\n",
        "df['Parch'] = df['Parch'].astype('int64')\n",
        "df['Embarked'] = df['Embarked'].astype('int64')"
      ],
      "id": "e443ca82"
    },
    {
      "cell_type": "markdown",
      "source": [
        "**Матрица корреляции между признаками**"
      ],
      "metadata": {
        "id": "k1svyb88kxSA"
      },
      "id": "k1svyb88kxSA"
    },
    {
      "cell_type": "code",
      "source": [
        "corrMatrix = df.corr(method='pearson')\n",
        "\n",
        "plt.figure(figsize=(14,7))\n",
        "sns.heatmap(data=corrMatrix, annot=True)\n",
        "plt.xlabel(\"Relation between characteristics\")\n",
        "plt.show()"
      ],
      "metadata": {
        "colab": {
          "base_uri": "https://localhost:8080/",
          "height": 446
        },
        "id": "7OyDWxuh7X74",
        "outputId": "fed1c16f-8399-4789-e7bf-74dc556938fa"
      },
      "id": "7OyDWxuh7X74",
      "execution_count": null,
      "outputs": [
        {
          "output_type": "display_data",
          "data": {
            "image/png": "[encoded data removed]",
            "text/plain": [
              "<Figure size 1008x504 with 2 Axes>"
            ]
          },
          "metadata": {}
        }
      ]
    },
    {
      "cell_type": "markdown",
      "source": [
        "Если смотреть только на категорию Survived видно, что есть некая связь с категориями Sex, Pclass, Fare, Embarked."
      ],
      "metadata": {
        "id": "AJ7kbKJb9Gwu"
      },
      "id": "AJ7kbKJb9Gwu"
    },
    {
      "cell_type": "markdown",
      "metadata": {
        "id": "034945c8"
      },
      "source": [
        "# Summary"
      ],
      "id": "034945c8"
    },
    {
      "cell_type": "markdown",
      "source": [
        "**В результате анализа датасета были сделаны следующие пункты:**\n",
        "\n",
        "*Данные проверены на наличие пропуском, выбросов и дубликатов:*\n",
        "\n",
        "1.   Найдены пропущенные значения: в Age - 3292, Ticket - 4623, Fare - 134, Cabin - 67866, Embarked - 250.\n",
        "2.   Проведена проверка на дубликаты. Найдено 62 значения совпадающие по категориям Name, Age, SibSp, Parch, Pclass, Embarked. Решено удалить эти значения из датасета.\n",
        "3.   Найдены выбросы в категории Fare, в других не нашел. Получено выбросов для 1-го класса: 2069, 2-го: 1808, 3-го: 2761. Эти значения были исключены при получении среднего по каждому классу для заполнения пропущенных значений в категории Fare. Выбросы не удалялись и не изменялись в датасете.\n",
        "4.   Заменены пропущеные значения в категории Age средним по классу и полу, в категории Embarked самым частым значением, а в категории Fare средним по классу без учета выбросов.\n",
        "\n",
        "*В результате исследований данных было получено:*\n",
        "\n",
        "1.   Общее число погиших составило примерно 57,2% от общего кол-ва пассажиров.\n",
        "2.   Самое большое количество пассажиров ехало 3-м классом.\n",
        "3.   Количество женщин 43,9%, а мужчин 56,1% от общего кол-ва пассажиров.\n",
        "4.   Количество пассажиров не имеющих братьев и сестер/супругов составило 73,3% от общего кол-ва пассажиров.\n",
        "5.   Количество пассажиров не имеющих родителей/детей составило 73,5% от общего кол-ва пассажиров.\n",
        "6.   Наибольшее количесво пассажиров зашло на борт в Southampton : 72.4% от общего кол-ва пассажиров.\n",
        "7.   *Погибшие/выжившие в зависимости от пола и класса каюты.*  Количество погибших мужчин почти в 4 раза превышает количество погибших женщин, а количество выживших мужчин приблизительно в 3 раза меньше количества выживших женщин.\n",
        "8.   *Погибшие/выжившие в зависимости от пола и стоимости билета.*   \n",
        "В диапазоне возрастов примерно от 2 лет до 15, девочек больше, чем мальчиков. Также в возрасте примерно 38-40, 52-54 года и 60 лет и старше женщин больше, чем мужчин, на всех остальных промежутках мужчин больше, чем женщин. Почти во всем диапазоне возрастов погибших мужчин больше, чем погибших женщин, также количество выживших женщин больше мужчин.\n",
        "9.   *Погибшие/выжившие в зависимости от пола и класса каюты.*  \n",
        "Видно, что самая большая часть погибших это мужчины третьего класса, доля погибших мужчин первого и второго класса меньше примерно в 2,5 раза и примерно одинакова. Доля погибших женщин первого и второго класса примерно одинаковы, а третьего класса преобладает на первыми двумя классами. В категории выжившие самые большие значения у женщин первого и второго класса, количество выживших женщин третьего класса меньше примерно в 1,5 раза. Самой большое количество выживших мужчин у первого класса, доля второго и третьего класса примерно равна и меньше первого приблизительно в 1,5 раза\n",
        "10.   *Погибшие/выжившие в зависимости от количество братьев и сестер/супругов на борту и пола.*   Количество погибших мужчин и женщин уменьшается с увеличением количества братьев/сестер/супругов. Погибших женщин в каждой категории меньше, чем мужчин. Количество выживыших тоже уменьшается с увеличением количества братьев/сестер/супругов, выживших женщин больше, чем мужчин в каждой категории. Самое большое количество мужчин и женщин погибших и выживших с количеством братьев/сестер/супругов = 0, потому как эти пассажиры составляют 73.293 % от общего количества.\n",
        "11.   *Погибшие/выжившие в зависимости от количества родителей/детей на борту и пола.*   Количество погибших мужчин и женщин уменьшается с увеличением количества  родителей/детей. Погибших женщин в каждой категории меньше, чем мужчин. Количество выживыших тоже уменьшается с увеличением количества братьев/сестер/супругов, выживших женщин больше, чем мужчин в каждой категории. Самое большое количество мужчин и женщин погибших и выживших с количеством родителей/детей = 0, потому как эти пассажиры составляют 73.524% % от общего количества. \n",
        "12.   *Погибшие/выжившие в зависимости от места посадки на борт и пола.*   Количество погибших мужчин и женщин самое высокое в месте посадки Southampton, следующее по количеству погибших идет Cherbourg, Queenstown самое маленькое количество погибших. Кроме Queenstown, количество погибших женщин меньше, чем мужчин. Количесво выживших женщин примерно одинаково в Cherbourg и Southampton, мужчин в каждой категории меньше женщин, в категории Queenstown выживших мужчин вообще не показано на графике. Большое количесвто погиших/ выживших в Southampton обусловлено тем, что 72.4% пассажиров погрузились на борт именно там.\n",
        "13.    *Матрица корреляции между признаками.*   Если смотреть только на категорию Survived видно, что есть некая связь с категориями Sex, Pclass, Fare, Embarked.\n",
        "\n",
        "*   Наибольший шанс выжить был у девочек до 16 лет и  женщин старше 20 лет \n",
        "ехавших в первом и втором классе, без супруга/братьев/сестер и без родителей/детей севших в Southampton или Cherbourg.\n",
        "*   Наименьший шанс выжить был у мальчиков до 8 лет и мужчин в возрасте от  15 до примерно 70 лет ехавшим в третьем классе без братьев/сестер или с одним, без родителей/детей или с двумя, севшим в Southampton."
      ],
      "metadata": {
        "id": "er0k2Eqy-ts9"
      },
      "id": "er0k2Eqy-ts9"
    },
    {
      "cell_type": "code",
      "execution_count": null,
      "metadata": {
        "id": "72e3fb13"
      },
      "outputs": [],
      "source": [
        ""
      ],
      "id": "72e3fb13"
    }
  ],
  "metadata": {
    "colab": {
      "name": "eda_git.ipynb\"",
      "provenance": [],
      "collapsed_sections": [],
      "include_colab_link": true
    },
    "kernelspec": {
      "display_name": "Python 3 (ipykernel)",
      "language": "python",
      "name": "python3"
    },
    "language_info": {
      "codemirror_mode": {
        "name": "ipython",
        "version": 3
      },
      "file_extension": ".py",
      "mimetype": "text/x-python",
      "name": "python",
      "nbconvert_exporter": "python",
      "pygments_lexer": "ipython3",
      "version": "3.8.12"
    },
    "toc": {
      "base_numbering": 1,
      "nav_menu": {},
      "number_sections": true,
      "sideBar": true,
      "skip_h1_title": false,
      "title_cell": "Table of Contents",
      "title_sidebar": "Contents",
      "toc_cell": false,
      "toc_position": {},
      "toc_section_display": true,
      "toc_window_display": false
    }
  },
  "nbformat": 4,
  "nbformat_minor": 5
}