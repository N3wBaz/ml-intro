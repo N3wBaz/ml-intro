{
  "nbformat": 4,
  "nbformat_minor": 0,
  "metadata": {
    "colab": {
      "name": "Forest EDA 0.80443.ipynb",
      "provenance": [],
      "collapsed_sections": [],
      "authorship_tag": "ABX9TyO1dUZNGg25HYecOHp/4wKO",
      "include_colab_link": true
    },
    "kernelspec": {
      "name": "python3",
      "display_name": "Python 3"
    },
    "language_info": {
      "name": "python"
    }
  },
  "cells": [
    {
      "cell_type": "markdown",
      "metadata": {
        "id": "view-in-github",
        "colab_type": "text"
      },
      "source": [
        "<a href=\"https://colab.research.google.com/github/N3wBaz/ml-intro/blob/main/9_evaluation_selection(competition)/Forest.ipynb\" target=\"_parent\"><img src=\"https://colab.research.google.com/assets/colab-badge.svg\" alt=\"Open In Colab\"/></a>"
      ]
    },
    {
      "cell_type": "code",
      "execution_count": 1,
      "metadata": {
        "colab": {
          "base_uri": "https://localhost:8080/"
        },
        "id": "udGr6M4bcbGc",
        "outputId": "f1f644c9-b8d2-49c7-f2f7-33c0a51e871e"
      },
      "outputs": [
        {
          "output_type": "stream",
          "name": "stdout",
          "text": [
            "Mounted at /content/gdrive/\n"
          ]
        }
      ],
      "source": [
        "from google.colab import drive\n",
        "drive.mount('/content/gdrive/')\n"
      ]
    },
    {
      "cell_type": "code",
      "source": [
        "import pandas as pd\n",
        "import numpy as np\n",
        "import matplotlib.pyplot as plt\n",
        "import seaborn as sns\n",
        "\n",
        "from sklearn.preprocessing import PowerTransformer\n",
        "from sklearn.preprocessing import QuantileTransformer\n",
        "from sklearn.preprocessing import StandardScaler, MinMaxScaler\n",
        "from sklearn.ensemble import RandomForestClassifier\n",
        "from sklearn.model_selection import GridSearchCV\n",
        "from sklearn.ensemble import ExtraTreesClassifier\n",
        "from sklearn.model_selection import StratifiedKFold"
      ],
      "metadata": {
        "id": "pWzDJ36FcruE"
      },
      "execution_count": 21,
      "outputs": []
    },
    {
      "cell_type": "code",
      "source": [
        "SEED = 42"
      ],
      "metadata": {
        "id": "iDUZ1krRfyTU"
      },
      "execution_count": 22,
      "outputs": []
    },
    {
      "cell_type": "code",
      "source": [
        "data = pd.read_csv(\"/content/gdrive/MyDrive/RS_school_course/9_capstone_project/ml_project/train.csv\", index_col=0)"
      ],
      "metadata": {
        "id": "x8WHm__icvWc"
      },
      "execution_count": 23,
      "outputs": []
    },
    {
      "cell_type": "code",
      "source": [
        "target = data['Cover_Type']\n",
        "features = data.drop(columns=['Cover_Type'])\n"
      ],
      "metadata": {
        "id": "7KujeFuCdCcT"
      },
      "execution_count": 24,
      "outputs": []
    },
    {
      "cell_type": "code",
      "source": [
        "# тестовые данные\n",
        "test = pd.read_csv(\"/content/gdrive/MyDrive/RS_school_course/9_capstone_project/KaggleCompetion/test.csv.zip\")"
      ],
      "metadata": {
        "id": "RTDe-VIlBzm7"
      },
      "execution_count": 25,
      "outputs": []
    },
    {
      "cell_type": "code",
      "source": [
        "for items in features.columns:\n",
        "    if features[items].std() == 0:\n",
        "        print(items)\n",
        "        features.drop(items,axis = 1,inplace = True)"
      ],
      "metadata": {
        "colab": {
          "base_uri": "https://localhost:8080/"
        },
        "id": "0Q6bwX9se2VV",
        "outputId": "35416b61-ebca-4a0e-c7f3-80ca895143b8"
      },
      "execution_count": 26,
      "outputs": [
        {
          "output_type": "stream",
          "name": "stdout",
          "text": [
            "Soil_Type7\n",
            "Soil_Type15\n"
          ]
        }
      ]
    },
    {
      "cell_type": "code",
      "source": [
        "test.drop(\"Soil_Type7\",axis = 1,inplace = True)\n",
        "test.drop(\"Soil_Type15\",axis = 1,inplace  =True)"
      ],
      "metadata": {
        "id": "q7y8fZMlfRQE"
      },
      "execution_count": 27,
      "outputs": []
    },
    {
      "cell_type": "code",
      "source": [
        "test_id = test['Id']\n",
        "test = test.drop(columns=[\"Id\"])\n",
        "test.head()\n"
      ],
      "metadata": {
        "colab": {
          "base_uri": "https://localhost:8080/",
          "height": 299
        },
        "id": "-pLvxTO_B_vj",
        "outputId": "3f508b9f-a2ae-4e1a-badf-0d55e4c1dc6a"
      },
      "execution_count": 28,
      "outputs": [
        {
          "output_type": "execute_result",
          "data": {
            "text/plain": [
              "   Elevation  Aspect  Slope  Horizontal_Distance_To_Hydrology  \\\n",
              "0       2680     354     14                                 0   \n",
              "1       2683       0     13                                 0   \n",
              "2       2713      16     15                                 0   \n",
              "3       2709      24     17                                 0   \n",
              "4       2706      29     19                                 0   \n",
              "\n",
              "   Vertical_Distance_To_Hydrology  Horizontal_Distance_To_Roadways  \\\n",
              "0                               0                             2684   \n",
              "1                               0                             2654   \n",
              "2                               0                             2980   \n",
              "3                               0                             2950   \n",
              "4                               0                             2920   \n",
              "\n",
              "   Hillshade_9am  Hillshade_Noon  Hillshade_3pm  \\\n",
              "0            196             214            156   \n",
              "1            201             216            152   \n",
              "2            206             208            137   \n",
              "3            208             201            125   \n",
              "4            210             195            115   \n",
              "\n",
              "   Horizontal_Distance_To_Fire_Points  ...  Soil_Type31  Soil_Type32  \\\n",
              "0                                6645  ...            0            0   \n",
              "1                                6675  ...            0            0   \n",
              "2                                6344  ...            0            0   \n",
              "3                                6374  ...            0            0   \n",
              "4                                6404  ...            0            0   \n",
              "\n",
              "   Soil_Type33  Soil_Type34  Soil_Type35  Soil_Type36  Soil_Type37  \\\n",
              "0            0            0            0            0            0   \n",
              "1            0            0            0            0            0   \n",
              "2            0            0            0            0            0   \n",
              "3            0            0            0            0            0   \n",
              "4            0            0            0            0            0   \n",
              "\n",
              "   Soil_Type38  Soil_Type39  Soil_Type40  \n",
              "0            0            0            0  \n",
              "1            0            0            0  \n",
              "2            0            0            0  \n",
              "3            0            0            0  \n",
              "4            0            0            0  \n",
              "\n",
              "[5 rows x 52 columns]"
            ],
            "text/html": [
              "\n",
              "  <div id=\"df-d031676c-0ce4-49dd-8f97-8f83486ad728\">\n",
              "    <div class=\"colab-df-container\">\n",
              "      <div>\n",
              "<style scoped>\n",
              "    .dataframe tbody tr th:only-of-type {\n",
              "        vertical-align: middle;\n",
              "    }\n",
              "\n",
              "    .dataframe tbody tr th {\n",
              "        vertical-align: top;\n",
              "    }\n",
              "\n",
              "    .dataframe thead th {\n",
              "        text-align: right;\n",
              "    }\n",
              "</style>\n",
              "<table border=\"1\" class=\"dataframe\">\n",
              "  <thead>\n",
              "    <tr style=\"text-align: right;\">\n",
              "      <th></th>\n",
              "      <th>Elevation</th>\n",
              "      <th>Aspect</th>\n",
              "      <th>Slope</th>\n",
              "      <th>Horizontal_Distance_To_Hydrology</th>\n",
              "      <th>Vertical_Distance_To_Hydrology</th>\n",
              "      <th>Horizontal_Distance_To_Roadways</th>\n",
              "      <th>Hillshade_9am</th>\n",
              "      <th>Hillshade_Noon</th>\n",
              "      <th>Hillshade_3pm</th>\n",
              "      <th>Horizontal_Distance_To_Fire_Points</th>\n",
              "      <th>...</th>\n",
              "      <th>Soil_Type31</th>\n",
              "      <th>Soil_Type32</th>\n",
              "      <th>Soil_Type33</th>\n",
              "      <th>Soil_Type34</th>\n",
              "      <th>Soil_Type35</th>\n",
              "      <th>Soil_Type36</th>\n",
              "      <th>Soil_Type37</th>\n",
              "      <th>Soil_Type38</th>\n",
              "      <th>Soil_Type39</th>\n",
              "      <th>Soil_Type40</th>\n",
              "    </tr>\n",
              "  </thead>\n",
              "  <tbody>\n",
              "    <tr>\n",
              "      <th>0</th>\n",
              "      <td>2680</td>\n",
              "      <td>354</td>\n",
              "      <td>14</td>\n",
              "      <td>0</td>\n",
              "      <td>0</td>\n",
              "      <td>2684</td>\n",
              "      <td>196</td>\n",
              "      <td>214</td>\n",
              "      <td>156</td>\n",
              "      <td>6645</td>\n",
              "      <td>...</td>\n",
              "      <td>0</td>\n",
              "      <td>0</td>\n",
              "      <td>0</td>\n",
              "      <td>0</td>\n",
              "      <td>0</td>\n",
              "      <td>0</td>\n",
              "      <td>0</td>\n",
              "      <td>0</td>\n",
              "      <td>0</td>\n",
              "      <td>0</td>\n",
              "    </tr>\n",
              "    <tr>\n",
              "      <th>1</th>\n",
              "      <td>2683</td>\n",
              "      <td>0</td>\n",
              "      <td>13</td>\n",
              "      <td>0</td>\n",
              "      <td>0</td>\n",
              "      <td>2654</td>\n",
              "      <td>201</td>\n",
              "      <td>216</td>\n",
              "      <td>152</td>\n",
              "      <td>6675</td>\n",
              "      <td>...</td>\n",
              "      <td>0</td>\n",
              "      <td>0</td>\n",
              "      <td>0</td>\n",
              "      <td>0</td>\n",
              "      <td>0</td>\n",
              "      <td>0</td>\n",
              "      <td>0</td>\n",
              "      <td>0</td>\n",
              "      <td>0</td>\n",
              "      <td>0</td>\n",
              "    </tr>\n",
              "    <tr>\n",
              "      <th>2</th>\n",
              "      <td>2713</td>\n",
              "      <td>16</td>\n",
              "      <td>15</td>\n",
              "      <td>0</td>\n",
              "      <td>0</td>\n",
              "      <td>2980</td>\n",
              "      <td>206</td>\n",
              "      <td>208</td>\n",
              "      <td>137</td>\n",
              "      <td>6344</td>\n",
              "      <td>...</td>\n",
              "      <td>0</td>\n",
              "      <td>0</td>\n",
              "      <td>0</td>\n",
              "      <td>0</td>\n",
              "      <td>0</td>\n",
              "      <td>0</td>\n",
              "      <td>0</td>\n",
              "      <td>0</td>\n",
              "      <td>0</td>\n",
              "      <td>0</td>\n",
              "    </tr>\n",
              "    <tr>\n",
              "      <th>3</th>\n",
              "      <td>2709</td>\n",
              "      <td>24</td>\n",
              "      <td>17</td>\n",
              "      <td>0</td>\n",
              "      <td>0</td>\n",
              "      <td>2950</td>\n",
              "      <td>208</td>\n",
              "      <td>201</td>\n",
              "      <td>125</td>\n",
              "      <td>6374</td>\n",
              "      <td>...</td>\n",
              "      <td>0</td>\n",
              "      <td>0</td>\n",
              "      <td>0</td>\n",
              "      <td>0</td>\n",
              "      <td>0</td>\n",
              "      <td>0</td>\n",
              "      <td>0</td>\n",
              "      <td>0</td>\n",
              "      <td>0</td>\n",
              "      <td>0</td>\n",
              "    </tr>\n",
              "    <tr>\n",
              "      <th>4</th>\n",
              "      <td>2706</td>\n",
              "      <td>29</td>\n",
              "      <td>19</td>\n",
              "      <td>0</td>\n",
              "      <td>0</td>\n",
              "      <td>2920</td>\n",
              "      <td>210</td>\n",
              "      <td>195</td>\n",
              "      <td>115</td>\n",
              "      <td>6404</td>\n",
              "      <td>...</td>\n",
              "      <td>0</td>\n",
              "      <td>0</td>\n",
              "      <td>0</td>\n",
              "      <td>0</td>\n",
              "      <td>0</td>\n",
              "      <td>0</td>\n",
              "      <td>0</td>\n",
              "      <td>0</td>\n",
              "      <td>0</td>\n",
              "      <td>0</td>\n",
              "    </tr>\n",
              "  </tbody>\n",
              "</table>\n",
              "<p>5 rows × 52 columns</p>\n",
              "</div>\n",
              "      <button class=\"colab-df-convert\" onclick=\"convertToInteractive('df-d031676c-0ce4-49dd-8f97-8f83486ad728')\"\n",
              "              title=\"Convert this dataframe to an interactive table.\"\n",
              "              style=\"display:none;\">\n",
              "        \n",
              "  <svg xmlns=\"http://www.w3.org/2000/svg\" height=\"24px\"viewBox=\"0 0 24 24\"\n",
              "       width=\"24px\">\n",
              "    <path d=\"M0 0h24v24H0V0z\" fill=\"none\"/>\n",
              "    <path d=\"M18.56 5.44l.94 2.06.94-2.06 2.06-.94-2.06-.94-.94-2.06-.94 2.06-2.06.94zm-11 1L8.5 8.5l.94-2.06 2.06-.94-2.06-.94L8.5 2.5l-.94 2.06-2.06.94zm10 10l.94 2.06.94-2.06 2.06-.94-2.06-.94-.94-2.06-.94 2.06-2.06.94z\"/><path d=\"M17.41 7.96l-1.37-1.37c-.4-.4-.92-.59-1.43-.59-.52 0-1.04.2-1.43.59L10.3 9.45l-7.72 7.72c-.78.78-.78 2.05 0 2.83L4 21.41c.39.39.9.59 1.41.59.51 0 1.02-.2 1.41-.59l7.78-7.78 2.81-2.81c.8-.78.8-2.07 0-2.86zM5.41 20L4 18.59l7.72-7.72 1.47 1.35L5.41 20z\"/>\n",
              "  </svg>\n",
              "      </button>\n",
              "      \n",
              "  <style>\n",
              "    .colab-df-container {\n",
              "      display:flex;\n",
              "      flex-wrap:wrap;\n",
              "      gap: 12px;\n",
              "    }\n",
              "\n",
              "    .colab-df-convert {\n",
              "      background-color: #E8F0FE;\n",
              "      border: none;\n",
              "      border-radius: 50%;\n",
              "      cursor: pointer;\n",
              "      display: none;\n",
              "      fill: #1967D2;\n",
              "      height: 32px;\n",
              "      padding: 0 0 0 0;\n",
              "      width: 32px;\n",
              "    }\n",
              "\n",
              "    .colab-df-convert:hover {\n",
              "      background-color: #E2EBFA;\n",
              "      box-shadow: 0px 1px 2px rgba(60, 64, 67, 0.3), 0px 1px 3px 1px rgba(60, 64, 67, 0.15);\n",
              "      fill: #174EA6;\n",
              "    }\n",
              "\n",
              "    [theme=dark] .colab-df-convert {\n",
              "      background-color: #3B4455;\n",
              "      fill: #D2E3FC;\n",
              "    }\n",
              "\n",
              "    [theme=dark] .colab-df-convert:hover {\n",
              "      background-color: #434B5C;\n",
              "      box-shadow: 0px 1px 3px 1px rgba(0, 0, 0, 0.15);\n",
              "      filter: drop-shadow(0px 1px 2px rgba(0, 0, 0, 0.3));\n",
              "      fill: #FFFFFF;\n",
              "    }\n",
              "  </style>\n",
              "\n",
              "      <script>\n",
              "        const buttonEl =\n",
              "          document.querySelector('#df-d031676c-0ce4-49dd-8f97-8f83486ad728 button.colab-df-convert');\n",
              "        buttonEl.style.display =\n",
              "          google.colab.kernel.accessAllowed ? 'block' : 'none';\n",
              "\n",
              "        async function convertToInteractive(key) {\n",
              "          const element = document.querySelector('#df-d031676c-0ce4-49dd-8f97-8f83486ad728');\n",
              "          const dataTable =\n",
              "            await google.colab.kernel.invokeFunction('convertToInteractive',\n",
              "                                                     [key], {});\n",
              "          if (!dataTable) return;\n",
              "\n",
              "          const docLinkHtml = 'Like what you see? Visit the ' +\n",
              "            '<a target=\"_blank\" href=https://colab.research.google.com/notebooks/data_table.ipynb>data table notebook</a>'\n",
              "            + ' to learn more about interactive tables.';\n",
              "          element.innerHTML = '';\n",
              "          dataTable['output_type'] = 'display_data';\n",
              "          await google.colab.output.renderOutput(dataTable, element);\n",
              "          const docLink = document.createElement('div');\n",
              "          docLink.innerHTML = docLinkHtml;\n",
              "          element.appendChild(docLink);\n",
              "        }\n",
              "      </script>\n",
              "    </div>\n",
              "  </div>\n",
              "  "
            ]
          },
          "metadata": {},
          "execution_count": 28
        }
      ]
    },
    {
      "cell_type": "code",
      "source": [
        "# мучаем признаки\n",
        "\n",
        "features[\"hyd_distance\"]=np.sqrt(features[\"Vertical_Distance_To_Hydrology\"]**2 + features[\"Horizontal_Distance_To_Hydrology\"]**2)\n",
        "test[\"hyd_distance\"]=np.sqrt(test[\"Vertical_Distance_To_Hydrology\"]**2 + test[\"Horizontal_Distance_To_Hydrology\"]**2)"
      ],
      "metadata": {
        "id": "DsAXUWumgSKo"
      },
      "execution_count": 29,
      "outputs": []
    },
    {
      "cell_type": "code",
      "source": [
        "features[\"mean_comfort_distance\"] = (features[\"Horizontal_Distance_To_Hydrology\"] + features[\"Horizontal_Distance_To_Roadways\"] + features[\"Horizontal_Distance_To_Fire_Points\"])/3\n",
        "test[\"mean_comfort_distance\"] = (test[\"Horizontal_Distance_To_Hydrology\"] + test[\"Horizontal_Distance_To_Roadways\"] + test[\"Horizontal_Distance_To_Fire_Points\"])/3"
      ],
      "metadata": {
        "id": "MzAGuIukiOVW"
      },
      "execution_count": 30,
      "outputs": []
    },
    {
      "cell_type": "code",
      "source": [
        "features[\"closeness1\"] = features[\"Horizontal_Distance_To_Hydrology\"] - features[\"Horizontal_Distance_To_Roadways\"]\n",
        "features[\"closeness2\"] = features[\"Horizontal_Distance_To_Hydrology\"] - features[\"Horizontal_Distance_To_Fire_Points\"]\n",
        "features[\"closeness3\"] = features[\"Horizontal_Distance_To_Roadways\"] - features[\"Horizontal_Distance_To_Fire_Points\"]\n",
        "test[\"closeness1\"] = test[\"Horizontal_Distance_To_Hydrology\"] - test[\"Horizontal_Distance_To_Roadways\"]\n",
        "test[\"closeness2\"] = test[\"Horizontal_Distance_To_Hydrology\"] - test[\"Horizontal_Distance_To_Fire_Points\"]\n",
        "test[\"closeness3\"] = test[\"Horizontal_Distance_To_Roadways\"] - test[\"Horizontal_Distance_To_Fire_Points\"]"
      ],
      "metadata": {
        "id": "-eV8kc-NiSxe"
      },
      "execution_count": 31,
      "outputs": []
    },
    {
      "cell_type": "code",
      "source": [
        "\n",
        "features[\"Elevation_roadways\"] = features[\"Elevation\"] - .05*features[\"Horizontal_Distance_To_Roadways\"]\n",
        "features[\"Elevation_vd\"] = features[\"Elevation\"] - features[\"Vertical_Distance_To_Hydrology\"]\n",
        "features[\"Elevation_hd\"] = features[\"Elevation\"] - .5*features[\"Horizontal_Distance_To_Hydrology\"]\n",
        "test[\"Elevation_roadways\"] = test[\"Elevation\"] - .05*test[\"Horizontal_Distance_To_Roadways\"]\n",
        "test[\"Elevation_vd\"] = test[\"Elevation\"] - test[\"Vertical_Distance_To_Hydrology\"]\n",
        "test[\"Elevation_hd\"] = test[\"Elevation\"] - .5*test[\"Horizontal_Distance_To_Hydrology\"]"
      ],
      "metadata": {
        "id": "LJopkEAQicmV"
      },
      "execution_count": 32,
      "outputs": []
    },
    {
      "cell_type": "code",
      "source": [
        "# обучение\n",
        "\n",
        "model = ExtraTreesClassifier(random_state=SEED)\n",
        "\n",
        "parameters = {\n",
        "              'n_estimators' : [*range(30, 150, 10)],\n",
        "              'max_depth' : [ 5, 10, 15, 20, 25, 30, 35, 40],\n",
        "              }\n",
        "custom_cv = StratifiedKFold(n_splits=5, random_state=SEED, shuffle=True)\n",
        "gridsearch_forest = GridSearchCV(model, parameters, cv=custom_cv, verbose=0, n_jobs=-1, scoring='accuracy')\n",
        "                       \n",
        "gridsearch_forest.fit(features, target);"
      ],
      "metadata": {
        "id": "-Y6kh6wd2WXp"
      },
      "execution_count": 33,
      "outputs": []
    },
    {
      "cell_type": "code",
      "source": [
        "gridsearch_forest.best_score_"
      ],
      "metadata": {
        "colab": {
          "base_uri": "https://localhost:8080/"
        },
        "id": "zLNBISmc7f2d",
        "outputId": "955a951a-834c-4f5f-8839-2a042ac0ba06"
      },
      "execution_count": 34,
      "outputs": [
        {
          "output_type": "execute_result",
          "data": {
            "text/plain": [
              "0.9006613756613756"
            ]
          },
          "metadata": {},
          "execution_count": 34
        }
      ]
    },
    {
      "cell_type": "code",
      "source": [
        "gridsearch_forest.best_params_"
      ],
      "metadata": {
        "colab": {
          "base_uri": "https://localhost:8080/"
        },
        "id": "RyMXr_-9JIlF",
        "outputId": "a406890b-0054-4aad-8aaa-2f10ad964068"
      },
      "execution_count": 35,
      "outputs": [
        {
          "output_type": "execute_result",
          "data": {
            "text/plain": [
              "{'max_depth': 40, 'n_estimators': 130}"
            ]
          },
          "metadata": {},
          "execution_count": 35
        }
      ]
    },
    {
      "cell_type": "code",
      "source": [
        "\n",
        "predict = gridsearch_forest.predict(test)"
      ],
      "metadata": {
        "id": "VLHW7KWmEGEz"
      },
      "execution_count": 36,
      "outputs": []
    },
    {
      "cell_type": "code",
      "source": [
        "\n",
        "\n",
        "predict = pd.DataFrame(predict)\n",
        "predict.rename(columns={0: \"Cover_Type\"}, inplace=True)\n",
        "\n",
        "pred = pd.concat([test_id, predict], axis=1)\n",
        "pred.to_csv(\"/content/gdrive/MyDrive/RS_school_course/9_capstone_project/KaggleCompetion/predict1.csv\",index=False)"
      ],
      "metadata": {
        "id": "dpP1VlhUEQGn"
      },
      "execution_count": 37,
      "outputs": []
    }
  ]
}