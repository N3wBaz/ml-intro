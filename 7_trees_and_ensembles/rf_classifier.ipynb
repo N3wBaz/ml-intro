{
  "cells": [
    {
      "cell_type": "markdown",
      "metadata": {
        "id": "view-in-github",
        "colab_type": "text"
      },
      "source": [
        "<a href=\"https://colab.research.google.com/github/N3wBaz/ml-intro/blob/main/7_trees_and_ensembles/rf_classifier.ipynb\" target=\"_parent\"><img src=\"https://colab.research.google.com/assets/colab-badge.svg\" alt=\"Open In Colab\"/></a>"
      ]
    },
    {
      "cell_type": "markdown",
      "metadata": {
        "id": "_b5ZSGm61aQS"
      },
      "source": [
        "# Introduction"
      ]
    },
    {
      "cell_type": "markdown",
      "metadata": {
        "id": "VeiBMlWD1aQd"
      },
      "source": [
        "Fortunately, with libraries such as Scikit-Learn, it’s now easy to build and use almost any machine learning algorithm. But it’s helpful to have an idea of how a machine learning model works under the hood. This lets us diagnose the model when it’s underperforming or explain how it makes decisions, which is crucial if we want to convince others to trust our models.\n",
        "In this assignment, we’ll look at how to build and use the Decision Tree and the Random Forest in Python. We’ll start by understanding how a single decision tree makes classifications on a simple problem. Then, we’ll work our way to using a random forest on a real-world data science problem."
      ]
    },
    {
      "cell_type": "markdown",
      "metadata": {
        "id": "fEq-YAEq1aQi"
      },
      "source": [
        "# Dataset"
      ]
    },
    {
      "cell_type": "markdown",
      "metadata": {
        "id": "Uo7vodXg1aQj"
      },
      "source": [
        "The dataset we will use in this assignment is the Sonar dataset.\n",
        "\n",
        "This is a dataset that describes sonar chirp returns bouncing off different surfaces. The 60 predictors are the strength of the returns at different angles. It is a binary classification problem that requires a model to differentiate rocks from metal cylinders. There are 208 observations.\n",
        "\n",
        "It is a well-understood dataset. All of the variables are continuous and generally in the range of 0 to 1. The output variable is a string “M” for mine and “R” for rock, which will need to be converted to integers 1 and 0.\n",
        "\n",
        "By predicting the class with the most observations in the dataset (M or mines) the Zero Rule Algorithm can achieve an accuracy of 53%.\n",
        "\n",
        "You can learn more about this dataset at the UCI Machine Learning repository.\n",
        "https://archive.ics.uci.edu/ml/datasets/Connectionist+Bench+(Sonar,+Mines+vs.+Rocks)\n",
        "\n",
        "Download the dataset for free and place it in the \"data\" folder in your working directory with the filename sonar.all-data.csv."
      ]
    },
    {
      "cell_type": "markdown",
      "metadata": {
        "id": "JHA69eP-1aQl"
      },
      "source": [
        "# Import section"
      ]
    },
    {
      "cell_type": "code",
      "execution_count": 1,
      "metadata": {
        "ExecuteTime": {
          "end_time": "2022-01-17T20:27:52.137523Z",
          "start_time": "2022-01-17T20:27:51.210945Z"
        },
        "id": "Si39vz8N1aQl"
      },
      "outputs": [],
      "source": [
        "import numpy as np\n",
        "import pandas as pd\n",
        "import matplotlib.pyplot as plt\n",
        "import seaborn as sns\n",
        "from sklearn.model_selection import train_test_split\n",
        "from sklearn.metrics import accuracy_score"
      ]
    },
    {
      "cell_type": "code",
      "source": [
        "RANDOM_STATE = 2020"
      ],
      "metadata": {
        "id": "vYsTgicmEq5W"
      },
      "execution_count": 2,
      "outputs": []
    },
    {
      "cell_type": "code",
      "source": [
        "from google.colab import drive\n",
        "drive.mount('/content/gdrive/')"
      ],
      "metadata": {
        "colab": {
          "base_uri": "https://localhost:8080/"
        },
        "id": "9PLMYqpD4lWp",
        "outputId": "c1aec76d-5eb4-4589-81a7-b723ef034d17"
      },
      "execution_count": 3,
      "outputs": [
        {
          "output_type": "stream",
          "name": "stdout",
          "text": [
            "Mounted at /content/gdrive/\n"
          ]
        }
      ]
    },
    {
      "cell_type": "code",
      "source": [
        "#Это для подключения tests в colab\n",
        "!cp /content/gdrive/MyDrive/RS_school_course/7_trees_and_ensembles/tests.py /content"
      ],
      "metadata": {
        "id": "d0I13hVD9tTr"
      },
      "execution_count": 4,
      "outputs": []
    },
    {
      "cell_type": "code",
      "source": [
        "import tests"
      ],
      "metadata": {
        "id": "rzakfgpM-Q-U"
      },
      "execution_count": 5,
      "outputs": []
    },
    {
      "cell_type": "markdown",
      "metadata": {
        "id": "YYKTTh9r1aQr"
      },
      "source": [
        "# Preprocess data"
      ]
    },
    {
      "cell_type": "markdown",
      "metadata": {
        "id": "FYInZrMf1aQs"
      },
      "source": [
        "Read data and convert targets to integers 1 and 0."
      ]
    },
    {
      "cell_type": "code",
      "execution_count": 6,
      "metadata": {
        "ExecuteTime": {
          "end_time": "2022-01-17T20:27:52.216149Z",
          "start_time": "2022-01-17T20:27:52.171403Z"
        },
        "id": "RbhN8T-31aQt",
        "colab": {
          "base_uri": "https://localhost:8080/",
          "height": 236
        },
        "outputId": "81fee745-0bb0-45d3-9148-af7fde243711"
      },
      "outputs": [
        {
          "output_type": "execute_result",
          "data": {
            "text/plain": [
              "   feat_0  feat_1  feat_2  feat_3  feat_4  feat_5  feat_6  feat_7  feat_8  \\\n",
              "0  0.0200  0.0371  0.0428  0.0207  0.0954  0.0986  0.1539  0.1601  0.3109   \n",
              "1  0.0453  0.0523  0.0843  0.0689  0.1183  0.2583  0.2156  0.3481  0.3337   \n",
              "2  0.0262  0.0582  0.1099  0.1083  0.0974  0.2280  0.2431  0.3771  0.5598   \n",
              "3  0.0100  0.0171  0.0623  0.0205  0.0205  0.0368  0.1098  0.1276  0.0598   \n",
              "4  0.0762  0.0666  0.0481  0.0394  0.0590  0.0649  0.1209  0.2467  0.3564   \n",
              "\n",
              "   feat_9  ...  feat_51  feat_52  feat_53  feat_54  feat_55  feat_56  feat_57  \\\n",
              "0  0.2111  ...   0.0027   0.0065   0.0159   0.0072   0.0167   0.0180   0.0084   \n",
              "1  0.2872  ...   0.0084   0.0089   0.0048   0.0094   0.0191   0.0140   0.0049   \n",
              "2  0.6194  ...   0.0232   0.0166   0.0095   0.0180   0.0244   0.0316   0.0164   \n",
              "3  0.1264  ...   0.0121   0.0036   0.0150   0.0085   0.0073   0.0050   0.0044   \n",
              "4  0.4459  ...   0.0031   0.0054   0.0105   0.0110   0.0015   0.0072   0.0048   \n",
              "\n",
              "   feat_58  feat_59  target  \n",
              "0   0.0090   0.0032       0  \n",
              "1   0.0052   0.0044       0  \n",
              "2   0.0095   0.0078       0  \n",
              "3   0.0040   0.0117       0  \n",
              "4   0.0107   0.0094       0  \n",
              "\n",
              "[5 rows x 61 columns]"
            ],
            "text/html": [
              "\n",
              "  <div id=\"df-8e641355-c164-4788-8605-4913212382fb\">\n",
              "    <div class=\"colab-df-container\">\n",
              "      <div>\n",
              "<style scoped>\n",
              "    .dataframe tbody tr th:only-of-type {\n",
              "        vertical-align: middle;\n",
              "    }\n",
              "\n",
              "    .dataframe tbody tr th {\n",
              "        vertical-align: top;\n",
              "    }\n",
              "\n",
              "    .dataframe thead th {\n",
              "        text-align: right;\n",
              "    }\n",
              "</style>\n",
              "<table border=\"1\" class=\"dataframe\">\n",
              "  <thead>\n",
              "    <tr style=\"text-align: right;\">\n",
              "      <th></th>\n",
              "      <th>feat_0</th>\n",
              "      <th>feat_1</th>\n",
              "      <th>feat_2</th>\n",
              "      <th>feat_3</th>\n",
              "      <th>feat_4</th>\n",
              "      <th>feat_5</th>\n",
              "      <th>feat_6</th>\n",
              "      <th>feat_7</th>\n",
              "      <th>feat_8</th>\n",
              "      <th>feat_9</th>\n",
              "      <th>...</th>\n",
              "      <th>feat_51</th>\n",
              "      <th>feat_52</th>\n",
              "      <th>feat_53</th>\n",
              "      <th>feat_54</th>\n",
              "      <th>feat_55</th>\n",
              "      <th>feat_56</th>\n",
              "      <th>feat_57</th>\n",
              "      <th>feat_58</th>\n",
              "      <th>feat_59</th>\n",
              "      <th>target</th>\n",
              "    </tr>\n",
              "  </thead>\n",
              "  <tbody>\n",
              "    <tr>\n",
              "      <th>0</th>\n",
              "      <td>0.0200</td>\n",
              "      <td>0.0371</td>\n",
              "      <td>0.0428</td>\n",
              "      <td>0.0207</td>\n",
              "      <td>0.0954</td>\n",
              "      <td>0.0986</td>\n",
              "      <td>0.1539</td>\n",
              "      <td>0.1601</td>\n",
              "      <td>0.3109</td>\n",
              "      <td>0.2111</td>\n",
              "      <td>...</td>\n",
              "      <td>0.0027</td>\n",
              "      <td>0.0065</td>\n",
              "      <td>0.0159</td>\n",
              "      <td>0.0072</td>\n",
              "      <td>0.0167</td>\n",
              "      <td>0.0180</td>\n",
              "      <td>0.0084</td>\n",
              "      <td>0.0090</td>\n",
              "      <td>0.0032</td>\n",
              "      <td>0</td>\n",
              "    </tr>\n",
              "    <tr>\n",
              "      <th>1</th>\n",
              "      <td>0.0453</td>\n",
              "      <td>0.0523</td>\n",
              "      <td>0.0843</td>\n",
              "      <td>0.0689</td>\n",
              "      <td>0.1183</td>\n",
              "      <td>0.2583</td>\n",
              "      <td>0.2156</td>\n",
              "      <td>0.3481</td>\n",
              "      <td>0.3337</td>\n",
              "      <td>0.2872</td>\n",
              "      <td>...</td>\n",
              "      <td>0.0084</td>\n",
              "      <td>0.0089</td>\n",
              "      <td>0.0048</td>\n",
              "      <td>0.0094</td>\n",
              "      <td>0.0191</td>\n",
              "      <td>0.0140</td>\n",
              "      <td>0.0049</td>\n",
              "      <td>0.0052</td>\n",
              "      <td>0.0044</td>\n",
              "      <td>0</td>\n",
              "    </tr>\n",
              "    <tr>\n",
              "      <th>2</th>\n",
              "      <td>0.0262</td>\n",
              "      <td>0.0582</td>\n",
              "      <td>0.1099</td>\n",
              "      <td>0.1083</td>\n",
              "      <td>0.0974</td>\n",
              "      <td>0.2280</td>\n",
              "      <td>0.2431</td>\n",
              "      <td>0.3771</td>\n",
              "      <td>0.5598</td>\n",
              "      <td>0.6194</td>\n",
              "      <td>...</td>\n",
              "      <td>0.0232</td>\n",
              "      <td>0.0166</td>\n",
              "      <td>0.0095</td>\n",
              "      <td>0.0180</td>\n",
              "      <td>0.0244</td>\n",
              "      <td>0.0316</td>\n",
              "      <td>0.0164</td>\n",
              "      <td>0.0095</td>\n",
              "      <td>0.0078</td>\n",
              "      <td>0</td>\n",
              "    </tr>\n",
              "    <tr>\n",
              "      <th>3</th>\n",
              "      <td>0.0100</td>\n",
              "      <td>0.0171</td>\n",
              "      <td>0.0623</td>\n",
              "      <td>0.0205</td>\n",
              "      <td>0.0205</td>\n",
              "      <td>0.0368</td>\n",
              "      <td>0.1098</td>\n",
              "      <td>0.1276</td>\n",
              "      <td>0.0598</td>\n",
              "      <td>0.1264</td>\n",
              "      <td>...</td>\n",
              "      <td>0.0121</td>\n",
              "      <td>0.0036</td>\n",
              "      <td>0.0150</td>\n",
              "      <td>0.0085</td>\n",
              "      <td>0.0073</td>\n",
              "      <td>0.0050</td>\n",
              "      <td>0.0044</td>\n",
              "      <td>0.0040</td>\n",
              "      <td>0.0117</td>\n",
              "      <td>0</td>\n",
              "    </tr>\n",
              "    <tr>\n",
              "      <th>4</th>\n",
              "      <td>0.0762</td>\n",
              "      <td>0.0666</td>\n",
              "      <td>0.0481</td>\n",
              "      <td>0.0394</td>\n",
              "      <td>0.0590</td>\n",
              "      <td>0.0649</td>\n",
              "      <td>0.1209</td>\n",
              "      <td>0.2467</td>\n",
              "      <td>0.3564</td>\n",
              "      <td>0.4459</td>\n",
              "      <td>...</td>\n",
              "      <td>0.0031</td>\n",
              "      <td>0.0054</td>\n",
              "      <td>0.0105</td>\n",
              "      <td>0.0110</td>\n",
              "      <td>0.0015</td>\n",
              "      <td>0.0072</td>\n",
              "      <td>0.0048</td>\n",
              "      <td>0.0107</td>\n",
              "      <td>0.0094</td>\n",
              "      <td>0</td>\n",
              "    </tr>\n",
              "  </tbody>\n",
              "</table>\n",
              "<p>5 rows × 61 columns</p>\n",
              "</div>\n",
              "      <button class=\"colab-df-convert\" onclick=\"convertToInteractive('df-8e641355-c164-4788-8605-4913212382fb')\"\n",
              "              title=\"Convert this dataframe to an interactive table.\"\n",
              "              style=\"display:none;\">\n",
              "        \n",
              "  <svg xmlns=\"http://www.w3.org/2000/svg\" height=\"24px\"viewBox=\"0 0 24 24\"\n",
              "       width=\"24px\">\n",
              "    <path d=\"M0 0h24v24H0V0z\" fill=\"none\"/>\n",
              "    <path d=\"M18.56 5.44l.94 2.06.94-2.06 2.06-.94-2.06-.94-.94-2.06-.94 2.06-2.06.94zm-11 1L8.5 8.5l.94-2.06 2.06-.94-2.06-.94L8.5 2.5l-.94 2.06-2.06.94zm10 10l.94 2.06.94-2.06 2.06-.94-2.06-.94-.94-2.06-.94 2.06-2.06.94z\"/><path d=\"M17.41 7.96l-1.37-1.37c-.4-.4-.92-.59-1.43-.59-.52 0-1.04.2-1.43.59L10.3 9.45l-7.72 7.72c-.78.78-.78 2.05 0 2.83L4 21.41c.39.39.9.59 1.41.59.51 0 1.02-.2 1.41-.59l7.78-7.78 2.81-2.81c.8-.78.8-2.07 0-2.86zM5.41 20L4 18.59l7.72-7.72 1.47 1.35L5.41 20z\"/>\n",
              "  </svg>\n",
              "      </button>\n",
              "      \n",
              "  <style>\n",
              "    .colab-df-container {\n",
              "      display:flex;\n",
              "      flex-wrap:wrap;\n",
              "      gap: 12px;\n",
              "    }\n",
              "\n",
              "    .colab-df-convert {\n",
              "      background-color: #E8F0FE;\n",
              "      border: none;\n",
              "      border-radius: 50%;\n",
              "      cursor: pointer;\n",
              "      display: none;\n",
              "      fill: #1967D2;\n",
              "      height: 32px;\n",
              "      padding: 0 0 0 0;\n",
              "      width: 32px;\n",
              "    }\n",
              "\n",
              "    .colab-df-convert:hover {\n",
              "      background-color: #E2EBFA;\n",
              "      box-shadow: 0px 1px 2px rgba(60, 64, 67, 0.3), 0px 1px 3px 1px rgba(60, 64, 67, 0.15);\n",
              "      fill: #174EA6;\n",
              "    }\n",
              "\n",
              "    [theme=dark] .colab-df-convert {\n",
              "      background-color: #3B4455;\n",
              "      fill: #D2E3FC;\n",
              "    }\n",
              "\n",
              "    [theme=dark] .colab-df-convert:hover {\n",
              "      background-color: #434B5C;\n",
              "      box-shadow: 0px 1px 3px 1px rgba(0, 0, 0, 0.15);\n",
              "      filter: drop-shadow(0px 1px 2px rgba(0, 0, 0, 0.3));\n",
              "      fill: #FFFFFF;\n",
              "    }\n",
              "  </style>\n",
              "\n",
              "      <script>\n",
              "        const buttonEl =\n",
              "          document.querySelector('#df-8e641355-c164-4788-8605-4913212382fb button.colab-df-convert');\n",
              "        buttonEl.style.display =\n",
              "          google.colab.kernel.accessAllowed ? 'block' : 'none';\n",
              "\n",
              "        async function convertToInteractive(key) {\n",
              "          const element = document.querySelector('#df-8e641355-c164-4788-8605-4913212382fb');\n",
              "          const dataTable =\n",
              "            await google.colab.kernel.invokeFunction('convertToInteractive',\n",
              "                                                     [key], {});\n",
              "          if (!dataTable) return;\n",
              "\n",
              "          const docLinkHtml = 'Like what you see? Visit the ' +\n",
              "            '<a target=\"_blank\" href=https://colab.research.google.com/notebooks/data_table.ipynb>data table notebook</a>'\n",
              "            + ' to learn more about interactive tables.';\n",
              "          element.innerHTML = '';\n",
              "          dataTable['output_type'] = 'display_data';\n",
              "          await google.colab.output.renderOutput(dataTable, element);\n",
              "          const docLink = document.createElement('div');\n",
              "          docLink.innerHTML = docLinkHtml;\n",
              "          element.appendChild(docLink);\n",
              "        }\n",
              "      </script>\n",
              "    </div>\n",
              "  </div>\n",
              "  "
            ]
          },
          "metadata": {},
          "execution_count": 6
        }
      ],
      "source": [
        "PATH = '/content/gdrive/MyDrive/RS_school_course/7_trees_and_ensembles/data/'\n",
        "df = pd.read_csv(PATH+'sonar-all-data.csv', header=None)\n",
        "df.columns = [f'feat_{col}' if col!=60 else 'target' for col in df.columns]\n",
        "df['target'] = df['target'].map({'M': 1, 'R': 0})\n",
        "df.head()"
      ]
    },
    {
      "cell_type": "markdown",
      "metadata": {
        "id": "4p388GYj1aQu"
      },
      "source": [
        "# Split data (train and test)"
      ]
    },
    {
      "cell_type": "code",
      "execution_count": 7,
      "metadata": {
        "ExecuteTime": {
          "end_time": "2022-01-17T20:27:52.230836Z",
          "start_time": "2022-01-17T20:27:52.217831Z"
        },
        "id": "VR_RsRkq1aQu"
      },
      "outputs": [],
      "source": [
        "X_train, X_test, y_train, y_test = train_test_split(df.drop(columns='target'), df['target'], test_size=0.2, random_state=RANDOM_STATE)"
      ]
    },
    {
      "cell_type": "markdown",
      "metadata": {
        "id": "i12_XgFR1aQw"
      },
      "source": [
        "# Homework part 1. Implementation of Random Forest Classifier."
      ]
    },
    {
      "cell_type": "markdown",
      "metadata": {
        "id": "uI0zsSN-1aQx"
      },
      "source": [
        "## Splitting criteria"
      ]
    },
    {
      "cell_type": "markdown",
      "metadata": {
        "id": "FV9YxSSd1aQx"
      },
      "source": [
        "**Task 1 - 2 points.** In this section you should implement two criteria for splitting of the feature space. Any of these can be used in the model."
      ]
    },
    {
      "cell_type": "markdown",
      "metadata": {
        "id": "91Pk3RFy1aQy"
      },
      "source": [
        "### Gini index"
      ]
    },
    {
      "cell_type": "markdown",
      "metadata": {
        "id": "RQOCWpvb1aQy"
      },
      "source": [
        "0.5 points for *gini_index* function"
      ]
    },
    {
      "cell_type": "code",
      "execution_count": 8,
      "metadata": {
        "ExecuteTime": {
          "end_time": "2022-01-17T20:27:52.246755Z",
          "start_time": "2022-01-17T20:27:52.231795Z"
        },
        "id": "NUkJan5t1aQz"
      },
      "outputs": [],
      "source": [
        "from collections import Counter\n",
        "\n",
        "def gini_index(x):\n",
        "    \"\"\" Calculate Gini Index for a node\n",
        "    Args:\n",
        "        x: Numpy-array of targets in a node\n",
        "    Returns:\n",
        "        float: Gini index\n",
        "    \"\"\" \n",
        "    if len(x) == 0:\n",
        "        return 0\n",
        "    count = Counter(x)\n",
        "    prob = np.asarray([*count.values()]) / len(x)   \n",
        "    return 1 - np.sum(prob ** 2)"
      ]
    },
    {
      "cell_type": "code",
      "execution_count": 9,
      "metadata": {
        "ExecuteTime": {
          "end_time": "2022-01-17T20:27:52.372197Z",
          "start_time": "2022-01-17T20:27:52.248750Z"
        },
        "id": "Q64gSddG1aQ0",
        "colab": {
          "base_uri": "https://localhost:8080/"
        },
        "outputId": "802516aa-c7c7-4a88-9c34-473832d1f95f"
      },
      "outputs": [
        {
          "output_type": "stream",
          "name": "stdout",
          "text": [
            "\u001b[92m All good!\n"
          ]
        }
      ],
      "source": [
        "tests.test_gini_index(gini_index)"
      ]
    },
    {
      "cell_type": "markdown",
      "metadata": {
        "id": "XYMtyCfX1aQ1"
      },
      "source": [
        "0.5 points for *gini_gain* function"
      ]
    },
    {
      "cell_type": "code",
      "execution_count": 10,
      "metadata": {
        "ExecuteTime": {
          "end_time": "2022-01-17T20:27:52.374411Z",
          "start_time": "2022-01-17T20:27:51.226Z"
        },
        "id": "xynZP7jo1aQ1"
      },
      "outputs": [],
      "source": [
        "def gini_gain(parent_node, splits):\n",
        "    \"\"\" Calculate Gini Gain for a particular split\n",
        "    Args:\n",
        "        parent_node: Numpy-array of targets in a parent node\n",
        "        splits: List of two numpy-arrays. Each numpy-array is targets in a child node\n",
        "    Returns:\n",
        "        float: Gini gain\n",
        "    \"\"\" \n",
        "    gain = gini_index(parent_node)  \n",
        "    for split in splits:\n",
        "        gain -= gini_index(split) * len(split) / len(parent_node)\n",
        "    return gain\n",
        "\n"
      ]
    },
    {
      "cell_type": "code",
      "source": [
        "tests.test_gini_gain(gini_gain)"
      ],
      "metadata": {
        "colab": {
          "base_uri": "https://localhost:8080/"
        },
        "id": "GZ6fu3dcTewR",
        "outputId": "180ced04-e18a-409a-8d48-196f8b7f0bcf"
      },
      "execution_count": 11,
      "outputs": [
        {
          "output_type": "stream",
          "name": "stdout",
          "text": [
            "\u001b[92m All good!\n"
          ]
        }
      ]
    },
    {
      "cell_type": "markdown",
      "metadata": {
        "id": "38EwEarl1aQ-"
      },
      "source": [
        "### Entropy"
      ]
    },
    {
      "cell_type": "markdown",
      "metadata": {
        "id": "KOmQsVcU1aQ_"
      },
      "source": [
        "0.5 points for *entropy* function. WARNING! Use only natural logarithm np.log() for calculation."
      ]
    },
    {
      "cell_type": "code",
      "execution_count": 12,
      "metadata": {
        "ExecuteTime": {
          "end_time": "2022-01-17T20:27:52.376406Z",
          "start_time": "2022-01-17T20:27:51.230Z"
        },
        "id": "Od-eSspA1aRC"
      },
      "outputs": [],
      "source": [
        "def entropy(x):\n",
        "    \"\"\" Calculate Entropy for a node\n",
        "    Args:\n",
        "        x: Numpy-array of targets in a node\n",
        "    Returns:\n",
        "        float: Entropy\n",
        "    \"\"\"\n",
        "    # If you use vectorized operations on a vector of frequencies p\n",
        "    # where some of the relative frequencies may be 0, and you need to evaluate\n",
        "    # the expression p * np.log(p), you can use the \"where\" argument of the np.log() function.\n",
        "    # This will leave those elements of the array untouched by the function, \n",
        "    # thus evaluating x*log(x) as zero, exactly as we want it to be.\n",
        "\n",
        "    count = Counter(x)\n",
        "    prob = np.asarray([*count.values()]) / len(x)   \n",
        "\n",
        "    return -np.sum(prob * np.log(prob, where=0<prob, out=np.ones(prob.shape)))"
      ]
    },
    {
      "cell_type": "code",
      "execution_count": 13,
      "metadata": {
        "ExecuteTime": {
          "end_time": "2022-01-17T20:27:52.376406Z",
          "start_time": "2022-01-17T20:27:51.233Z"
        },
        "id": "X08AOtYR1aRG",
        "colab": {
          "base_uri": "https://localhost:8080/"
        },
        "outputId": "97df0b9b-7db3-4c09-fde5-5dc070284186"
      },
      "outputs": [
        {
          "output_type": "stream",
          "name": "stdout",
          "text": [
            "\u001b[92m All good!\n"
          ]
        }
      ],
      "source": [
        "tests.test_entropy(entropy)"
      ]
    },
    {
      "cell_type": "markdown",
      "metadata": {
        "id": "Ros1hcjZ1aRI"
      },
      "source": [
        "0.5 points for *information_gain* function"
      ]
    },
    {
      "cell_type": "code",
      "execution_count": 14,
      "metadata": {
        "ExecuteTime": {
          "end_time": "2022-01-17T20:27:52.377403Z",
          "start_time": "2022-01-17T20:27:51.234Z"
        },
        "id": "r6CtfLTc1aRI"
      },
      "outputs": [],
      "source": [
        "def information_gain(parent_node, splits):\n",
        "    \"\"\" Calculate Information Gain for a particular split\n",
        "    Args:\n",
        "        parent_node: Numpy-array of targets in a parent node\n",
        "        splits: List of two numpy-arrays. Each numpy-array is targets in a child node\n",
        "    Returns:\n",
        "        float: Information Gain\n",
        "    \"\"\"     \n",
        "    info_gain = entropy(parent_node)\n",
        "    for split in splits:\n",
        "        info_gain -= entropy(split)* len(split) / len(parent_node)\n",
        "\n",
        "    return info_gain"
      ]
    },
    {
      "cell_type": "code",
      "execution_count": 15,
      "metadata": {
        "ExecuteTime": {
          "end_time": "2022-01-17T20:27:52.378400Z",
          "start_time": "2022-01-17T20:27:51.236Z"
        },
        "id": "9xQTMB4P1aRJ",
        "colab": {
          "base_uri": "https://localhost:8080/"
        },
        "outputId": "2382c78a-c67f-4281-a553-1643debb8438"
      },
      "outputs": [
        {
          "output_type": "stream",
          "name": "stdout",
          "text": [
            "\u001b[92m All good!\n"
          ]
        }
      ],
      "source": [
        "tests.test_information_gain(information_gain)"
      ]
    },
    {
      "cell_type": "markdown",
      "metadata": {
        "id": "lvRKazVP1aRJ"
      },
      "source": [
        "## Split function"
      ]
    },
    {
      "cell_type": "markdown",
      "metadata": {
        "id": "ou8qn2g51aRK"
      },
      "source": [
        "**Task 2 - 1 point** Implement *split_dataset* function. <br>\n",
        "The rows of the dataframe received by a tree node are split into two dataframes depending on their values in a selected column. Rows with values smaller than the chosen threshold are stored in the resulting left dataframe, and we save rows with values larger than the threshold in the right dataframe. The array with target values should be split in accordance with the feature dataframe."
      ]
    },
    {
      "cell_type": "code",
      "execution_count": 16,
      "metadata": {
        "ExecuteTime": {
          "end_time": "2022-01-17T20:27:52.379398Z",
          "start_time": "2022-01-17T20:27:51.239Z"
        },
        "id": "3Ilyd9bJ1aRK"
      },
      "outputs": [],
      "source": [
        "def split(X, y, value):\n",
        "    \"\"\" Split y-values in order to calculate gain later\n",
        "    Args:\n",
        "        X: 1-dimensional numpy-array of data predictor with shape (N,)\n",
        "        y: 1-dimensional numpy-array of targets with shape (N,)\n",
        "        value (float): the value by which the X should be splitted\n",
        "    Returns:\n",
        "        Two 1-dimensional numpy-arrays with targets related to splits\n",
        "    \"\"\"      \n",
        "    left_mask = X < value\n",
        "    right_mask = X >= value\n",
        "    return y[left_mask], y[right_mask]\n",
        "\n",
        "\n",
        "def split_dataset(X, y, column, value):\n",
        "    \"\"\" Split dataset by a particular column and value\n",
        "    Args:\n",
        "        X: 2-dimensional numpy-array (N, num_feats). N-number of samples\n",
        "        y: 1-dimensional numpy-array of targets with shape (N,)  \n",
        "        column (int): the column by which the X should be splitted\n",
        "        value (float): the value by which the column should be splitted\n",
        "    Returns:\n",
        "        Two 2-dimensional numpy-arrays with data and two 1-dimensional numpy-arrays with targets related to splits\n",
        "        left_X, right_X, left_y, right_y\n",
        "    \"\"\"     \n",
        "    left_mask = X[:, column] < value\n",
        "    right_mask = X[:, column] >= value\n",
        "\n",
        "    left_y, right_y = y[left_mask], y[right_mask]\n",
        "    left_X, right_X = X[left_mask], X[right_mask]\n",
        "\n",
        "    return left_X, right_X, left_y, right_y"
      ]
    },
    {
      "cell_type": "code",
      "execution_count": 17,
      "metadata": {
        "ExecuteTime": {
          "end_time": "2022-01-17T20:27:52.380396Z",
          "start_time": "2022-01-17T20:27:51.240Z"
        },
        "id": "RcOlW5yJ1aRL",
        "colab": {
          "base_uri": "https://localhost:8080/"
        },
        "outputId": "47af230b-04b7-4474-bb1a-9e52ccc9f2b4"
      },
      "outputs": [
        {
          "output_type": "stream",
          "name": "stdout",
          "text": [
            "\u001b[92m All good!\n"
          ]
        }
      ],
      "source": [
        "tests.test_split_dataset(split_dataset)"
      ]
    },
    {
      "cell_type": "markdown",
      "metadata": {
        "id": "KV87zpvl1aRM"
      },
      "source": [
        "## Decision tree"
      ]
    },
    {
      "cell_type": "markdown",
      "metadata": {
        "id": "BR70pbA71aRM"
      },
      "source": [
        "**Task 3 - 4.5 points** In the Tree class below you need to complete the *fit(), predict_row()* and *predict()* functions.<br>\n",
        "Each tree is basically a tree node that may have a left and a right child that are also trees. If a tree doesn't have any child nodes, we call it a leaf.<br>\n",
        "Since features for splitting a dataframe are chosen randomly, we need a mechanism to control this randomness to aquire reproducibility for testing purposes. In our case we use the [Random Generator](https://numpy.org/doc/stable/reference/random/generator.html)<br>\n",
        "By creation of a tree only the **criterion** and the **rng** fields are not filled with Nones, so each tree knows what criterion for dataframe splitting it should use. Each fitted tree knows as well by which column and value the split should be performed. If a tree is a leaf it doesn't have information about the split, but stores the predicted value."
      ]
    },
    {
      "cell_type": "code",
      "execution_count": 18,
      "metadata": {
        "ExecuteTime": {
          "end_time": "2022-01-17T22:03:37.866634Z",
          "start_time": "2022-01-17T22:03:37.816038Z"
        },
        "id": "gGIgBuW91aRN"
      },
      "outputs": [],
      "source": [
        "class Tree(object):\n",
        "    \"\"\"A decision tree classifier.\n",
        "\n",
        "    Args:\n",
        "        criterion : {\"gini\", \"entropy\"}, default=\"gini\"\n",
        "            The function to measure the quality of a split. Supported criteria are\n",
        "            \"gini\" for the Gini impurity and \"entropy\" for the information gain.\n",
        "        random_gen: numpy Random Generator object, default=None\n",
        "            Generator should be passed over for reproducible results. If None, \n",
        "            a new np.random.default_rng() will be created.\n",
        "    \"\"\"\n",
        "    def __init__(self, criterion='gini', random_gen=None):\n",
        "        if criterion not in [\"gini\", \"entropy\"]:\n",
        "            raise ValueError(f'Unknown criteria for splits {criterion}')\n",
        "        self.criterion = criterion\n",
        "        self.threshold = None           # value of the next split\n",
        "        self.column_index = None        # column to use for the next split\n",
        "        self.outcome_probs = None       # the predicted value if the tree is a leaf\n",
        "        self.left_child = None\n",
        "        self.right_child = None\n",
        "        self.random_gen = random_gen if random_gen is not None else np.random.default_rng(RANDOM_STATE)\n",
        "\n",
        "    @property\n",
        "    def is_terminal(self):\n",
        "        \"\"\"Define is it terminal node.\"\"\"          \n",
        "        return not bool(self.left_child and self.right_child)\n",
        "    \n",
        "    def _compute_gain(self, y, splits):\n",
        "        \"\"\"Compute split gain according to chosen criteria.\"\"\"\n",
        "        func = gini_gain if self.criterion == 'gini' else information_gain\n",
        "        return func(y, splits)\n",
        "\n",
        "    def _find_splits(self, X):\n",
        "        \"\"\"Find all possible split values.\"\"\"\n",
        "        split_values = set()\n",
        "\n",
        "        # Get unique values in a sorted order\n",
        "        x_unique = list(np.unique(X))\n",
        "        for i in range(1, len(x_unique)):\n",
        "            # Find a point between two values\n",
        "            average = (x_unique[i - 1] + x_unique[i]) / 2.0\n",
        "            split_values.add(average)\n",
        "\n",
        "        return list(split_values)\n",
        "\n",
        "    def _find_best_split(self, X, y, n_features):\n",
        "        \"\"\"Find best feature and value for a split. Greedy algorithm.\"\"\"\n",
        "        # Sample random subset of features\n",
        "        subset = self.random_gen.choice(list(range(0, X.shape[1])), n_features, replace=False)\n",
        "\n",
        "        max_gain, max_col, max_val = None, None, None\n",
        "\n",
        "        for column in subset:\n",
        "            split_values = self._find_splits(X[:, column])\n",
        "            for value in split_values:\n",
        "                splits = split(X[:, column], y, value)\n",
        "                gain = self._compute_gain(y, splits)\n",
        "\n",
        "                if (max_gain is None) or (gain > max_gain):\n",
        "                    max_col, max_val, max_gain = column, value, gain\n",
        "        return max_col, max_val, max_gain\n",
        "    \n",
        "    def _compute_outcome(self, y):\n",
        "        \"\"\"Save outcome probabilities for the leaf.\"\"\"\n",
        "        self.outcome_probs = np.around(np.sum(y) / y.shape[0])\n",
        "\n",
        "    def fit(self, X, y, feature_frac=1.0, max_depth=None):\n",
        "        \"\"\"Fit model.\n",
        "\n",
        "        Args:\n",
        "            X (numpy-array):      The training input samples. 2-dimensional numpy array.\n",
        "            y (numpy-array):      The target values. 1-dimensional numpy array.\n",
        "            feature_frac (float): The fraction of features to use when fit is performed. Must be \n",
        "                                  between 0.0 and 1.0 (default: 1.0, i.e. all features).\n",
        "            max_depth (int):      The maximum depth of the tree. If None, then nodes are expanded\n",
        "                                  until all leaves are pure.\n",
        "        \"\"\"\n",
        "        # 3 points\n",
        "\n",
        "        # Make this tree a leaf and return if max_depth doesn't allow it to grow further\n",
        "        if max_depth is not None and max_depth <= 0:\n",
        "            return self._compute_outcome(y)       \n",
        "\n",
        "        if not 0.0 <= feature_frac <= 1.0:\n",
        "            raise ValueError('feature_frac must lie between 0.0 and 1.0')\n",
        "        # Compute the number of features to use. Should be integer number\n",
        "        n_features = int(X.shape[1] * feature_frac)\n",
        "\n",
        "        \n",
        "        # Find the next split    \n",
        "        column, value, gain = self._find_best_split(X, y, n_features)\n",
        "        \n",
        "        # Make this tree a leaf and return if the split doesn't bring any gain\n",
        "        if gain is None or gain == 0:\n",
        "            self._compute_outcome(y)\n",
        "            return None\n",
        "        \n",
        "        # Save the necessary information about the next split\n",
        "        self.column_index = column\n",
        "    \n",
        "        self.threshold = value\n",
        "\n",
        "        # Reduce the max_depth parameter for the next tree\n",
        "    \n",
        "        if max_depth is not None:\n",
        "            max_depth -= 1\n",
        "\n",
        "        # Split dataset\n",
        "        left_X, right_X, left_target, right_target = split_dataset(X, y, column, value)\n",
        "\n",
        "        # Grow left and right child. Pass over the parent's random generator\n",
        "        # for reproducible results \n",
        "        self.left_child = Tree(criterion=self.criterion, random_gen=self.random_gen)\n",
        "        self.left_child.fit(left_X, left_target, feature_frac,  max_depth)\n",
        "\n",
        "        self.right_child = Tree(criterion=self.criterion, random_gen=self.random_gen)\n",
        "        self.right_child.fit(right_X, right_target, feature_frac=feature_frac, max_depth=max_depth)\n",
        "\n",
        "    def predict_row(self, row):\n",
        "        \"\"\"Predict single row.\"\"\"\n",
        "        # 0.5 points\n",
        "\n",
        "        if not self.is_terminal:\n",
        "            # Use the stored information about the split to define \n",
        "            # if the right or the left child to use\n",
        "            if row[self.column_index] < self.threshold:\n",
        "                return self.left_child.predict_row(row)\n",
        "            else:\n",
        "                return self.right_child.predict_row(row)\n",
        "        return self.outcome_probs\n",
        "\n",
        "    def predict(self, X):\n",
        "        \"\"\"Make predictions.\n",
        "\n",
        "        Args:\n",
        "            X (numpy-array): The test input samples. 2-dimensional numpy array.\n",
        "        Returns:\n",
        "            1-dimensional numpy-array with predictions     \n",
        "        \"\"\" \n",
        "        # 1 point\n",
        "        \n",
        "        # Create a numpy array of zeros of necessary length to save predictions\n",
        "        result = np.zeros(X.shape[0])\n",
        "        # Go through all rows of the dataset\n",
        "        for i in range(X.shape[0]):\n",
        "            # Save the prediction for the current row\n",
        "            result[i] = self.predict_row(X[i,:])\n",
        "        return result"
      ]
    },
    {
      "cell_type": "code",
      "execution_count": 19,
      "metadata": {
        "ExecuteTime": {
          "end_time": "2022-01-17T20:27:52.381392Z",
          "start_time": "2022-01-17T20:27:51.244Z"
        },
        "id": "RkAGcMBG1aRO",
        "colab": {
          "base_uri": "https://localhost:8080/"
        },
        "outputId": "71544adb-e09a-46a4-a21d-91b045dd99a9"
      },
      "outputs": [
        {
          "output_type": "stream",
          "name": "stdout",
          "text": [
            "\u001b[92m All good!\n"
          ]
        }
      ],
      "source": [
        "tests.test_tree(Tree)"
      ]
    },
    {
      "cell_type": "markdown",
      "metadata": {
        "id": "CuOh5Q_J1aRP"
      },
      "source": [
        "**Task 4 - 1 point** Fit two models with \"max_depth=3\" and \"max_depth=None\" hyperparameters. **Explain** the results."
      ]
    },
    {
      "cell_type": "code",
      "execution_count": 20,
      "metadata": {
        "ExecuteTime": {
          "end_time": "2022-01-17T20:27:52.382390Z",
          "start_time": "2022-01-17T20:27:51.246Z"
        },
        "id": "o7YcKxem1aRP"
      },
      "outputs": [],
      "source": [
        "tree1 = Tree()\n",
        "tree1.fit(np.asarray(X_train), np.asarray(y_train), max_depth=None)"
      ]
    },
    {
      "cell_type": "code",
      "source": [
        "tree2 = Tree()\n",
        "tree2.fit(np.asarray(X_train), np.asarray(y_train), max_depth=3)"
      ],
      "metadata": {
        "id": "6bIWHu3hXVUa"
      },
      "execution_count": 21,
      "outputs": []
    },
    {
      "cell_type": "code",
      "execution_count": 22,
      "metadata": {
        "ExecuteTime": {
          "end_time": "2022-01-17T20:27:52.383389Z",
          "start_time": "2022-01-17T20:27:51.248Z"
        },
        "id": "Z6opZBzR1aRS",
        "colab": {
          "base_uri": "https://localhost:8080/"
        },
        "outputId": "37cf4688-a2c9-4f0a-cd1e-a8e4dae35ece"
      },
      "outputs": [
        {
          "output_type": "stream",
          "name": "stdout",
          "text": [
            "Точность с max_depth=None :   0.6428571428571429\n",
            "Точность с max_depth=3 :   0.6666666666666666\n"
          ]
        }
      ],
      "source": [
        "acc1 = accuracy_score(y_test, tree1.predict(np.asarray(X_test)))\n",
        "acc2 = accuracy_score(y_test, tree2.predict(np.asarray(X_test)))\n",
        "print(\"Точность с max_depth=None :  \", acc1)\n",
        "print(\"Точность с max_depth=3 :  \", acc2)"
      ]
    },
    {
      "cell_type": "markdown",
      "source": [
        "Доля верных ответов с выше с глубиной дерева 3, чем без ограничений. Это связано с тем, что процесс деления может продолжаться до тех пор, пока дерево не будет глубоким с большим количеством листьев, в которых будут абсолютно «чистые» подмножества содержащие примеры одного класса. Возможен вариант построения, в котором для каждого примера будет свой лист и следовательно свой уникальный путь ветвления. Такое дерево является переобученным."
      ],
      "metadata": {
        "id": "6fEGoycE-XTI"
      }
    },
    {
      "cell_type": "code",
      "execution_count": 23,
      "metadata": {
        "ExecuteTime": {
          "end_time": "2022-01-17T20:27:52.384384Z",
          "start_time": "2022-01-17T20:27:51.249Z"
        },
        "id": "SzR5r6r31aRU"
      },
      "outputs": [],
      "source": [
        "def plot_metrics_on_depths(criterion='gini'):\n",
        "    max_depths, train_scores, test_scores = [], [], []\n",
        "    for max_depth in range(0, 10):\n",
        "        max_depths.append(max_depth)\n",
        "        model = Tree(criterion=criterion)\n",
        "        model.fit(X_train.values, y_train.values, max_depth=max_depth)\n",
        "        train_scores.append(accuracy_score(y_train, model.predict(X_train.values)))\n",
        "        y_pred = model.predict(X_test.values)\n",
        "        test_scores.append(accuracy_score(y_test, y_pred))\n",
        "    res_metrics = pd.DataFrame(data={'train': train_scores, 'test': test_scores}, index=max_depths)\n",
        "    sns.set(rc={'figure.figsize':(16, 7)})\n",
        "    plt.plot(res_metrics['train'], label='train score')\n",
        "    plt.plot(res_metrics['test'], label='test score')\n",
        "    plt.axvline(np.argmax(res_metrics['test']), color='C1', lw=10, alpha=0.2)\n",
        "    plt.grid(True)\n",
        "    plt.title(\"Accuracy as a function of max_depth\")\n",
        "    plt.xlabel('max_depth')\n",
        "    plt.ylabel('accuracy')\n",
        "    plt.legend()\n",
        "    plt.show();"
      ]
    },
    {
      "cell_type": "code",
      "execution_count": 24,
      "metadata": {
        "ExecuteTime": {
          "end_time": "2022-01-17T20:27:52.384384Z",
          "start_time": "2022-01-17T20:27:51.250Z"
        },
        "id": "2t_NTL321aRV",
        "colab": {
          "base_uri": "https://localhost:8080/",
          "height": 464
        },
        "outputId": "7ca0a005-e88c-4144-99f7-b5e9aed288bd"
      },
      "outputs": [
        {
          "output_type": "display_data",
          "data": {
            "text/plain": [
              "<Figure size 1152x504 with 1 Axes>"
            ],
            "image/png": "[encoded data removed]"
          },
          "metadata": {}
        }
      ],
      "source": [
        "plot_metrics_on_depths('gini')"
      ]
    },
    {
      "cell_type": "code",
      "execution_count": 25,
      "metadata": {
        "ExecuteTime": {
          "end_time": "2022-01-17T20:27:52.385383Z",
          "start_time": "2022-01-17T20:27:51.252Z"
        },
        "id": "sFHKLmZf1aRV",
        "colab": {
          "base_uri": "https://localhost:8080/",
          "height": 464
        },
        "outputId": "2ff9e3ba-9fc8-4ac4-88e6-41dbd7d79761"
      },
      "outputs": [
        {
          "output_type": "display_data",
          "data": {
            "text/plain": [
              "<Figure size 1152x504 with 1 Axes>"
            ],
            "image/png": "[encoded data removed]"
          },
          "metadata": {}
        }
      ],
      "source": [
        "plot_metrics_on_depths('entropy')"
      ]
    },
    {
      "cell_type": "markdown",
      "source": [
        "Построены графики зависимости доли верных ответов от глубины дерева. Точность на тестовой выборке перестает расти при увеличении глубины дерева. В нашем конкретном случае для деления по критерию Джини глубина составляет - 1, а для энтропии глубина - 3. При дальнейшем росте глубины или начинает падать или колеблется около полученного значения. Происходит переобучение, так как доля верных ответов на тренировочных данных продолжает возрастать. Для борьбы с переобучением деревьев используются слудующие методы:\n",
        "\n",
        "\n",
        "*   Ограничение глубины дерева.\n",
        "*   Значение минимально допустимого числа примеров в узле\n",
        "*   Так же остановка по достижению заданного критерия.(например, процентная доля правильно распознанных примеров)\n",
        "\n"
      ],
      "metadata": {
        "id": "5bG_t1GL4jaB"
      }
    },
    {
      "cell_type": "markdown",
      "metadata": {
        "id": "ic8p8SqX1aRW"
      },
      "source": [
        "## Random forest"
      ]
    },
    {
      "cell_type": "markdown",
      "metadata": {
        "id": "wSCafBEv1aRW"
      },
      "source": [
        "**Task 5 - 1.5 Points** In the RandomForestClassifier class below you need to complete the *fit* and *predict()* functions"
      ]
    },
    {
      "cell_type": "code",
      "execution_count": 26,
      "metadata": {
        "ExecuteTime": {
          "end_time": "2022-01-17T22:16:11.657659Z",
          "start_time": "2022-01-17T22:16:11.627802Z"
        },
        "id": "1ZLaby201aRW"
      },
      "outputs": [],
      "source": [
        "from sklearn.base import BaseEstimator\n",
        "\n",
        "class RandomForestClassifier(BaseEstimator):\n",
        "    \"\"\"\n",
        "    A random forest classifier.\n",
        "    A random forest is a meta estimator that fits a number of decision tree\n",
        "    classifiers on various sub-samples of the dataset and uses averaging to\n",
        "    improve the predictive accuracy and control overfitting.\n",
        "    \n",
        "    Args:\n",
        "        n_estimators : int, default=10\n",
        "            The number of trees in the forest.\n",
        "\n",
        "        max_depth : int, default=None\n",
        "            The maximum depth of the tree. If None, then nodes are expanded until\n",
        "            all leaves are pure.        \n",
        "\n",
        "        feature_frac : float, default=None\n",
        "            The fraction of features to use when looking for the best split. Must be \n",
        "            between 0.0 and 1.0. If None, then `feature_frac = 1 / sqrt(n_features)`.\n",
        "\n",
        "        criterion : {\"gini\", \"entropy\"}, default=\"gini\"\n",
        "            The function to measure the quality of a split. Supported criteria are\n",
        "            \"gini\" for the Gini impurity and \"entropy\" for the information gain.\n",
        "            \n",
        "        random_gen: numpy Random Generator object, default=None\n",
        "            Generator should be passed over for reproducible results. If None, \n",
        "            a new np.random.default_rng() will be created.\n",
        "    \"\"\"\n",
        "\n",
        "    def __init__(self, n_estimators=10, max_depth=None, feature_frac=None, \n",
        "                 criterion=\"entropy\", bootstrap=True, random_gen=None):\n",
        "        self.n_estimators = n_estimators\n",
        "        self.max_depth = max_depth\n",
        "        self.bootstrap = bootstrap\n",
        "        self.feature_frac = feature_frac\n",
        "        \n",
        "        if criterion not in [\"gini\", \"entropy\"]:\n",
        "            raise ValueError(f'Unknown criteria for splits {criterion}')\n",
        "        self.criterion = criterion\n",
        "        \n",
        "        self.random_gen = random_gen if random_gen is not None else np.random.default_rng(RANDOM_STATE)\n",
        "        self.trees = [Tree(criterion=self.criterion, random_gen=self.random_gen) \n",
        "                            for _ in range(n_estimators)]\n",
        "        \n",
        "    def _init_data(self, X, y):\n",
        "        \"\"\"Ensure data are in the expected format.\n",
        "        Ensures X and y are stored as numpy ndarrays by converting from an\n",
        "        array-like object if necessary. \n",
        "        Parameters\n",
        "        Args:\n",
        "            X : array-like\n",
        "                Feature dataset.\n",
        "            y : array-like, default=None\n",
        "                Target values. By default is required, but if y_required = false\n",
        "                then may be omitted.\n",
        "        \"\"\"\n",
        "        self.size = len(X)\n",
        "        \n",
        "        if not isinstance(X, np.ndarray):\n",
        "            self.X = np.array(X)\n",
        "        else:\n",
        "            self.X = X\n",
        "\n",
        "        if not isinstance(y, np.ndarray):\n",
        "            self.y = np.array(y)\n",
        "        else:\n",
        "            self.y = y\n",
        "            \n",
        "    def bootstrap_data(self, size):\n",
        "        return self.random_gen.integers(size, size=size)\n",
        "    \n",
        "    def fit(self, X, y):\n",
        "        \"\"\"Fit model.\n",
        "\n",
        "        Args:\n",
        "            X (numpy-array): The training input samples. 2-dimensional numpy array.\n",
        "            y (numpy-array): The target values. 1-dimensional numpy array.\n",
        "        \"\"\"\n",
        "        # 0.5 points\n",
        "        \n",
        "        if self.feature_frac is None:\n",
        "            self.feature_frac = 1 / np.sqrt(X.shape[1])\n",
        "        elif not 0.0 <= self.feature_frac <= 1.0:\n",
        "            raise ValueError('feature_frac must lie between 0.0 and 1.0')\n",
        "            \n",
        "        self._init_data(X, y)\n",
        "        \n",
        "        # Iterate over all trees in the forest\n",
        "        for tree in self.trees:\n",
        "            if self.bootstrap:\n",
        "                idxs = self.bootstrap_data(self.size)\n",
        "                X = self.X[idxs]\n",
        "                y = self.y[idxs]\n",
        "            else:\n",
        "                X = self.X\n",
        "                y = self.y\n",
        "                \n",
        "            # Fit the tree    \n",
        "            tree.fit(X, y, feature_frac=self.feature_frac  ,max_depth=self.max_depth)\n",
        "            \n",
        "            \n",
        "    def predict(self, X):\n",
        "        \"\"\"Make predictions.\n",
        "\n",
        "        Args:\n",
        "            X (numpy-array): The test data input samples. 2-dimensional numpy array.\n",
        "        \"\"\"\n",
        "        # 1 point\n",
        "        \n",
        "        if not isinstance(X, np.ndarray):\n",
        "            X = np.array(X)\n",
        "\n",
        "        if self.X is not None:\n",
        "            # Create a numpy array of zeros of necessary length\n",
        "            predictions = np.zeros(X.shape[0])\n",
        "            # Go through all rows of the dataset\n",
        "            for i in range(X.shape[0]):\n",
        "\n",
        "                # Initialize a counter for voting\n",
        "                row_pred = []\n",
        "\n",
        "                # Sum up predictions from all the voters\n",
        "                for tree in self.trees:\n",
        "                    row_pred.append(tree.predict_row(X[i]))\n",
        "\n",
        "                # Compute the mean of the votes    \n",
        "                row_pred = np.mean(row_pred)\n",
        "\n",
        "        #         # # Save the rounded value as the prediction for the current row\n",
        "                predictions[i] = np.round(row_pred, 0)\n",
        "\n",
        "            return predictions  \n",
        "        else:\n",
        "            raise ValueError(\"You should fit a model before `predict`\")"
      ]
    },
    {
      "cell_type": "code",
      "execution_count": 27,
      "metadata": {
        "ExecuteTime": {
          "end_time": "2022-01-17T20:27:52.387491Z",
          "start_time": "2022-01-17T20:27:51.255Z"
        },
        "id": "d_2bxITj1aRX",
        "colab": {
          "base_uri": "https://localhost:8080/"
        },
        "outputId": "416e9157-165b-43ed-e3b3-69231c9cda6a"
      },
      "outputs": [
        {
          "output_type": "stream",
          "name": "stdout",
          "text": [
            "\u001b[92m All good!\n"
          ]
        }
      ],
      "source": [
        "tests.test_random_forest(RandomForestClassifier)"
      ]
    },
    {
      "cell_type": "markdown",
      "metadata": {
        "id": "4x_SIBip1aRY"
      },
      "source": [
        "**Task 6 - 1 Point** Fit two models with \"n_estimators=10\" and \"n_estimators=100\" hyperparameters. **Explain** the results."
      ]
    },
    {
      "cell_type": "code",
      "execution_count": 28,
      "metadata": {
        "ExecuteTime": {
          "end_time": "2022-01-17T20:27:52.388380Z",
          "start_time": "2022-01-17T20:27:51.257Z"
        },
        "id": "dVwgYYsM1aRY"
      },
      "outputs": [],
      "source": [
        "forest_10 = RandomForestClassifier(n_estimators=10)\n",
        "forest_100 = RandomForestClassifier(n_estimators=100)"
      ]
    },
    {
      "cell_type": "code",
      "execution_count": 29,
      "metadata": {
        "ExecuteTime": {
          "end_time": "2022-01-17T20:27:52.389380Z",
          "start_time": "2022-01-17T20:27:51.259Z"
        },
        "id": "_jYQAiK-1aRZ"
      },
      "outputs": [],
      "source": [
        "forest_10.fit(X_train, y_train)\n",
        "forest_100.fit(X_train, y_train)"
      ]
    },
    {
      "cell_type": "code",
      "source": [
        "acc10 = accuracy_score(y_test, forest_10.predict(np.asarray(X_test)))\n",
        "acc100 = accuracy_score(y_test, forest_100.predict(np.asarray(X_test)))\n",
        "print(\"Точность с 10 деревьями :  \", acc10)\n",
        "print(\"Точность со 100 дереьями :  \", acc100)"
      ],
      "metadata": {
        "colab": {
          "base_uri": "https://localhost:8080/"
        },
        "id": "CpdM2fXvdPxC",
        "outputId": "289df210-55d4-4651-8427-709d25271e0a"
      },
      "execution_count": 30,
      "outputs": [
        {
          "output_type": "stream",
          "name": "stdout",
          "text": [
            "Точность с 10 деревьями :   0.7380952380952381\n",
            "Точность со 100 дереьями :   0.8571428571428571\n"
          ]
        }
      ]
    },
    {
      "cell_type": "markdown",
      "source": [
        "\n",
        " \"Хорошим примером ансамблей считается теорема Кондорсе «о жюри присяжных» (1784).Если каждый член жюри присяжных имеет независимое мнение, и если вероятность правильного решения члена жюри больше 0.5, то тогда вероятность правильного решения присяжных в целом возрастает с увеличением количества членов жюри и стремится к единице. Если же вероятность быть правым у каждого из членов жюри меньше 0.5, то вероятность принятия правильного решения присяжными в целом монотонно уменьшается и стремится к нулю с увеличением количества присяжных. Если каждый член жюри присяжных имеет независимое мнение, и если вероятность правильного решения члена жюри больше 0.5, то тогда вероятность правильного решения присяжных в целом возрастает с увеличением количества членов жюри и стремится к единице. Если же вероятность быть правым у каждого из членов жюри меньше 0.5, то вероятность принятия правильного решения присяжными в целом монотонно уменьшается и стремится к нулю с увеличением количества присяжных.\" [источник](https://habr.com/ru/company/ods/blog/324402/#:~:text=%D0%A5%D0%BE%D1%80%D0%BE%D1%88%D0%B8%D0%BC%20%D0%BF%D1%80%D0%B8%D0%BC%D0%B5%D1%80%D0%BE%D0%BC%20%D0%B0%D0%BD%D1%81%D0%B0%D0%BC%D0%B1%D0%BB%D0%B5%D0%B9,%D1%83%D0%B2%D0%B5%D0%BB%D0%B8%D1%87%D0%B5%D0%BD%D0%B8%D0%B5%D0%BC%20%D0%BA%D0%BE%D0%BB%D0%B8%D1%87%D0%B5%D1%81%D1%82%D0%B2%D0%B0%20%D0%BF%D1%80%D0%B8%D1%81%D1%8F%D0%B6%D0%BD%D1%8B%D1%85.)\n",
        "\n",
        " В нашем случае в роли жюри приясяжных выступает совокупность деревьев, каждое из которых классифицирует независимо от остальных.\n",
        "\n",
        " Из полученых данных видно, что доля правильных ответов для случайного леса с 10 деревьями ниже, чем со 100 деревьями. Прогноз, предлагаемый большинством деревьев, принимается как окончательный.  Случайный лес усредняет ответы алгоритмов классификации (деревья), уменьшает дисперсию ошибки и уменьшает эффект переобучения. Используется бутстрап и бэггинг.\n",
        "\n",
        "\n",
        "*Бэггинг* - идея классификации, где классификаторы компенсируют ошибки друг друга при голосовании. Классификаторы должны быть обучены на независимых наборах данных.\n",
        "Бэггинг позволяет снизить дисперсию (variance) обучаемого классификатора, уменьшая величину, на сколько ошибка будет отличаться, если обучать модель на разных наборах данных, или другими словами, предотвращает переобучение.  [источник](https://habr.com/ru/company/ods/blog/324402/#:~:text=%D0%91%D1%8D%D0%B3%D0%B3%D0%B8%D0%BD%D0%B3%20%D0%BF%D0%BE%D0%B7%D0%B2%D0%BE%D0%BB%D1%8F%D0%B5%D1%82%20%D1%81%D0%BD%D0%B8%D0%B7%D0%B8%D1%82%D1%8C%20%D0%B4%D0%B8%D1%81%D0%BF%D0%B5%D1%80%D1%81%D0%B8%D1%8E%20(variance)%20%D0%BE%D0%B1%D1%83%D1%87%D0%B0%D0%B5%D0%BC%D0%BE%D0%B3%D0%BE%20%D0%BA%D0%BB%D0%B0%D1%81%D1%81%D0%B8%D1%84%D0%B8%D0%BA%D0%B0%D1%82%D0%BE%D1%80%D0%B0%2C%20%D1%83%D0%BC%D0%B5%D0%BD%D1%8C%D1%88%D0%B0%D1%8F%20%D0%B2%D0%B5%D0%BB%D0%B8%D1%87%D0%B8%D0%BD%D1%83%2C%20%D0%BD%D0%B0%20%D1%81%D0%BA%D0%BE%D0%BB%D1%8C%D0%BA%D0%BE%20%D0%BE%D1%88%D0%B8%D0%B1%D0%BA%D0%B0%20%D0%B1%D1%83%D0%B4%D0%B5%D1%82%20%D0%BE%D1%82%D0%BB%D0%B8%D1%87%D0%B0%D1%82%D1%8C%D1%81%D1%8F%2C%20%D0%B5%D1%81%D0%BB%D0%B8%20%D0%BE%D0%B1%D1%83%D1%87%D0%B0%D1%82%D1%8C%20%D0%BC%D0%BE%D0%B4%D0%B5%D0%BB%D1%8C%20%D0%BD%D0%B0%20%D1%80%D0%B0%D0%B7%D0%BD%D1%8B%D1%85%20%D0%BD%D0%B0%D0%B1%D0%BE%D1%80%D0%B0%D1%85%20%D0%B4%D0%B0%D0%BD%D0%BD%D1%8B%D1%85%2C%20%D0%B8%D0%BB%D0%B8%20%D0%B4%D1%80%D1%83%D0%B3%D0%B8%D0%BC%D0%B8%20%D1%81%D0%BB%D0%BE%D0%B2%D0%B0%D0%BC%D0%B8%2C%20%D0%BF%D1%80%D0%B5%D0%B4%D0%BE%D1%82%D0%B2%D1%80%D0%B0%D1%89%D0%B0%D0%B5%D1%82%20%D0%BF%D0%B5%D1%80%D0%B5%D0%BE%D0%B1%D1%83%D1%87%D0%B5%D0%BD%D0%B8%D0%B5)\n",
        "\n",
        "*Бутстрап* - метод генерации \"фантомных\" выборок на основе имеющегося набора данных. Основан на методе Монте-Карло.\n",
        "Таким образом мы получаем много независимых наборов данных для наших классификаторов. Чаще всего применяется, когда распределение данных не известно или набор данных небольшой."
      ],
      "metadata": {
        "id": "tmj5Wp_WQrkA"
      }
    },
    {
      "cell_type": "code",
      "source": [
        "trees_range = [*range(0, 401, 25)]\n",
        "trees_range[0] = 1"
      ],
      "metadata": {
        "id": "b3ziTHycZ7fG"
      },
      "execution_count": 31,
      "outputs": []
    },
    {
      "cell_type": "code",
      "source": [
        "acc_train = []\n",
        "acc_test = []\n",
        "for i in trees_range:\n",
        "    forest_plot = RandomForestClassifier(n_estimators=i)\n",
        "    forest_plot.fit(X_train, y_train)\n",
        "    acc_train.append(accuracy_score(y_train, forest_plot.predict(np.asarray(X_train))))\n",
        "    acc_test.append(accuracy_score(y_test, forest_plot.predict(np.asarray(X_test))))"
      ],
      "metadata": {
        "id": "mxCPuswEvvxR"
      },
      "execution_count": 32,
      "outputs": []
    },
    {
      "cell_type": "code",
      "source": [
        "x = trees_range\n",
        "sns.set(rc={'figure.figsize':(16, 6)})\n",
        "plt.plot(x, acc_train, label='train score')\n",
        "plt.plot(x, acc_test, label='test score')\n",
        "plt.title(\"Accuracy as a function of number of trees\")\n",
        "plt.xlabel('number of trees')\n",
        "plt.ylabel('accuracy')\n",
        "plt.axvline(x[np.argmax(acc_test)], color='C1', lw=10, alpha=0.2)\n",
        "plt.grid(True)\n",
        "plt.legend()\n",
        "plt.show();"
      ],
      "metadata": {
        "colab": {
          "base_uri": "https://localhost:8080/",
          "height": 410
        },
        "id": "EQwixkFdxDMF",
        "outputId": "a8098980-fbc1-4045-be0c-ff9b9a239b42"
      },
      "execution_count": 33,
      "outputs": [
        {
          "output_type": "display_data",
          "data": {
            "text/plain": [
              "<Figure size 1152x432 with 1 Axes>"
            ],
            "image/png": "[encoded data removed]"
          },
          "metadata": {}
        }
      ]
    },
    {
      "cell_type": "markdown",
      "source": [
        "Для наглядности построен график зависимости доли верных ответов от количества деревьев в случайном лесу. Видно, что accuracy случайного леса на тестовых данных уменьшается после 50 деревьев, в то время как на тренировочных данных достигла максимума. Можно сказать, что лес переобучился и способность алгоритма к обобщению упала. Вот список возможных причин которые могут вызвать переобучение:\n",
        "\n",
        "\n",
        "*   В данных какие либо анамалии,либо шум.\n",
        "*   Сильная мультиколлинеарность признаков\n",
        "*   Большая глубина деревьев\n",
        "*   Небольшой надбор данных (бутстрап дает не независимые наборы данных)\n",
        "\n"
      ],
      "metadata": {
        "id": "MeCwwlfEqWFB"
      }
    },
    {
      "cell_type": "markdown",
      "metadata": {
        "id": "DaU7MCFh1aRZ"
      },
      "source": [
        "Now it's your turn to explore the various parameters of RandomForestClassifier and their influence on model quality."
      ]
    },
    {
      "cell_type": "markdown",
      "metadata": {
        "id": "NgetfmJM1aRa"
      },
      "source": [
        "# Homework part 2. Random Forest in action"
      ]
    },
    {
      "cell_type": "markdown",
      "metadata": {
        "id": "KAi_SzOz1aRa"
      },
      "source": [
        "_Note_: Consider **accuracy** as main metric of model performance on this dataset."
      ]
    },
    {
      "cell_type": "markdown",
      "metadata": {
        "id": "0MV9tcHX1aRa"
      },
      "source": [
        "_Note_: For tasks 1 to 5 please use your custom RandomForestClassifier if it is completed."
      ]
    },
    {
      "cell_type": "markdown",
      "metadata": {
        "id": "ubF1S9xN1aRa"
      },
      "source": [
        "**Task 1 (0.5 points)** Split the dataset into train, test and validation parts (0.6 / 0.2 / 0.2). First two will be used for model hyperparameter tuning whereas the best model quality should be evaluated on validation part."
      ]
    },
    {
      "cell_type": "markdown",
      "source": [
        "Так как GridSearchCV и RandomizedSearchCV используют кросс-валидацию, то решено не делить тренировочные, тестовые и валидационные данные. Будем тренировать и валидировать на тренировлочных данных, а тестировать на тестовых."
      ],
      "metadata": {
        "id": "Hyy6sVocco2P"
      }
    },
    {
      "cell_type": "code",
      "execution_count": null,
      "metadata": {
        "ExecuteTime": {
          "end_time": "2022-01-17T20:27:52.390375Z",
          "start_time": "2022-01-17T20:27:51.261Z"
        },
        "id": "7PDfoyy31aRa"
      },
      "outputs": [],
      "source": [
        "# X_train, X_temp, y_train, y_temp = train_test_split(df.drop(columns='target'), df['target'], test_size=0.4, random_state=RANDOM_STATE)"
      ]
    },
    {
      "cell_type": "code",
      "source": [
        "# X_val, X_test, y_val, y_test = train_test_split(X_temp, y_temp, test_size=0.5, random_state=RANDOM_STATE)"
      ],
      "metadata": {
        "id": "tz-Wsr27iIPM"
      },
      "execution_count": null,
      "outputs": []
    },
    {
      "cell_type": "markdown",
      "metadata": {
        "id": "6XoWpW-I1aRb"
      },
      "source": [
        "### Grid Search and Random Search"
      ]
    },
    {
      "cell_type": "markdown",
      "metadata": {
        "id": "ruW1s7Ar1aRb"
      },
      "source": [
        "If you have enough computational power for model training in a reasonable amount of time more sophisticated approach of hyperparameter tuning would be either Grid Search or Random Search.<br>\n",
        "\n",
        "In a nutshell Grid Search allows you to pass through all different combinations of given model parameters and their values and choose the best combination. Whereas Random Search would randomly choose values for given model parameters and evaluate them on test data untill it reaches the specified number of iterations.<br>\n",
        "\n",
        "More information here [Gentle introduction to Grid and Random search](https://medium.com/@senapati.dipak97/grid-search-vs-random-search-d34c92946318) and here [Detailed Explanation with code examples](https://machinelearningmastery.com/hyperparameter-optimization-with-random-search-and-grid-search/)."
      ]
    },
    {
      "cell_type": "markdown",
      "metadata": {
        "ExecuteTime": {
          "end_time": "2022-01-17T10:10:45.984304Z",
          "start_time": "2022-01-17T10:10:45.969369Z"
        },
        "id": "veU3STPy1aRc"
      },
      "source": [
        "**Task 3 (1 point)**. Compare your previous results with [GridSearch](https://scikit-learn.org/stable/modules/generated/sklearn.model_selection.GridSearchCV.html) hyperparameter tuning. You may tune best hyperparameters for forest with several trees and then increase it while measure the quality on validation dataset."
      ]
    },
    {
      "cell_type": "code",
      "execution_count": 40,
      "metadata": {
        "ExecuteTime": {
          "end_time": "2022-01-17T20:27:52.391365Z",
          "start_time": "2022-01-17T20:27:51.265Z"
        },
        "id": "azCkP9I21aRc"
      },
      "outputs": [],
      "source": [
        "from sklearn.model_selection import GridSearchCV\n",
        "from sklearn.ensemble import RandomForestClassifier\n",
        "\n",
        "model = RandomForestClassifier(random_state=RANDOM_STATE)\n",
        "\n",
        "parameters = {\n",
        "              'n_estimators' : [*range(1, 100, 5)],\n",
        "              'criterion' : [\"gini\", \"entropy\"],\n",
        "              'max_depth' : [ 5, 10, 15, 20, 25, 30, 35, 40],\n",
        "              }\n",
        "\n",
        "gridsearch_forest = GridSearchCV(model, parameters, cv=5, verbose=0, n_jobs=-1, scoring='accuracy')\n",
        "                       \n",
        "gridsearch_forest.fit(X_train, y_train);"
      ]
    },
    {
      "cell_type": "code",
      "source": [
        "gridsearch_forest.best_params_"
      ],
      "metadata": {
        "colab": {
          "base_uri": "https://localhost:8080/"
        },
        "id": "Aqy5iGCywGTq",
        "outputId": "315da2e1-c2e2-45ee-c733-6597a8af49b8"
      },
      "execution_count": 41,
      "outputs": [
        {
          "output_type": "execute_result",
          "data": {
            "text/plain": [
              "{'criterion': 'entropy', 'max_depth': 5, 'n_estimators': 36}"
            ]
          },
          "metadata": {},
          "execution_count": 41
        }
      ]
    },
    {
      "cell_type": "code",
      "source": [
        "gridsearch_forest.best_score_"
      ],
      "metadata": {
        "colab": {
          "base_uri": "https://localhost:8080/"
        },
        "id": "vQnjZ8SerEiH",
        "outputId": "954521f9-639d-475d-c7d9-238c5e42cb1d"
      },
      "execution_count": 42,
      "outputs": [
        {
          "output_type": "execute_result",
          "data": {
            "text/plain": [
              "0.8260249554367203"
            ]
          },
          "metadata": {},
          "execution_count": 42
        }
      ]
    },
    {
      "cell_type": "code",
      "source": [
        "gridsearch_forest.score(X_test, y_test)"
      ],
      "metadata": {
        "colab": {
          "base_uri": "https://localhost:8080/"
        },
        "id": "n1X44d-7dzZe",
        "outputId": "384d9639-5f5f-4c08-8cf3-22265ea72462"
      },
      "execution_count": 43,
      "outputs": [
        {
          "output_type": "execute_result",
          "data": {
            "text/plain": [
              "0.8571428571428571"
            ]
          },
          "metadata": {},
          "execution_count": 43
        }
      ]
    },
    {
      "cell_type": "markdown",
      "metadata": {
        "id": "xsctURo71aRc"
      },
      "source": [
        "**Task 4 (1 point)**. And finally tune forest hyperparameters with [RandomSearch](https://scikit-learn.org/stable/modules/generated/sklearn.model_selection.RandomizedSearchCV.html). Compare results to previous attempts."
      ]
    },
    {
      "cell_type": "code",
      "source": [
        "from sklearn.model_selection import RandomizedSearchCV\n",
        "\n",
        "model_r = RandomForestClassifier()\n",
        "\n",
        "max_depth = [int(x) for x in np.linspace(2, 50, num = 25)]\n",
        "max_depth.append(None)\n",
        "n_estimators = [*range(1, 100, 1)]\n",
        "\n",
        "parameters = {\n",
        "              'n_estimators' : n_estimators,\n",
        "              'max_features' : ['auto', 'sqrt', 'log2'],\n",
        "              'max_depth' : max_depth,\n",
        "              }\n",
        "\n",
        "randsearch_forest = RandomizedSearchCV(model_r, parameters, n_iter=100, cv=5, verbose=0, n_jobs=-1, scoring='accuracy', random_state=RANDOM_STATE)\n",
        "                       \n",
        "randsearch_forest.fit(X_train, y_train);"
      ],
      "metadata": {
        "id": "u9JSh01n4Onl"
      },
      "execution_count": 44,
      "outputs": []
    },
    {
      "cell_type": "code",
      "source": [
        "randsearch_forest.best_params_"
      ],
      "metadata": {
        "colab": {
          "base_uri": "https://localhost:8080/"
        },
        "id": "wHmsy0Wq8mxj",
        "outputId": "7496e0a3-3b3d-4b8a-afcc-cbbf0fe386d8"
      },
      "execution_count": 45,
      "outputs": [
        {
          "output_type": "execute_result",
          "data": {
            "text/plain": [
              "{'max_depth': 34, 'max_features': 'auto', 'n_estimators': 53}"
            ]
          },
          "metadata": {},
          "execution_count": 45
        }
      ]
    },
    {
      "cell_type": "code",
      "source": [
        "randsearch_forest.best_score_"
      ],
      "metadata": {
        "colab": {
          "base_uri": "https://localhost:8080/"
        },
        "id": "ZPBBtFGS8pQj",
        "outputId": "8d2937be-b792-49a3-c214-48a19501b63a"
      },
      "execution_count": 46,
      "outputs": [
        {
          "output_type": "execute_result",
          "data": {
            "text/plain": [
              "0.8440285204991088"
            ]
          },
          "metadata": {},
          "execution_count": 46
        }
      ]
    },
    {
      "cell_type": "code",
      "source": [
        "randsearch_forest.score(X_test, y_test)"
      ],
      "metadata": {
        "colab": {
          "base_uri": "https://localhost:8080/"
        },
        "id": "dYAX5svWd5PI",
        "outputId": "3c1e85e7-950c-4d77-f73b-a747aff909a9"
      },
      "execution_count": 47,
      "outputs": [
        {
          "output_type": "execute_result",
          "data": {
            "text/plain": [
              "0.8809523809523809"
            ]
          },
          "metadata": {},
          "execution_count": 47
        }
      ]
    },
    {
      "cell_type": "code",
      "execution_count": 48,
      "metadata": {
        "ExecuteTime": {
          "end_time": "2022-01-17T20:27:52.392364Z",
          "start_time": "2022-01-17T20:27:51.266Z"
        },
        "id": "6RYXriE61aRc",
        "colab": {
          "base_uri": "https://localhost:8080/"
        },
        "outputId": "dbb93b5f-6dfe-4f80-8f3f-f10d59aece71"
      },
      "outputs": [
        {
          "output_type": "stream",
          "name": "stdout",
          "text": [
            "На тестовых данных RandomizedSearchCV дает accuracy 0.8809523809523809\n",
            "На тестовых данных GridSearchCV дает accuracy 0.8571428571428571\n"
          ]
        }
      ],
      "source": [
        "print(f\"На тестовых данных RandomizedSearchCV дает accuracy {randsearch_forest.score(X_test, y_test)}\")\n",
        "print(f\"На тестовых данных GridSearchCV дает accuracy {gridsearch_forest.score(X_test, y_test)}\")"
      ]
    },
    {
      "cell_type": "markdown",
      "source": [
        "В данном случае с помощью RandomizedSearchCV мы получили более высокий accuracy нежели с помощью GridSearchCV. Думаю с более подробной сеткой GridSearchCV, получилось бы точнее, но считает существенно дольше, чем RandomizedSearchCV."
      ],
      "metadata": {
        "id": "gHQA5X9T8Iag"
      }
    },
    {
      "cell_type": "markdown",
      "metadata": {
        "id": "fVp7Zmgo1aRd"
      },
      "source": [
        "**Task 5 (0.5 points)**. Tell us about your experience in hyperparameter tuning with the approaches above. What do you think would be the best option for this task and why?"
      ]
    },
    {
      "cell_type": "markdown",
      "metadata": {
        "id": "lEdsWtrz1aRd"
      },
      "source": [
        "GridSearchCV (Поиск по сетке) находит наилучшие параметры, путем перебора по заданной сетке гиперпараметров. Создается модель для каждой возможной комбинации гиперпараметров. Метод считает заданный критерий и на его основе максимизации/минимизации критерия выбирает лучшее сочетание гиперпараметров. Минус - вычислительные затраты при большой сетке значений гиперпараметров.\n",
        "\n",
        "RandomizedSearchCV (Случайный поиск по сетке) случайным образом берет комбинации гиперпараметров и их оценивает. На основе полученных результатов происходит сужение области поиска. Случайный поиск по сетке полезнее простого поиска по сетке, когда гиперпараметров много, но тех которые сильно влияют на показания модели - мало.\n",
        "\n",
        "В итоге, для нахождения лучшего сочетания  гиперпараметров наиболее походящим является поиск по сетке, правда при большом количестве гиперпараметров для перебора он займет много времени. Для быстрой подгонки гиперпараметров лучше подойдет случайный поиск по сетке, так как он работает быстрее обычного поиска по сетке.\n",
        "\n",
        "Или еще вариант оценить значения гиперпараметров случайным поиском, а уточнить уже поиском по подробной сетке гиперпараметров."
      ]
    },
    {
      "cell_type": "markdown",
      "metadata": {
        "id": "HzAhQaCT1aRd"
      },
      "source": [
        "### Desicion tree explained"
      ]
    },
    {
      "cell_type": "markdown",
      "metadata": {
        "id": "s0JbdClO1aRd"
      },
      "source": [
        "Remember the [Titanic](https://www.kaggle.com/c/titanic) competition from last week? Wouldn't be a good idea to visualize one of possible desicion-making processes of _survived_ / _dead_ labeling?"
      ]
    },
    {
      "cell_type": "markdown",
      "metadata": {
        "id": "LKRw6R5s1aRd"
      },
      "source": [
        "**Task 6 (1 point)**. Load titanic dataset, split it into train/test parts, apply simple hyperparameter tuning of [DesicionTreeClassifier](https://scikit-learn.org/stable/modules/generated/sklearn.tree.DecisionTreeClassifier.html) (use one of the approaches above) in order to have **test accuracy more than 0.65**. <br>\n",
        "\n",
        "Draw the best tree decision making process. You may use [sklearn.tree.prot_tree](https://scikit-learn.org/stable/modules/generated/sklearn.tree.plot_tree.html).<br>"
      ]
    },
    {
      "cell_type": "code",
      "execution_count": 49,
      "metadata": {
        "ExecuteTime": {
          "end_time": "2022-01-17T20:27:52.393362Z",
          "start_time": "2022-01-17T20:27:51.269Z"
        },
        "id": "g9IIBGKd1aRe",
        "colab": {
          "base_uri": "https://localhost:8080/",
          "height": 238
        },
        "outputId": "173ecb38-e063-4976-ebac-de83a64f8ac9"
      },
      "outputs": [
        {
          "output_type": "execute_result",
          "data": {
            "text/plain": [
              "             Survived  Pclass  \\\n",
              "PassengerId                     \n",
              "1                   0       3   \n",
              "2                   1       1   \n",
              "3                   1       3   \n",
              "4                   1       1   \n",
              "5                   0       3   \n",
              "\n",
              "                                                          Name     Sex   Age  \\\n",
              "PassengerId                                                                    \n",
              "1                                      Braund, Mr. Owen Harris    male  22.0   \n",
              "2            Cumings, Mrs. John Bradley (Florence Briggs Th...  female  38.0   \n",
              "3                                       Heikkinen, Miss. Laina  female  26.0   \n",
              "4                 Futrelle, Mrs. Jacques Heath (Lily May Peel)  female  35.0   \n",
              "5                                     Allen, Mr. William Henry    male  35.0   \n",
              "\n",
              "             SibSp  Parch            Ticket     Fare Cabin Embarked  \n",
              "PassengerId                                                          \n",
              "1                1      0         A/5 21171   7.2500   NaN        S  \n",
              "2                1      0          PC 17599  71.2833   C85        C  \n",
              "3                0      0  STON/O2. 3101282   7.9250   NaN        S  \n",
              "4                1      0            113803  53.1000  C123        S  \n",
              "5                0      0            373450   8.0500   NaN        S  "
            ],
            "text/html": [
              "\n",
              "  <div id=\"df-9f20fe24-0d4c-4edb-83e2-bc2957157ef6\">\n",
              "    <div class=\"colab-df-container\">\n",
              "      <div>\n",
              "<style scoped>\n",
              "    .dataframe tbody tr th:only-of-type {\n",
              "        vertical-align: middle;\n",
              "    }\n",
              "\n",
              "    .dataframe tbody tr th {\n",
              "        vertical-align: top;\n",
              "    }\n",
              "\n",
              "    .dataframe thead th {\n",
              "        text-align: right;\n",
              "    }\n",
              "</style>\n",
              "<table border=\"1\" class=\"dataframe\">\n",
              "  <thead>\n",
              "    <tr style=\"text-align: right;\">\n",
              "      <th></th>\n",
              "      <th>Survived</th>\n",
              "      <th>Pclass</th>\n",
              "      <th>Name</th>\n",
              "      <th>Sex</th>\n",
              "      <th>Age</th>\n",
              "      <th>SibSp</th>\n",
              "      <th>Parch</th>\n",
              "      <th>Ticket</th>\n",
              "      <th>Fare</th>\n",
              "      <th>Cabin</th>\n",
              "      <th>Embarked</th>\n",
              "    </tr>\n",
              "    <tr>\n",
              "      <th>PassengerId</th>\n",
              "      <th></th>\n",
              "      <th></th>\n",
              "      <th></th>\n",
              "      <th></th>\n",
              "      <th></th>\n",
              "      <th></th>\n",
              "      <th></th>\n",
              "      <th></th>\n",
              "      <th></th>\n",
              "      <th></th>\n",
              "      <th></th>\n",
              "    </tr>\n",
              "  </thead>\n",
              "  <tbody>\n",
              "    <tr>\n",
              "      <th>1</th>\n",
              "      <td>0</td>\n",
              "      <td>3</td>\n",
              "      <td>Braund, Mr. Owen Harris</td>\n",
              "      <td>male</td>\n",
              "      <td>22.0</td>\n",
              "      <td>1</td>\n",
              "      <td>0</td>\n",
              "      <td>A/5 21171</td>\n",
              "      <td>7.2500</td>\n",
              "      <td>NaN</td>\n",
              "      <td>S</td>\n",
              "    </tr>\n",
              "    <tr>\n",
              "      <th>2</th>\n",
              "      <td>1</td>\n",
              "      <td>1</td>\n",
              "      <td>Cumings, Mrs. John Bradley (Florence Briggs Th...</td>\n",
              "      <td>female</td>\n",
              "      <td>38.0</td>\n",
              "      <td>1</td>\n",
              "      <td>0</td>\n",
              "      <td>PC 17599</td>\n",
              "      <td>71.2833</td>\n",
              "      <td>C85</td>\n",
              "      <td>C</td>\n",
              "    </tr>\n",
              "    <tr>\n",
              "      <th>3</th>\n",
              "      <td>1</td>\n",
              "      <td>3</td>\n",
              "      <td>Heikkinen, Miss. Laina</td>\n",
              "      <td>female</td>\n",
              "      <td>26.0</td>\n",
              "      <td>0</td>\n",
              "      <td>0</td>\n",
              "      <td>STON/O2. 3101282</td>\n",
              "      <td>7.9250</td>\n",
              "      <td>NaN</td>\n",
              "      <td>S</td>\n",
              "    </tr>\n",
              "    <tr>\n",
              "      <th>4</th>\n",
              "      <td>1</td>\n",
              "      <td>1</td>\n",
              "      <td>Futrelle, Mrs. Jacques Heath (Lily May Peel)</td>\n",
              "      <td>female</td>\n",
              "      <td>35.0</td>\n",
              "      <td>1</td>\n",
              "      <td>0</td>\n",
              "      <td>113803</td>\n",
              "      <td>53.1000</td>\n",
              "      <td>C123</td>\n",
              "      <td>S</td>\n",
              "    </tr>\n",
              "    <tr>\n",
              "      <th>5</th>\n",
              "      <td>0</td>\n",
              "      <td>3</td>\n",
              "      <td>Allen, Mr. William Henry</td>\n",
              "      <td>male</td>\n",
              "      <td>35.0</td>\n",
              "      <td>0</td>\n",
              "      <td>0</td>\n",
              "      <td>373450</td>\n",
              "      <td>8.0500</td>\n",
              "      <td>NaN</td>\n",
              "      <td>S</td>\n",
              "    </tr>\n",
              "  </tbody>\n",
              "</table>\n",
              "</div>\n",
              "      <button class=\"colab-df-convert\" onclick=\"convertToInteractive('df-9f20fe24-0d4c-4edb-83e2-bc2957157ef6')\"\n",
              "              title=\"Convert this dataframe to an interactive table.\"\n",
              "              style=\"display:none;\">\n",
              "        \n",
              "  <svg xmlns=\"http://www.w3.org/2000/svg\" height=\"24px\"viewBox=\"0 0 24 24\"\n",
              "       width=\"24px\">\n",
              "    <path d=\"M0 0h24v24H0V0z\" fill=\"none\"/>\n",
              "    <path d=\"M18.56 5.44l.94 2.06.94-2.06 2.06-.94-2.06-.94-.94-2.06-.94 2.06-2.06.94zm-11 1L8.5 8.5l.94-2.06 2.06-.94-2.06-.94L8.5 2.5l-.94 2.06-2.06.94zm10 10l.94 2.06.94-2.06 2.06-.94-2.06-.94-.94-2.06-.94 2.06-2.06.94z\"/><path d=\"M17.41 7.96l-1.37-1.37c-.4-.4-.92-.59-1.43-.59-.52 0-1.04.2-1.43.59L10.3 9.45l-7.72 7.72c-.78.78-.78 2.05 0 2.83L4 21.41c.39.39.9.59 1.41.59.51 0 1.02-.2 1.41-.59l7.78-7.78 2.81-2.81c.8-.78.8-2.07 0-2.86zM5.41 20L4 18.59l7.72-7.72 1.47 1.35L5.41 20z\"/>\n",
              "  </svg>\n",
              "      </button>\n",
              "      \n",
              "  <style>\n",
              "    .colab-df-container {\n",
              "      display:flex;\n",
              "      flex-wrap:wrap;\n",
              "      gap: 12px;\n",
              "    }\n",
              "\n",
              "    .colab-df-convert {\n",
              "      background-color: #E8F0FE;\n",
              "      border: none;\n",
              "      border-radius: 50%;\n",
              "      cursor: pointer;\n",
              "      display: none;\n",
              "      fill: #1967D2;\n",
              "      height: 32px;\n",
              "      padding: 0 0 0 0;\n",
              "      width: 32px;\n",
              "    }\n",
              "\n",
              "    .colab-df-convert:hover {\n",
              "      background-color: #E2EBFA;\n",
              "      box-shadow: 0px 1px 2px rgba(60, 64, 67, 0.3), 0px 1px 3px 1px rgba(60, 64, 67, 0.15);\n",
              "      fill: #174EA6;\n",
              "    }\n",
              "\n",
              "    [theme=dark] .colab-df-convert {\n",
              "      background-color: #3B4455;\n",
              "      fill: #D2E3FC;\n",
              "    }\n",
              "\n",
              "    [theme=dark] .colab-df-convert:hover {\n",
              "      background-color: #434B5C;\n",
              "      box-shadow: 0px 1px 3px 1px rgba(0, 0, 0, 0.15);\n",
              "      filter: drop-shadow(0px 1px 2px rgba(0, 0, 0, 0.3));\n",
              "      fill: #FFFFFF;\n",
              "    }\n",
              "  </style>\n",
              "\n",
              "      <script>\n",
              "        const buttonEl =\n",
              "          document.querySelector('#df-9f20fe24-0d4c-4edb-83e2-bc2957157ef6 button.colab-df-convert');\n",
              "        buttonEl.style.display =\n",
              "          google.colab.kernel.accessAllowed ? 'block' : 'none';\n",
              "\n",
              "        async function convertToInteractive(key) {\n",
              "          const element = document.querySelector('#df-9f20fe24-0d4c-4edb-83e2-bc2957157ef6');\n",
              "          const dataTable =\n",
              "            await google.colab.kernel.invokeFunction('convertToInteractive',\n",
              "                                                     [key], {});\n",
              "          if (!dataTable) return;\n",
              "\n",
              "          const docLinkHtml = 'Like what you see? Visit the ' +\n",
              "            '<a target=\"_blank\" href=https://colab.research.google.com/notebooks/data_table.ipynb>data table notebook</a>'\n",
              "            + ' to learn more about interactive tables.';\n",
              "          element.innerHTML = '';\n",
              "          dataTable['output_type'] = 'display_data';\n",
              "          await google.colab.output.renderOutput(dataTable, element);\n",
              "          const docLink = document.createElement('div');\n",
              "          docLink.innerHTML = docLinkHtml;\n",
              "          element.appendChild(docLink);\n",
              "        }\n",
              "      </script>\n",
              "    </div>\n",
              "  </div>\n",
              "  "
            ]
          },
          "metadata": {},
          "execution_count": 49
        }
      ],
      "source": [
        "from sklearn.tree import DecisionTreeClassifier\n",
        "\n",
        "PATH = '/content/gdrive/MyDrive/RS_school_course/7_trees_and_ensembles/data/train.csv'\n",
        "df = pd.read_csv(PATH).set_index('PassengerId')\n",
        "df.head()"
      ]
    },
    {
      "cell_type": "code",
      "source": [
        "# Делим данные на тренировочные и проверочные\n",
        "\n",
        "from sklearn import preprocessing\n",
        "le = preprocessing.LabelEncoder()\n",
        "\n",
        "df_encode = df.copy()\n",
        "\n",
        "X = df_encode.drop('Survived', axis=1)\n",
        "y = df_encode['Survived']\n",
        "\n",
        "X_train, X_test, y_train, y_test = train_test_split(X, y, train_size=0.8, random_state=RANDOM_STATE)\n",
        "\n",
        "def cleaning(data_frame):\n",
        "\n",
        "    # Средний возрас по полу\n",
        "    data_frame['Sex'] = data_frame['Sex'].astype('category')\n",
        "    mean_age_f = data_frame.loc[data_frame.Sex == 'female'].Age.mean()\n",
        "    mean_age_m = data_frame.loc[data_frame.Sex == 'male'].Age.mean()\n",
        "\n",
        "    # Заменяем средний пропущенный возраст средним по полу\n",
        "    data_frame.loc[(data_frame[\"Age\"].isna()) & (data_frame['Sex'] == 'female'), 'Age'] = mean_age_f\n",
        "    data_frame.loc[(data_frame[\"Age\"].isna()) & (data_frame['Sex'] == 'male'), 'Age'] = mean_age_m\n",
        "\n",
        "    # Помечаем все пропуски в номерах кают.\n",
        "    data_frame['Cabin'] = data_frame['Cabin'].fillna('empty')\n",
        "    # Выделяем первую букву в номере каюты (не пригодилось)\n",
        "    # data_frame['Deck'] = data_frame['Cabin'].map(lambda x: x[0] if x[0].isupper() else 'empty')\n",
        "\n",
        "    # Просто делаем индикатор наличия каюты (не переделывал от получения первой буквы каюты)\n",
        "    data_frame['Deck_1'] = data_frame['Cabin'].map(lambda x: 1 if x[0].isupper() else 0)\n",
        "\n",
        "    # Проверяем четность последней цифры каюты (прочитал, что отвечает за левый или правый борт)\n",
        "    data_frame['Side'] = data_frame['Cabin'].map(lambda x: int(x[-1])%2 if x[-1].isdigit() else -1)\n",
        "\n",
        "    data_frame[\"Sex\"] = le.fit_transform(data_frame[\"Sex\"])\n",
        "    data_frame[\"Embarked\"] = le.fit_transform(data_frame[\"Embarked\"])\n",
        "    # data_frame[\"Deck\"] = le.fit_transform(data_frame[\"Deck\"])\n",
        "    return data_frame\n",
        "\n",
        "X_train = cleaning(X_train)\n",
        "X_train = X_train.drop(['Name', 'Cabin', 'Ticket'], axis=1)\n",
        "\n",
        "X_test = cleaning(X_test)\n",
        "X_test = X_test.drop(['Name', 'Cabin', 'Ticket'], axis=1)\n",
        "\n",
        "X_train.head(5)\n"
      ],
      "metadata": {
        "colab": {
          "base_uri": "https://localhost:8080/",
          "height": 238
        },
        "id": "cS_8QhSBXPzZ",
        "outputId": "2e7c79c3-7c71-4fe8-fe27-4947e6abb8b6"
      },
      "execution_count": 50,
      "outputs": [
        {
          "output_type": "execute_result",
          "data": {
            "text/plain": [
              "             Pclass  Sex   Age  SibSp  Parch    Fare  Embarked  Deck_1  Side\n",
              "PassengerId                                                                 \n",
              "132               3    1  20.0      0      0   7.050         2       0    -1\n",
              "71                2    1  32.0      0      0  10.500         2       0    -1\n",
              "782               1    0  17.0      1      0  57.000         2       1     0\n",
              "509               3    1  28.0      0      0  22.525         2       0    -1\n",
              "117               3    1  70.5      0      0   7.750         1       0    -1"
            ],
            "text/html": [
              "\n",
              "  <div id=\"df-47c0093e-9095-4faf-887f-e7fcb61f046f\">\n",
              "    <div class=\"colab-df-container\">\n",
              "      <div>\n",
              "<style scoped>\n",
              "    .dataframe tbody tr th:only-of-type {\n",
              "        vertical-align: middle;\n",
              "    }\n",
              "\n",
              "    .dataframe tbody tr th {\n",
              "        vertical-align: top;\n",
              "    }\n",
              "\n",
              "    .dataframe thead th {\n",
              "        text-align: right;\n",
              "    }\n",
              "</style>\n",
              "<table border=\"1\" class=\"dataframe\">\n",
              "  <thead>\n",
              "    <tr style=\"text-align: right;\">\n",
              "      <th></th>\n",
              "      <th>Pclass</th>\n",
              "      <th>Sex</th>\n",
              "      <th>Age</th>\n",
              "      <th>SibSp</th>\n",
              "      <th>Parch</th>\n",
              "      <th>Fare</th>\n",
              "      <th>Embarked</th>\n",
              "      <th>Deck_1</th>\n",
              "      <th>Side</th>\n",
              "    </tr>\n",
              "    <tr>\n",
              "      <th>PassengerId</th>\n",
              "      <th></th>\n",
              "      <th></th>\n",
              "      <th></th>\n",
              "      <th></th>\n",
              "      <th></th>\n",
              "      <th></th>\n",
              "      <th></th>\n",
              "      <th></th>\n",
              "      <th></th>\n",
              "    </tr>\n",
              "  </thead>\n",
              "  <tbody>\n",
              "    <tr>\n",
              "      <th>132</th>\n",
              "      <td>3</td>\n",
              "      <td>1</td>\n",
              "      <td>20.0</td>\n",
              "      <td>0</td>\n",
              "      <td>0</td>\n",
              "      <td>7.050</td>\n",
              "      <td>2</td>\n",
              "      <td>0</td>\n",
              "      <td>-1</td>\n",
              "    </tr>\n",
              "    <tr>\n",
              "      <th>71</th>\n",
              "      <td>2</td>\n",
              "      <td>1</td>\n",
              "      <td>32.0</td>\n",
              "      <td>0</td>\n",
              "      <td>0</td>\n",
              "      <td>10.500</td>\n",
              "      <td>2</td>\n",
              "      <td>0</td>\n",
              "      <td>-1</td>\n",
              "    </tr>\n",
              "    <tr>\n",
              "      <th>782</th>\n",
              "      <td>1</td>\n",
              "      <td>0</td>\n",
              "      <td>17.0</td>\n",
              "      <td>1</td>\n",
              "      <td>0</td>\n",
              "      <td>57.000</td>\n",
              "      <td>2</td>\n",
              "      <td>1</td>\n",
              "      <td>0</td>\n",
              "    </tr>\n",
              "    <tr>\n",
              "      <th>509</th>\n",
              "      <td>3</td>\n",
              "      <td>1</td>\n",
              "      <td>28.0</td>\n",
              "      <td>0</td>\n",
              "      <td>0</td>\n",
              "      <td>22.525</td>\n",
              "      <td>2</td>\n",
              "      <td>0</td>\n",
              "      <td>-1</td>\n",
              "    </tr>\n",
              "    <tr>\n",
              "      <th>117</th>\n",
              "      <td>3</td>\n",
              "      <td>1</td>\n",
              "      <td>70.5</td>\n",
              "      <td>0</td>\n",
              "      <td>0</td>\n",
              "      <td>7.750</td>\n",
              "      <td>1</td>\n",
              "      <td>0</td>\n",
              "      <td>-1</td>\n",
              "    </tr>\n",
              "  </tbody>\n",
              "</table>\n",
              "</div>\n",
              "      <button class=\"colab-df-convert\" onclick=\"convertToInteractive('df-47c0093e-9095-4faf-887f-e7fcb61f046f')\"\n",
              "              title=\"Convert this dataframe to an interactive table.\"\n",
              "              style=\"display:none;\">\n",
              "        \n",
              "  <svg xmlns=\"http://www.w3.org/2000/svg\" height=\"24px\"viewBox=\"0 0 24 24\"\n",
              "       width=\"24px\">\n",
              "    <path d=\"M0 0h24v24H0V0z\" fill=\"none\"/>\n",
              "    <path d=\"M18.56 5.44l.94 2.06.94-2.06 2.06-.94-2.06-.94-.94-2.06-.94 2.06-2.06.94zm-11 1L8.5 8.5l.94-2.06 2.06-.94-2.06-.94L8.5 2.5l-.94 2.06-2.06.94zm10 10l.94 2.06.94-2.06 2.06-.94-2.06-.94-.94-2.06-.94 2.06-2.06.94z\"/><path d=\"M17.41 7.96l-1.37-1.37c-.4-.4-.92-.59-1.43-.59-.52 0-1.04.2-1.43.59L10.3 9.45l-7.72 7.72c-.78.78-.78 2.05 0 2.83L4 21.41c.39.39.9.59 1.41.59.51 0 1.02-.2 1.41-.59l7.78-7.78 2.81-2.81c.8-.78.8-2.07 0-2.86zM5.41 20L4 18.59l7.72-7.72 1.47 1.35L5.41 20z\"/>\n",
              "  </svg>\n",
              "      </button>\n",
              "      \n",
              "  <style>\n",
              "    .colab-df-container {\n",
              "      display:flex;\n",
              "      flex-wrap:wrap;\n",
              "      gap: 12px;\n",
              "    }\n",
              "\n",
              "    .colab-df-convert {\n",
              "      background-color: #E8F0FE;\n",
              "      border: none;\n",
              "      border-radius: 50%;\n",
              "      cursor: pointer;\n",
              "      display: none;\n",
              "      fill: #1967D2;\n",
              "      height: 32px;\n",
              "      padding: 0 0 0 0;\n",
              "      width: 32px;\n",
              "    }\n",
              "\n",
              "    .colab-df-convert:hover {\n",
              "      background-color: #E2EBFA;\n",
              "      box-shadow: 0px 1px 2px rgba(60, 64, 67, 0.3), 0px 1px 3px 1px rgba(60, 64, 67, 0.15);\n",
              "      fill: #174EA6;\n",
              "    }\n",
              "\n",
              "    [theme=dark] .colab-df-convert {\n",
              "      background-color: #3B4455;\n",
              "      fill: #D2E3FC;\n",
              "    }\n",
              "\n",
              "    [theme=dark] .colab-df-convert:hover {\n",
              "      background-color: #434B5C;\n",
              "      box-shadow: 0px 1px 3px 1px rgba(0, 0, 0, 0.15);\n",
              "      filter: drop-shadow(0px 1px 2px rgba(0, 0, 0, 0.3));\n",
              "      fill: #FFFFFF;\n",
              "    }\n",
              "  </style>\n",
              "\n",
              "      <script>\n",
              "        const buttonEl =\n",
              "          document.querySelector('#df-47c0093e-9095-4faf-887f-e7fcb61f046f button.colab-df-convert');\n",
              "        buttonEl.style.display =\n",
              "          google.colab.kernel.accessAllowed ? 'block' : 'none';\n",
              "\n",
              "        async function convertToInteractive(key) {\n",
              "          const element = document.querySelector('#df-47c0093e-9095-4faf-887f-e7fcb61f046f');\n",
              "          const dataTable =\n",
              "            await google.colab.kernel.invokeFunction('convertToInteractive',\n",
              "                                                     [key], {});\n",
              "          if (!dataTable) return;\n",
              "\n",
              "          const docLinkHtml = 'Like what you see? Visit the ' +\n",
              "            '<a target=\"_blank\" href=https://colab.research.google.com/notebooks/data_table.ipynb>data table notebook</a>'\n",
              "            + ' to learn more about interactive tables.';\n",
              "          element.innerHTML = '';\n",
              "          dataTable['output_type'] = 'display_data';\n",
              "          await google.colab.output.renderOutput(dataTable, element);\n",
              "          const docLink = document.createElement('div');\n",
              "          docLink.innerHTML = docLinkHtml;\n",
              "          element.appendChild(docLink);\n",
              "        }\n",
              "      </script>\n",
              "    </div>\n",
              "  </div>\n",
              "  "
            ]
          },
          "metadata": {},
          "execution_count": 50
        }
      ]
    },
    {
      "cell_type": "code",
      "source": [
        "mis_data = X_train.isnull().sum()\n",
        "print(mis_data)"
      ],
      "metadata": {
        "colab": {
          "base_uri": "https://localhost:8080/"
        },
        "id": "X800uh66Ywdy",
        "outputId": "fdfc95e6-fab7-4769-eecf-fd6cb7da44f2"
      },
      "execution_count": 51,
      "outputs": [
        {
          "output_type": "stream",
          "name": "stdout",
          "text": [
            "Pclass      0\n",
            "Sex         0\n",
            "Age         0\n",
            "SibSp       0\n",
            "Parch       0\n",
            "Fare        0\n",
            "Embarked    0\n",
            "Deck_1      0\n",
            "Side        0\n",
            "dtype: int64\n"
          ]
        }
      ]
    },
    {
      "cell_type": "code",
      "source": [
        "tree = DecisionTreeClassifier(random_state=RANDOM_STATE)\n",
        "\n",
        "max_depth = [int(x) for x in np.linspace(2, 20, num = 12)]\n",
        "max_depth.append(None)\n",
        "\n",
        "parameters = {\n",
        "              'max_features' : ['sqrt', 'log2'],\n",
        "              'criterion' : [\"gini\", \"entropy\"],\n",
        "              'max_depth' : max_depth,\n",
        "              'splitter' : ['best', 'random'],\n",
        "              }\n",
        "\n",
        "\n",
        "rand_tree = RandomizedSearchCV(tree, parameters, cv=5, verbose=0, n_jobs=-1, scoring='accuracy', random_state=RANDOM_STATE)\n",
        "                       \n",
        "rand_tree.fit(X_train, y_train);"
      ],
      "metadata": {
        "id": "GhD14p8SXXFY"
      },
      "execution_count": 52,
      "outputs": []
    },
    {
      "cell_type": "code",
      "source": [
        "rand_tree.best_params_"
      ],
      "metadata": {
        "colab": {
          "base_uri": "https://localhost:8080/"
        },
        "id": "v8RmaCC0rdHk",
        "outputId": "7b1cdf78-fc9a-4605-9789-75be4e7173b5"
      },
      "execution_count": 53,
      "outputs": [
        {
          "output_type": "execute_result",
          "data": {
            "text/plain": [
              "{'criterion': 'gini',\n",
              " 'max_depth': 13,\n",
              " 'max_features': 'log2',\n",
              " 'splitter': 'random'}"
            ]
          },
          "metadata": {},
          "execution_count": 53
        }
      ]
    },
    {
      "cell_type": "code",
      "source": [
        "rand_tree.best_score_"
      ],
      "metadata": {
        "colab": {
          "base_uri": "https://localhost:8080/"
        },
        "id": "spPUoJjWrfs6",
        "outputId": "666a8567-47ef-40bd-97a2-616fe8ae3ff5"
      },
      "execution_count": 54,
      "outputs": [
        {
          "output_type": "execute_result",
          "data": {
            "text/plain": [
              "0.8090318132571653"
            ]
          },
          "metadata": {},
          "execution_count": 54
        }
      ]
    },
    {
      "cell_type": "code",
      "source": [
        "print(f\"Точность полученых гиперпараметров с помощью случайного поиска по сетке : {rand_tree.score(X_test, y_test)}\")"
      ],
      "metadata": {
        "colab": {
          "base_uri": "https://localhost:8080/"
        },
        "id": "uK6YBW4lriYi",
        "outputId": "749dd41a-f96d-4405-d59f-f75a25ba6681"
      },
      "execution_count": 55,
      "outputs": [
        {
          "output_type": "stream",
          "name": "stdout",
          "text": [
            "Точность полученых гиперпараметров с помощью случайного поиска по сетке : 0.770949720670391\n"
          ]
        }
      ]
    },
    {
      "cell_type": "code",
      "source": [
        "tree_g = DecisionTreeClassifier(random_state=RANDOM_STATE)\n",
        "\n",
        "max_depth = [int(x) for x in np.linspace(1, 30, num = 20)]\n",
        "\n",
        "parameters = {\n",
        "              'max_features' : ['log2', 'sqrt'],\n",
        "              'max_depth' : max_depth,\n",
        "              }\n",
        "\n",
        "tree_grid = GridSearchCV(tree_g, parameters, cv=5, verbose=0, n_jobs=-1, scoring='accuracy')\n",
        "                       \n",
        "tree_grid.fit(X_train, y_train);"
      ],
      "metadata": {
        "id": "qXVLrUTW2l-H"
      },
      "execution_count": 56,
      "outputs": []
    },
    {
      "cell_type": "code",
      "source": [
        "tree_grid.best_params_"
      ],
      "metadata": {
        "colab": {
          "base_uri": "https://localhost:8080/"
        },
        "id": "2GL62QiZ3QZj",
        "outputId": "bcea61d3-c972-4402-a962-6622b956fb88"
      },
      "execution_count": 57,
      "outputs": [
        {
          "output_type": "execute_result",
          "data": {
            "text/plain": [
              "{'max_depth': 7, 'max_features': 'log2'}"
            ]
          },
          "metadata": {},
          "execution_count": 57
        }
      ]
    },
    {
      "cell_type": "code",
      "source": [
        "tree_grid.best_score_"
      ],
      "metadata": {
        "colab": {
          "base_uri": "https://localhost:8080/"
        },
        "id": "z755J66o3Ui5",
        "outputId": "9419024a-41f2-4ddc-d857-fbe0d853047f"
      },
      "execution_count": 58,
      "outputs": [
        {
          "output_type": "execute_result",
          "data": {
            "text/plain": [
              "0.807593814636068"
            ]
          },
          "metadata": {},
          "execution_count": 58
        }
      ]
    },
    {
      "cell_type": "code",
      "source": [
        "print(f\"Точность полученых гиперпараметров с помощью поиска по сетке : {tree_grid.score(X_test, y_test)}\")"
      ],
      "metadata": {
        "colab": {
          "base_uri": "https://localhost:8080/"
        },
        "id": "TmaQ5ne83ZST",
        "outputId": "e42a27ed-b039-4f18-80bd-34f3778e4543"
      },
      "execution_count": 69,
      "outputs": [
        {
          "output_type": "stream",
          "name": "stdout",
          "text": [
            "Точность полученых гиперпараметров с помощью поиска по сетке : 0.7932960893854749\n"
          ]
        }
      ]
    },
    {
      "cell_type": "code",
      "source": [
        "print(f\"На тестовых данных RandomizedSearchCV дает accuracy для Титаника {rand_tree.score(X_test, y_test)}\")\n",
        "print(f\"На тестовых данных GridSearchCV дает accuracy для Титаника {tree_grid.score(X_test, y_test)}\")"
      ],
      "metadata": {
        "colab": {
          "base_uri": "https://localhost:8080/"
        },
        "id": "ZM3-_Yw39A1W",
        "outputId": "85066631-d15d-44ac-b08a-cde378dc4be6"
      },
      "execution_count": 62,
      "outputs": [
        {
          "output_type": "stream",
          "name": "stdout",
          "text": [
            "На тестовых данных RandomizedSearchCV дает accuracy для Титаника 0.770949720670391\n",
            "На тестовых данных GridSearchCV дает accuracy для Титаника 0.7932960893854749\n"
          ]
        }
      ]
    },
    {
      "cell_type": "code",
      "source": [
        "print(f\"Параметры лучших моделей следующие :\")\n",
        "print(f\"            RandomizedSearchCV :  {rand_tree.best_params_}\")\n",
        "print(f\"            GridSearchCV :        {tree_grid.best_params_}\")"
      ],
      "metadata": {
        "colab": {
          "base_uri": "https://localhost:8080/"
        },
        "id": "h2fNL5XI9xvY",
        "outputId": "5641ff14-b531-462d-8430-1de9048dd7fb"
      },
      "execution_count": 64,
      "outputs": [
        {
          "output_type": "stream",
          "name": "stdout",
          "text": [
            "Параметры лучших моделей следующие :\n",
            "            RandomizedSearchCV :  {'splitter': 'random', 'max_features': 'log2', 'max_depth': 13, 'criterion': 'gini'}\n",
            "            GridSearchCV :        {'max_depth': 7, 'max_features': 'log2'}\n"
          ]
        }
      ]
    },
    {
      "cell_type": "code",
      "source": [
        "from sklearn import tree\n",
        "print(' Дерево для RandomizedSearchCV ')\n",
        "plt.figure(figsize=(20,12))\n",
        "tree.plot_tree(rand_tree.best_estimator_, fontsize=6)\n",
        "\n",
        "plt.show()"
      ],
      "metadata": {
        "colab": {
          "base_uri": "https://localhost:8080/",
          "height": 700
        },
        "id": "PgiO3UFSt1xP",
        "outputId": "2875adb2-5c82-4f9c-bda3-59379d067469"
      },
      "execution_count": 67,
      "outputs": [
        {
          "output_type": "stream",
          "name": "stdout",
          "text": [
            " Дерево для RandomizedSearchCV \n"
          ]
        },
        {
          "output_type": "display_data",
          "data": {
            "text/plain": [
              "<Figure size 1440x864 with 1 Axes>"
            ],
            "image/png": "[encoded data removed]"
          },
          "metadata": {}
        }
      ]
    },
    {
      "cell_type": "code",
      "source": [
        "print(' Дерево для GridSearchCV ')\n",
        "# test_tree = rand_tree.best_estimator_.fit(X_train, y_train)\n",
        "plt.figure(figsize=(20,12))\n",
        "tree.plot_tree(tree_grid.best_estimator_, fontsize=6)\n",
        "\n",
        "plt.show()"
      ],
      "metadata": {
        "colab": {
          "base_uri": "https://localhost:8080/",
          "height": 700
        },
        "id": "XiFaAFhiAEB4",
        "outputId": "14572600-1af7-4de7-eb1e-26e582cd36c6"
      },
      "execution_count": 68,
      "outputs": [
        {
          "output_type": "stream",
          "name": "stdout",
          "text": [
            " Дерево для GridSearchCV \n"
          ]
        },
        {
          "output_type": "display_data",
          "data": {
            "text/plain": [
              "<Figure size 1440x864 with 1 Axes>"
            ],
            "image/png": "[encoded data removed]"
          },
          "metadata": {}
        }
      ]
    },
    {
      "cell_type": "markdown",
      "metadata": {
        "id": "KrC_YEZm1aRe"
      },
      "source": [
        "Is it easy to interpret its results? Are you able to explain to a random person why would they survive / die on the titanic?\n",
        "\n",
        "После обработки данных, заполнения пропусков, а также создания новых признаков на основе существующих произведена классификация на основе decisionTreeClassifier. \n",
        "\n",
        "\n",
        "1.    С помощью ***RandomizedSearchCV*** получаем дерево со следующими параметрами:\n",
        "splitter': 'random', 'max_features': 'log2', 'max_depth': 13, 'criterion': 'gini'.\n",
        "\n",
        "   Доля верных ответов на тренировочных данных составляет - 0.809032, а на тестовых - 0.770949.\n",
        " На мой взгляд полученное дерево глубиной 13 достаточно разветвленное и глубокое для трудностей с использованием в ручной классификации выживших на Титанике.\n",
        "\n",
        "2.   С помощью ***GridSearchCV*** получаем дерево со следующими параметрами:\n",
        "'max_depth': 7, 'max_features': 'log2' и по умолчанию критерий Джини.\n",
        "\n",
        "  Доля верных ответов на тренировочных данных составляет - 0.807594, а на тестовых - 0.793296. Полученое дерево имеет более простую структуру и глубину 7.\n",
        "  Думаю для ручного использования человек будет испытывать проблемы для классификации с помощью этого дерева.\n",
        "\n",
        "  Деревья и случайный лес дают хороший результат в классификации. Но для хорошей наглядности автоматическое построения дерева не обладаяет необходимой простотой и его достаточно тяжело интерпретировать, если конечно оно не маленькой глубины.\n",
        "\n",
        "*Краткий вывод по работе*\n",
        "\n",
        "  В данной домашей работе был изучен алгоритм классификации под названием \"решающее дерево\". Были построены графики и посчитаны необходимые метрики. Так же был опробован ансаблевый метод под названием \"случайный лес\" и два метода подбора гиперпараметров. \"Решающее дерево\" было применено к датасету Титаник\n",
        "для определения выживаемости пассажиров. Получены 2  модели, посчитаны метрики и приведены параметры каждой модели.\n",
        "\n",
        "Более подробные выводы написаны под соответсвующими пунктами."
      ]
    }
  ],
  "metadata": {
    "kernelspec": {
      "display_name": "Python 3",
      "language": "python",
      "name": "python3"
    },
    "language_info": {
      "codemirror_mode": {
        "name": "ipython",
        "version": 3
      },
      "file_extension": ".py",
      "mimetype": "text/x-python",
      "name": "python",
      "nbconvert_exporter": "python",
      "pygments_lexer": "ipython3",
      "version": "3.7.7"
    },
    "toc": {
      "base_numbering": 1,
      "nav_menu": {},
      "number_sections": true,
      "sideBar": true,
      "skip_h1_title": false,
      "title_cell": "Table of Contents",
      "title_sidebar": "Contents",
      "toc_cell": false,
      "toc_position": {
        "height": "calc(100% - 180px)",
        "left": "10px",
        "top": "150px",
        "width": "235px"
      },
      "toc_section_display": true,
      "toc_window_display": true
    },
    "colab": {
      "name": "rf_classifier.ipynb",
      "provenance": [],
      "include_colab_link": true
    }
  },
  "nbformat": 4,
  "nbformat_minor": 0
}